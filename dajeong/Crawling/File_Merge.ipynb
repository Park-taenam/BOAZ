{
 "cells": [
  {
   "cell_type": "code",
   "execution_count": 1,
   "metadata": {},
   "outputs": [],
   "source": [
    "import pandas as pd"
   ]
  },
  {
   "cell_type": "code",
   "execution_count": 53,
   "metadata": {},
   "outputs": [],
   "source": [
    "page2_1 = pd.read_csv('hood_2_1_11page.csv', encoding='utf-8')\n",
    "page2_2 = pd.read_csv('hood_2_12_30page.csv', encoding='utf-8')\n",
    "page2_3 = pd.read_csv(\"hood_2_31_40page.csv\", encoding='utf-8')\n",
    "page2_4 = pd.read_csv('hood_2_41_70page.csv', encoding='utf-8')\n",
    "page2_5 = pd.read_csv('hood_2_71_90page.csv', encoding='utf-8')"
   ]
  },
  {
   "cell_type": "code",
   "execution_count": 38,
   "metadata": {},
   "outputs": [
    {
     "name": "stdout",
     "output_type": "stream",
     "text": [
      "(1100, 17)\n",
      "(1800, 17)\n",
      "(1000, 17)\n",
      "(3000, 21)\n",
      "(1908, 17)\n"
     ]
    }
   ],
   "source": [
    "print(page2_1.shape)\n",
    "print(page2_2.shape)\n",
    "print(page2_3.shape)\n",
    "print(page2_4.shape)\n",
    "print(page2_5.shape)"
   ]
  },
  {
   "cell_type": "code",
   "execution_count": 54,
   "metadata": {},
   "outputs": [],
   "source": [
    "page2 = pd.concat([page2_1, page2_2, page2_3, page2_4, page2_5])\n",
    "page2 = page2.iloc[:, 0:17]\n",
    "#page2.to_csv('hood_2page.csv')"
   ]
  },
  {
   "cell_type": "code",
   "execution_count": 40,
   "metadata": {},
   "outputs": [
    {
     "data": {
      "text/plain": [
       "user              0\n",
       "gender          354\n",
       "height          354\n",
       "weight          354\n",
       "item              0\n",
       "size              0\n",
       "star              0\n",
       "content           0\n",
       "size_eval       165\n",
       "bright_eval     165\n",
       "color_eval      165\n",
       "thick_eval      165\n",
       "cm             4877\n",
       "총장             4877\n",
       "어깨너비           4928\n",
       "가슴단면           4877\n",
       "소매길이           4877\n",
       "dtype: int64"
      ]
     },
     "execution_count": 40,
     "metadata": {},
     "output_type": "execute_result"
    }
   ],
   "source": [
    "page2.isnull().sum()"
   ]
  },
  {
   "cell_type": "markdown",
   "metadata": {},
   "source": [
    "- 상의인 후드와 관계없는 컬럼(허리단면, 허벅지단면, 밑위, 밑단단면) 삭제 : 총 17개 칼럼"
   ]
  },
  {
   "cell_type": "code",
   "execution_count": 41,
   "metadata": {},
   "outputs": [
    {
     "data": {
      "text/plain": [
       "(33980, 17)"
      ]
     },
     "execution_count": 41,
     "metadata": {},
     "output_type": "execute_result"
    }
   ],
   "source": [
    "page1_20 = pd.read_csv('hood_1to20.csv', encoding='utf-8')\n",
    "page1_20.shape"
   ]
  },
  {
   "cell_type": "code",
   "execution_count": 42,
   "metadata": {},
   "outputs": [],
   "source": [
    "final = pd.concat([page2, page1_20])\n",
    "#final.to_csv('hood_page1to20_final.csv')"
   ]
  },
  {
   "cell_type": "code",
   "execution_count": 31,
   "metadata": {},
   "outputs": [
    {
     "name": "stdout",
     "output_type": "stream",
     "text": [
      "<class 'pandas.core.frame.DataFrame'>\n",
      "Int64Index: 42788 entries, 0 to 33979\n",
      "Data columns (total 17 columns):\n",
      " #   Column       Non-Null Count  Dtype  \n",
      "---  ------       --------------  -----  \n",
      " 0   user         42788 non-null  object \n",
      " 1   gender       40229 non-null  object \n",
      " 2   height       40229 non-null  object \n",
      " 3   weight       40229 non-null  object \n",
      " 4   item         42788 non-null  object \n",
      " 5   size         42788 non-null  object \n",
      " 6   star         42788 non-null  float64\n",
      " 7   content      42788 non-null  object \n",
      " 8   size_eval    42176 non-null  object \n",
      " 9   bright_eval  42176 non-null  object \n",
      " 10  color_eval   42176 non-null  object \n",
      " 11  thick_eval   42176 non-null  object \n",
      " 12  cm           25232 non-null  object \n",
      " 13  총장           25232 non-null  float64\n",
      " 14  어깨너비         24211 non-null  float64\n",
      " 15  가슴단면         25232 non-null  float64\n",
      " 16  소매길이         25125 non-null  float64\n",
      "dtypes: float64(5), object(12)\n",
      "memory usage: 5.9+ MB\n"
     ]
    }
   ],
   "source": [
    "final.info()"
   ]
  },
  {
   "cell_type": "code",
   "execution_count": 44,
   "metadata": {},
   "outputs": [
    {
     "name": "stdout",
     "output_type": "stream",
     "text": [
      "<class 'pandas.core.frame.DataFrame'>\n",
      "RangeIndex: 42788 entries, 0 to 42787\n",
      "Data columns (total 16 columns):\n",
      " #   Column       Non-Null Count  Dtype  \n",
      "---  ------       --------------  -----  \n",
      " 0   user         42788 non-null  object \n",
      " 1   gender       40229 non-null  object \n",
      " 2   height       40229 non-null  object \n",
      " 3   weight       40229 non-null  object \n",
      " 4   size         42788 non-null  object \n",
      " 5   star         42788 non-null  float64\n",
      " 6   content      42788 non-null  object \n",
      " 7   size_eval    42176 non-null  object \n",
      " 8   bright_eval  42176 non-null  object \n",
      " 9   color_eval   42176 non-null  object \n",
      " 10  thick_eval   42176 non-null  object \n",
      " 11  cm           25232 non-null  object \n",
      " 12  총장           25232 non-null  float64\n",
      " 13  어깨너비         24211 non-null  float64\n",
      " 14  가슴단면         25232 non-null  float64\n",
      " 15  소매길이         25125 non-null  float64\n",
      "dtypes: float64(5), object(11)\n",
      "memory usage: 5.2+ MB\n"
     ]
    }
   ],
   "source": [
    "final.reset_index(drop=True, inplace=True)\n",
    "one = final.iloc[:, [0,1,2,3,5,6,7,8,9,10,11,12,13,14,15,16]]\n",
    "one.info()"
   ]
  },
  {
   "cell_type": "code",
   "execution_count": 47,
   "metadata": {},
   "outputs": [
    {
     "name": "stdout",
     "output_type": "stream",
     "text": [
      "<class 'pandas.core.frame.DataFrame'>\n",
      "Int64Index: 35752 entries, 0 to 42787\n",
      "Data columns (total 17 columns):\n",
      " #   Column       Non-Null Count  Dtype  \n",
      "---  ------       --------------  -----  \n",
      " 0   user         35752 non-null  object \n",
      " 1   gender       33350 non-null  object \n",
      " 2   height       33350 non-null  object \n",
      " 3   weight       33350 non-null  object \n",
      " 4   item         35752 non-null  object \n",
      " 5   size         35752 non-null  object \n",
      " 6   star         35752 non-null  float64\n",
      " 7   content      35752 non-null  object \n",
      " 8   size_eval    35183 non-null  object \n",
      " 9   bright_eval  35183 non-null  object \n",
      " 10  color_eval   35183 non-null  object \n",
      " 11  thick_eval   35183 non-null  object \n",
      " 12  cm           21905 non-null  object \n",
      " 13  총장           21905 non-null  float64\n",
      " 14  어깨너비         20885 non-null  float64\n",
      " 15  가슴단면         21905 non-null  float64\n",
      " 16  소매길이         21798 non-null  float64\n",
      "dtypes: float64(5), object(12)\n",
      "memory usage: 4.9+ MB\n"
     ]
    }
   ],
   "source": [
    "final_nodup = one.drop_duplicates(inplace=False)\n",
    "indexs = final_nodup.index\n",
    "final_nodup = final.iloc[indexs, :]\n",
    "final_nodup.info()"
   ]
  },
  {
   "cell_type": "code",
   "execution_count": 48,
   "metadata": {},
   "outputs": [],
   "source": [
    "final_nodup.to_csv('hood_page1to20_final_nodup.csv')"
   ]
  },
  {
   "cell_type": "code",
   "execution_count": 49,
   "metadata": {},
   "outputs": [
    {
     "data": {
      "text/plain": [
       "(8808, 17)"
      ]
     },
     "execution_count": 49,
     "metadata": {},
     "output_type": "execute_result"
    }
   ],
   "source": [
    "page2.shape"
   ]
  },
  {
   "cell_type": "code",
   "execution_count": 55,
   "metadata": {},
   "outputs": [
    {
     "name": "stdout",
     "output_type": "stream",
     "text": [
      "<class 'pandas.core.frame.DataFrame'>\n",
      "RangeIndex: 8808 entries, 0 to 8807\n",
      "Data columns (total 16 columns):\n",
      " #   Column       Non-Null Count  Dtype  \n",
      "---  ------       --------------  -----  \n",
      " 0   user         8808 non-null   object \n",
      " 1   gender       8454 non-null   object \n",
      " 2   height       8454 non-null   object \n",
      " 3   weight       8454 non-null   object \n",
      " 4   size         8808 non-null   object \n",
      " 5   star         8808 non-null   float64\n",
      " 6   content      8808 non-null   object \n",
      " 7   size_eval    8643 non-null   object \n",
      " 8   bright_eval  8643 non-null   object \n",
      " 9   color_eval   8643 non-null   object \n",
      " 10  thick_eval   8643 non-null   object \n",
      " 11  cm           3931 non-null   object \n",
      " 12  총장           3931 non-null   float64\n",
      " 13  어깨너비         3880 non-null   float64\n",
      " 14  가슴단면         3931 non-null   float64\n",
      " 15  소매길이         3931 non-null   float64\n",
      "dtypes: float64(5), object(11)\n",
      "memory usage: 1.1+ MB\n"
     ]
    }
   ],
   "source": [
    "page2.reset_index(drop=True, inplace=True)\n",
    "two = page2.iloc[:, [0,1,2,3,5,6,7,8,9,10,11,12,13,14,15,16]]\n",
    "two.info()"
   ]
  },
  {
   "cell_type": "code",
   "execution_count": 56,
   "metadata": {},
   "outputs": [
    {
     "name": "stdout",
     "output_type": "stream",
     "text": [
      "<class 'pandas.core.frame.DataFrame'>\n",
      "Int64Index: 6640 entries, 0 to 8607\n",
      "Data columns (total 17 columns):\n",
      " #   Column       Non-Null Count  Dtype  \n",
      "---  ------       --------------  -----  \n",
      " 0   user         6640 non-null   object \n",
      " 1   gender       6300 non-null   object \n",
      " 2   height       6300 non-null   object \n",
      " 3   weight       6300 non-null   object \n",
      " 4   item         6640 non-null   object \n",
      " 5   size         6640 non-null   object \n",
      " 6   star         6640 non-null   float64\n",
      " 7   content      6640 non-null   object \n",
      " 8   size_eval    6475 non-null   object \n",
      " 9   bright_eval  6475 non-null   object \n",
      " 10  color_eval   6475 non-null   object \n",
      " 11  thick_eval   6475 non-null   object \n",
      " 12  cm           2953 non-null   object \n",
      " 13  총장           2953 non-null   float64\n",
      " 14  어깨너비         2902 non-null   float64\n",
      " 15  가슴단면         2953 non-null   float64\n",
      " 16  소매길이         2953 non-null   float64\n",
      "dtypes: float64(5), object(12)\n",
      "memory usage: 933.8+ KB\n"
     ]
    }
   ],
   "source": [
    "page2_nodup = two.drop_duplicates(inplace=False)\n",
    "indexss = page2_nodup.index\n",
    "page2_nodup = page2.iloc[indexss, :]\n",
    "page2_nodup.info()"
   ]
  }
 ],
 "metadata": {
  "kernelspec": {
   "display_name": "Python 3",
   "language": "python",
   "name": "python3"
  },
  "language_info": {
   "codemirror_mode": {
    "name": "ipython",
    "version": 3
   },
   "file_extension": ".py",
   "mimetype": "text/x-python",
   "name": "python",
   "nbconvert_exporter": "python",
   "pygments_lexer": "ipython3",
   "version": "3.8.5"
  }
 },
 "nbformat": 4,
 "nbformat_minor": 4
}
