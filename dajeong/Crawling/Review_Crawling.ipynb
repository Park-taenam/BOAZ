{
 "cells": [
  {
   "cell_type": "markdown",
   "metadata": {},
   "source": [
    "## 무신사 스탠다드 리뷰 크롤링"
   ]
  },
  {
   "cell_type": "markdown",
   "metadata": {},
   "source": [
    "**환경설정**"
   ]
  },
  {
   "cell_type": "code",
   "execution_count": null,
   "metadata": {},
   "outputs": [],
   "source": [
    "#필요하면 설치하기\n",
    "#!pip install html_table_parser\n",
    "#!pip install --upgrade beautifulsoup4"
   ]
  },
  {
   "cell_type": "markdown",
   "metadata": {},
   "source": [
    "**변경 사항**\n",
    "- 리뷰 개수가 100개 이하인 상품도 모두 긁어옴\n",
    "    - 100개 이하 : 모두, 100개 이상 : 100개\n",
    "- 원하는 page에 대한 url을 긁어올 필요 없이, page(n)을 수정해주면 됨"
   ]
  },
  {
   "cell_type": "markdown",
   "metadata": {},
   "source": [
    "**환경 설정**"
   ]
  },
  {
   "cell_type": "code",
   "execution_count": 2,
   "metadata": {},
   "outputs": [],
   "source": [
    "import os\n",
    "import time\n",
    "import re\n",
    "import math\n",
    "\n",
    "import pandas as pd\n",
    "from tqdm import tqdm\n",
    "from bs4 import BeautifulSoup\n",
    "from selenium import webdriver\n",
    "from selenium.webdriver.common.keys import Keys\n",
    "from selenium.webdriver.common.by import By\n",
    "from html_table_parser import parser_functions as parser\n",
    "\n",
    "import collections\n",
    "collections.Callable = collections.abc.Callable\n",
    "\n",
    "import warnings\n",
    "warnings.filterwarnings(\"ignore\")\n",
    "\n",
    "#추가 환경설정\n",
    "from webdriver_manager.chrome import ChromeDriverManager"
   ]
  },
  {
   "cell_type": "code",
   "execution_count": 3,
   "metadata": {},
   "outputs": [],
   "source": [
    "def get_review_content(driver, review_each_num):\n",
    "    '''\n",
    "    크롤링해서 내용 추출하는 함수 \n",
    "    - 상품 클릭한 상태에서 해당 페이지 리뷰 10개 크롤링\n",
    "    '''\n",
    "    html = driver.page_source\n",
    "    soup = BeautifulSoup(html,'lxml')\n",
    "    \n",
    "    # user, gender,height,weight,item, size,content, evaluation(size_eval,bright_eval,color_eval,thick_eval)\n",
    "    user_list = []\n",
    "    gender_list =[]\n",
    "    height_list = []\n",
    "    weight_list =[]\n",
    "    item_list = []\n",
    "    size_list = []\n",
    "    star_list= []\n",
    "    content_list = []\n",
    "    size_eval_list =[]\n",
    "    bright_eval_list =[]\n",
    "    color_eval_list =[]\n",
    "    thick_eval_list =[]\n",
    "    \n",
    "    for i in range(review_each_num):\n",
    "        # profile(gender,height,weight)\n",
    "        # <p class=\"review-profile__body_information\">남성, 177cm, 85kg</p>\n",
    "        try:\n",
    "            profile_before = soup.find_all('p','review-profile__body_information')\n",
    "            profile_after = profile_before[i].text.split(',')\n",
    "            gender = profile_after[0]\n",
    "            height = profile_after[1]\n",
    "            weight = profile_after[2]\n",
    "        except:\n",
    "            gender = ''\n",
    "            height = ''\n",
    "            weight = ''\n",
    "            \n",
    "        # user :<p class=\"review-profile__name\">LV 2 뉴비_95f88e16</p>           \n",
    "        # item: #/<a href=\"https://www.musinsa.com/app/goods/1231416/0\" class=\"review-goods-information__name\">테이퍼드 히든 밴딩 크롭 슬랙스 [더스티 베이지]</a>\n",
    "        # size :<span class=\"review-goods-information__option\">\n",
    "        # content\n",
    "        try:\n",
    "            user = soup.find_all('p','review-profile__name')[i].text\n",
    "            item = soup.find_all('a','review-goods-information__name')[i].text\n",
    "            size = soup.find_all('span', 'review-goods-information__option')[i].text.strip().replace('\\n','') # '/n' 없애고 추출하기\n",
    "            content = soup.find_all('div','review-contents__text')[i].text\n",
    "        except:\n",
    "            user = ''\n",
    "            item = ''\n",
    "            size = ''\n",
    "            content = ''\n",
    "            \n",
    "        #star\n",
    "        #->별 5개일때:<span class=\"review-list__rating__active\" style=\"width: 100%\"></span>\n",
    "        #->별 4개일때:<span class=\"review-list__rating__active\" style=\"width: 80%\"></span>\n",
    "        try:\n",
    "            stars = driver.find_elements_by_xpath('//*[@id=\"reviewListFragment\"]/div['+str(i+1)+']/div[3]/span/span/span')\n",
    "            for j in stars:\n",
    "                a =j.get_attribute('style')\n",
    "                if a[7:9]=='20':\n",
    "                    star = 1\n",
    "                elif a[7:9]=='40':\n",
    "                    star = 2\n",
    "                elif a[7:9]=='60':\n",
    "                    star = 3\n",
    "                elif a[7:9]=='80':\n",
    "                    star = 4\n",
    "                else:\n",
    "                    star = 5\n",
    "        except:\n",
    "            star = ''\n",
    "      \n",
    "        # evaluation\n",
    "        try:\n",
    "            evaluation = soup.find_all('div', 'review-evaluation')\n",
    "            size_eval = evaluation[i].find_all('span')[0].text\n",
    "            bright_eval = evaluation[i].find_all('span')[1].text\n",
    "            color_eval = evaluation[i].find_all('span')[2].text\n",
    "            thick_eval = evaluation[i].find_all('span')[3].text\n",
    "        except:\n",
    "            size_eval = ''\n",
    "            bright_eval = ''\n",
    "            color_eval = ''\n",
    "            thick_eval = ''\n",
    "        \n",
    "        user_list.append(user)\n",
    "        gender_list.append(gender)\n",
    "        height_list.append(height)\n",
    "        weight_list.append(weight)\n",
    "        item_list.append(item)\n",
    "        size_list.append(size)\n",
    "        content_list.append(content)\n",
    "        star_list.append(star)\n",
    "        size_eval_list.append(size_eval)\n",
    "        bright_eval_list.append(bright_eval)\n",
    "        color_eval_list.append(color_eval)\n",
    "        thick_eval_list.append(thick_eval)\n",
    "    \n",
    "    return user_list, gender_list, height_list, weight_list, item_list, size_list, content_list, star_list, size_eval_list, bright_eval_list, color_eval_list, thick_eval_list\n"
   ]
  },
  {
   "cell_type": "code",
   "execution_count": 4,
   "metadata": {},
   "outputs": [],
   "source": [
    "def get_item_content(driver, reviewNum):\n",
    "    lastPage = int(reviewNum/10)+1 # 리뷰 100개 이하일 때 마지막 페이지\n",
    "    lastPage_review_num = int(reviewNum%10) # 리뷰 100개 이하일 때 마지막 페이지 리뷰 수\n",
    "    \n",
    "    # 첫 페이지\n",
    "    page_cnt = 1\n",
    "    print(page_cnt, end=\" \")\n",
    "    if page_cnt == lastPage:\n",
    "        user_list, gender_list, height_list, weight_list, item_list, size_list, content_list, star_list, size_eval_list, bright_eval_list, color_eval_list, thick_eval_list = get_review_content(driver, lastPage_review_num)\n",
    "    else:\n",
    "        user_list, gender_list, height_list, weight_list, item_list, size_list, content_list, star_list, size_eval_list, bright_eval_list, color_eval_list, thick_eval_list = get_review_content(driver, 10)\n",
    "\n",
    "    for i in range(2):\n",
    "        for j in range(4, 9 ,1):\n",
    "            \n",
    "            if page_cnt >= 10: # 리뷰 100개만 긁어야하니 stop\n",
    "                break\n",
    "            if page_cnt == lastPage: # 리뷰가 100개 이하면 마지막 페이지에서 더 이상 못 넘기므로 stop\n",
    "                break\n",
    "            \n",
    "            try:\n",
    "                if j in [4,5,6,7]:\n",
    "                    driver.find_element_by_css_selector('#reviewListFragment > div.nslist_bottom > div.pagination.textRight > div > a:nth-child(' + str(int(j)) + ')').send_keys(Keys.ENTER)\n",
    "                elif j == 8:\n",
    "                    driver.find_element_by_css_selector('#reviewListFragment > div.nslist_bottom > div.pagination.textRight > div > a.fa.fa-angle-right.paging-btn.btn.next').send_keys(Keys.ENTER)\n",
    "                page_cnt += 1\n",
    "                print(page_cnt, end=\" \")\n",
    "            except:\n",
    "                print('{}, {} button click except'.format(i, j))\n",
    "            time.sleep(2)\n",
    "\n",
    "            \n",
    "            # 첫 페이지 이외의 페이지 정보 첫 페이지 리스트에 추가\n",
    "            # 마지막 페이지는 10개가 안될 수 있어 조건 부여\n",
    "            if page_cnt == lastPage:\n",
    "                user_list_1, gender_list_1, height_list_1, weight_list_1, item_list_1, size_list_1, content_list_1, star_list_1, size_eval_list_1, bright_eval_list_1, color_eval_list_1, thick_eval_list_1 = get_review_content(driver, lastPage_review_num)\n",
    "            else:\n",
    "                user_list_1, gender_list_1, height_list_1, weight_list_1, item_list_1, size_list_1, content_list_1, star_list_1, size_eval_list_1, bright_eval_list_1, color_eval_list_1, thick_eval_list_1 = get_review_content(driver, 10)\n",
    "            \n",
    "            user_list.extend(user_list_1)\n",
    "            gender_list.extend(gender_list_1)\n",
    "            height_list.extend(height_list_1)\n",
    "            weight_list.extend(weight_list_1)\n",
    "            item_list.extend(item_list_1)\n",
    "            size_list.extend(size_list_1)\n",
    "            content_list.extend(content_list_1)\n",
    "            star_list.extend(star_list_1)\n",
    "            size_eval_list.extend(size_eval_list_1)\n",
    "            bright_eval_list.extend(bright_eval_list_1)\n",
    "            color_eval_list.extend(color_eval_list_1)\n",
    "            thick_eval_list.extend(thick_eval_list_1)\n",
    "            \n",
    "            time.sleep(2)\n",
    "\n",
    "    item_review_df = pd.DataFrame({'user':user_list,\n",
    "                                   'gender':gender_list,\n",
    "                                   'height':height_list,\n",
    "                                   'weight':weight_list,\n",
    "                                   'item':item_list,\n",
    "                                   'size':size_list,\n",
    "                                   'star':star_list,\n",
    "                                   'content':content_list,\n",
    "                                   'size_eval':size_eval_list,\n",
    "                                   'bright_eval':bright_eval_list,\n",
    "                                   'color_eval':color_eval_list,\n",
    "                                   'thick_eval':thick_eval_list})\n",
    "            \n",
    "    return item_review_df\n",
    "    \n",
    "\n",
    "def get_data(driver, page_url, start_item, item_cnt):\n",
    "    final_df = pd.DataFrame() # item 90개 정보 담은 최종 DataFrame\n",
    "    \n",
    "    # 후기순 90개 자동으로 클릭하기\n",
    "\n",
    "    for t in tqdm(range(start_item, item_cnt+1,1), desc = \"Description\"):\n",
    "        print(\"Item {} : \".format(t), end = \" \")\n",
    "        ## 상품 클릭\n",
    "        try: \n",
    "            # #searchList > li:nth-child(1) > div.li_inner > div.list_img > a > img\n",
    "            # #searchList > li:nth-child(90) > div.li_inner > div.list_img > a > img\n",
    "            driver.find_element_by_css_selector('#searchList > li:nth-child(' + str(t) + ') > div.li_inner > div.list_img > a').click()\n",
    "            time.sleep(2)\n",
    "        except:\n",
    "            print(\"item click issue\")\n",
    "            continue\n",
    "        \n",
    "        ## 팝업 처리\n",
    "        # 일단 빈공간 클릭 -> 창이 랜덤으로 뜨기 때문에 빈곳을 클릭하면 팝업이 뜨는 경우가 있음\n",
    "        driver.find_element_by_xpath('//*[@id=\"product_order_info\"]/div[1]/h4')\n",
    "        time.sleep(2)\n",
    "        \n",
    "        try:\n",
    "            #무신사쿠폰 팝업창: 해당 팝업이 뜨면 나머지 선택 안됨\n",
    "            driver.find_element_by_xpath('/html/body/div/div/div/button').click()\n",
    "            time.sleep(2)\n",
    "            #입고지연팝업창: 삭제안해도 나머지 구동 가능\n",
    "            #driver.find_element_by_xpath('//*[@id=\"divpop_goods_niceghostclub_8451\"]/form/button[2]').click()\n",
    "            #무신사회원혜택 팝업창 :삭제안해도 나머지 구동가능\n",
    "            #driver.find_element_by_xpath('//*[@id=\"page_product_detail\"]/div[3]/div[23]/div/a[1]/img').click()\n",
    "        except:\n",
    "            pass\n",
    "            \n",
    "        ## 사이즈표 추출\n",
    "        try:\n",
    "            html = driver.page_source\n",
    "            soup = BeautifulSoup(html,'html.parser')\n",
    "            figure = soup.find('table',{'class':'table_th_grey'})\n",
    "            p = parser.make2d(figure)\n",
    "            figure_df = pd.DataFrame(data = p[1:],columns = p[0])\n",
    "            figure_df.drop([0,1],inplace = True)\n",
    "        except:\n",
    "            print(\"사이즈표 오류발생\")\n",
    "            \n",
    "            \n",
    "        ## 리뷰개수 체크\n",
    "        try:\n",
    "            reviewNum = driver.find_element_by_xpath('//*[@id=\"estimate_style\"]')\n",
    "            reviewNum = reviewNum.text\n",
    "            reviewNum = re.sub(r'[^0-9]','',reviewNum)\n",
    "            reviewNum = int(reviewNum)\n",
    "        except:\n",
    "            print(\"리뷰개수 오류발생\")\n",
    "            reviewNum = 0\n",
    "        \n",
    "        ## 각 상품에 해당하는 리뷰 추출\n",
    "        item_review_df = get_item_content(driver, reviewNum)\n",
    "        \n",
    "        merge_df = pd.merge(item_review_df, figure_df, how = 'left', left_on = 'size', right_on = 'cm')\n",
    "        print(merge_df.shape)\n",
    "        \n",
    "        final_df = pd.concat([final_df, merge_df])\n",
    "        \n",
    "        #뒤로가기\n",
    "        driver.get(page_url)\n",
    "        time.sleep(2)\n",
    "\n",
    "    return final_df"
   ]
  },
  {
   "cell_type": "code",
   "execution_count": 5,
   "metadata": {
    "scrolled": true
   },
   "outputs": [
    {
     "name": "stdout",
     "output_type": "stream",
     "text": [
      "\n"
     ]
    },
    {
     "name": "stderr",
     "output_type": "stream",
     "text": [
      "\r\n",
      "Description:   0%|                                                                              | 0/11 [00:00<?, ?it/s]"
     ]
    },
    {
     "name": "stdout",
     "output_type": "stream",
     "text": [
      "Item 1 :  1 2 3 4 5 6 7 8 9 10 (100, 17)\n"
     ]
    },
    {
     "name": "stderr",
     "output_type": "stream",
     "text": [
      "\r\n",
      "Description:   9%|██████▎                                                              | 1/11 [04:33<45:38, 273.81s/it]"
     ]
    },
    {
     "name": "stdout",
     "output_type": "stream",
     "text": [
      "Item 2 :  1 2 3 4 5 6 7 8 9 10 (100, 17)\n"
     ]
    },
    {
     "name": "stderr",
     "output_type": "stream",
     "text": [
      "\r\n",
      "Description:  18%|████████████▌                                                        | 2/11 [08:12<38:35, 257.32s/it]"
     ]
    },
    {
     "name": "stdout",
     "output_type": "stream",
     "text": [
      "Item 3 :  1 2 3 4 5 6 7 8 9 10 (100, 17)\n"
     ]
    },
    {
     "name": "stderr",
     "output_type": "stream",
     "text": [
      "\r\n",
      "Description:  27%|██████████████████▊                                                  | 3/11 [11:49<32:40, 245.07s/it]"
     ]
    },
    {
     "name": "stdout",
     "output_type": "stream",
     "text": [
      "Item 4 :  1 2 3 4 5 6 7 8 9 10 (100, 17)\n"
     ]
    },
    {
     "name": "stderr",
     "output_type": "stream",
     "text": [
      "\r\n",
      "Description:  36%|█████████████████████████                                            | 4/11 [15:12<27:07, 232.57s/it]"
     ]
    },
    {
     "name": "stdout",
     "output_type": "stream",
     "text": [
      "Item 5 :  1 2 3 4 5 6 7 8 9 10 (100, 17)\n"
     ]
    },
    {
     "name": "stderr",
     "output_type": "stream",
     "text": [
      "\r\n",
      "Description:  45%|███████████████████████████████▎                                     | 5/11 [18:55<22:57, 229.60s/it]"
     ]
    },
    {
     "name": "stdout",
     "output_type": "stream",
     "text": [
      "Item 6 :  1 2 3 4 5 6 7 8 9 10 (100, 17)\n"
     ]
    },
    {
     "name": "stderr",
     "output_type": "stream",
     "text": [
      "\r\n",
      "Description:  55%|█████████████████████████████████████▋                               | 6/11 [22:57<19:26, 233.28s/it]"
     ]
    },
    {
     "name": "stdout",
     "output_type": "stream",
     "text": [
      "Item 7 :  1 2 3 4 5 6 7 8 9 10 (100, 17)\n"
     ]
    },
    {
     "name": "stderr",
     "output_type": "stream",
     "text": [
      "\r\n",
      "Description:  64%|███████████████████████████████████████████▉                         | 7/11 [26:39<15:20, 230.08s/it]"
     ]
    },
    {
     "name": "stdout",
     "output_type": "stream",
     "text": [
      "Item 8 :  1 2 3 4 5 6 7 8 9 10 (100, 17)\n"
     ]
    },
    {
     "name": "stderr",
     "output_type": "stream",
     "text": [
      "\r\n",
      "Description:  73%|██████████████████████████████████████████████████▏                  | 8/11 [30:30<11:31, 230.45s/it]"
     ]
    },
    {
     "name": "stdout",
     "output_type": "stream",
     "text": [
      "Item 9 :  1 2 3 4 5 6 7 8 9 10 (100, 16)\n"
     ]
    },
    {
     "name": "stderr",
     "output_type": "stream",
     "text": [
      "\r\n",
      "Description:  82%|████████████████████████████████████████████████████████▍            | 9/11 [33:51<07:23, 221.58s/it]"
     ]
    },
    {
     "name": "stdout",
     "output_type": "stream",
     "text": [
      "Item 10 :  1 2 3 4 5 6 7 8 9 10 (100, 17)\n"
     ]
    },
    {
     "name": "stderr",
     "output_type": "stream",
     "text": [
      "\r\n",
      "Description:  91%|█████████████████████████████████████████████████████████████▊      | 10/11 [37:11<03:35, 215.11s/it]"
     ]
    },
    {
     "name": "stdout",
     "output_type": "stream",
     "text": [
      "Item 11 :  1 2 3 4 5 6 7 8 9 10 (100, 17)\n"
     ]
    },
    {
     "name": "stderr",
     "output_type": "stream",
     "text": [
      "Description: 100%|████████████████████████████████████████████████████████████████████| 11/11 [41:01<00:00, 223.77s/it]\n"
     ]
    },
    {
     "name": "stdout",
     "output_type": "stream",
     "text": [
      "최종개수: (1100, 17)\n",
      "2472.06932 sec\n"
     ]
    }
   ],
   "source": [
    "if __name__=='__main__':\n",
    "    page = 2\n",
    "    page_url = 'https://www.musinsa.com/categories/item/001004?d_cat_cd=001004&brand=&list_kind=small&sort=emt_high&sub_sort=&page={}&display_cnt=90&group_sale=&exclusive_yn=&sale_goods=&timesale_yn=&ex_soldout=&kids=&color=&price1=&price2=&shoeSizeOption=&tags=&campaign_id=&includeKeywords=&measure='.format(str(page))\n",
    "    \n",
    "    options = webdriver.ChromeOptions()\n",
    "    options.add_experimental_option(\"excludeSwitches\", [\"enable-logging\"])\n",
    "    options.add_experimental_option(\"detach\", True) # 마지막에 창 안닫히게\n",
    "    \n",
    "    driver = webdriver.Chrome(ChromeDriverManager().install(), options=options)\n",
    "    #driver = webdriver.Chrome(\"./chromedriver.exe\", options=options) #원래 driver 코드\n",
    "    \n",
    "    driver.get(page_url)\n",
    "    time.sleep(3)\n",
    "\n",
    "    start = time.time()\n",
    "\n",
    "    start_item = 1\n",
    "    item_cnt = 11\n",
    "    # re_cnt = 100  # 기준으로 잡은 스타일후기리뷰 개수 (우선 생략)\n",
    "    \n",
    "    # 크롤링 진행\n",
    "    final_df = get_data(driver, page_url, start_item, item_cnt)\n",
    "\n",
    "    # 창 종료\n",
    "    driver.quit()  \n",
    "    \n",
    "    # final_df.drop_duplicates(subset = None, keep = 'first', inplace = True, ignore_index = True) # 중복아이템 제거 (나중에 합치고 체크)\n",
    "    print('최종개수:',final_df.shape) #최종 data: final_df\n",
    "    \n",
    "    end = time.time()\n",
    "    print(\"{:.5f} sec\".format(end-start))\n",
    "\n",
    "    # csv로 저장\n",
    "    final_df.to_csv(\"hood_2_1_11page.csv\", encoding=\"UTF-8\", index=False)\n"
   ]
  },
  {
   "cell_type": "markdown",
   "metadata": {},
   "source": [
    "- page2(12-30) - 1,800개 - 2,653초 - 크롤링완\n",
    "- page2(31-40) - 1,000개 - 1,985초 - 크롤링완\n",
    "- page2(41-70) - 3,000개 - 5,802초 - 크로링완\n",
    "- page6   - 6,419개 - 9,689초 - 크롤링완\n",
    "- page10 - 5,154개 - 7,317초 - 크롤링완\n",
    "- page14 - 3,673개 - 6,197초 - 크롤링완\n",
    "- page18 - 2,445개 - 7,433초 - 크롤링완"
   ]
  },
  {
   "cell_type": "markdown",
   "metadata": {},
   "source": [
    "### 무신사 리뷰 크롤링\n",
    "- 주은언니깃헙코드 수정버전"
   ]
  },
  {
   "cell_type": "markdown",
   "metadata": {},
   "source": [
    "- BeautifulSoup 업데이트로 에러 발생\n",
    "- 'AttributeError : module 'html5lib.treebuilders' has no attribute '_base''\n",
    "- pip install --upgrade beautifulsoup4"
   ]
  },
  {
   "cell_type": "code",
   "execution_count": null,
   "metadata": {},
   "outputs": [],
   "source": [
    "import warnings\n",
    "warnings.filterwarnings(\"ignore\")\n",
    "from selenium import webdriver\n",
    "from bs4 import BeautifulSoup\n",
    "import time\n",
    "import re\n",
    "import time\n",
    "import pandas as pd\n",
    "\n",
    "from selenium.webdriver.common.keys import Keys\n",
    "from selenium.webdriver.common.by import By\n",
    "from html_table_parser import parser_functions as parser"
   ]
  },
  {
   "cell_type": "code",
   "execution_count": null,
   "metadata": {},
   "outputs": [],
   "source": [
    "#함수정의:검색어 조건에 따른 url생성\n",
    "#무신사 스탠다드->후기순->벨트 및 양말 등 잡화제외 1위 상품\n",
    "def musinsa_searching(word):\n",
    "  url = \"https://www.musinsa.com/app/goods/1149328\" \n",
    "  return url"
   ]
  },
  {
   "cell_type": "code",
   "execution_count": null,
   "metadata": {},
   "outputs": [],
   "source": [
    "from selenium.webdriver.common.keys import Keys\n",
    "#가져오고싶은 상품 페이지 가져오기\n",
    "#일단 후드-후기순-3번째페이지 링크 수기로 입력\n",
    "url = 'https://www.musinsa.com/categories/item/001004?d_cat_cd=001004&brand=&list_kind=small&sort=emt_high&sub_sort=&page=3&display_cnt=90&group_sale=&exclusive_yn=&sale_goods=&timesale_yn=&ex_soldout=&kids=&color=&price1=&price2=&shoeSizeOption=&tags=&campaign_id=&includeKeywords=&measure='\n",
    "\n",
    "from webdriver_manager.chrome import ChromeDriverManager\n",
    "options = webdriver.ChromeOptions()\n",
    "options.add_experimental_option('excludeSwitches', ['enable-logging'])\n",
    "\n",
    "driver = webdriver.Chrome(ChromeDriverManager().install(), options=options)\n",
    "driver.get(url)\n",
    "time.sleep(5)"
   ]
  },
  {
   "cell_type": "code",
   "execution_count": null,
   "metadata": {},
   "outputs": [],
   "source": [
    "#각 리뷰에서 아래의 값들을 추출하는 함수 정의\n",
    "#user, gender,height,weight,item, size,content, evaluation(size_eval,bright_eval,color_eval,thick_eval)\n",
    "user_list = []\n",
    "gender_list =[]\n",
    "height_list = []\n",
    "weight_list =[]\n",
    "item_list = []\n",
    "size_list = []\n",
    "star_list= []\n",
    "content_list = []\n",
    "size_eval_list =[]\n",
    "bright_eval_list =[]\n",
    "color_eval_list =[]\n",
    "thick_eval_list =[]\n",
    "\n",
    "#함수정의\n",
    "def get_content(driver):\n",
    "    #함수안에 html, soup 넣어놔야 페이지 넘어가서 바르게 긁어옴, 밖에 빼놓으면 첫페이지만 여러번 긁어진다.\n",
    "    html = driver.page_source\n",
    "    soup = BeautifulSoup(html,'lxml')\n",
    "    for i in range(10):\n",
    "    \n",
    "    #한 페이지당 10개의 리뷰씩 긁어와야하므로\n",
    "    #profile(gender,height,weight)\n",
    "    #남성, 177cm, 85kg\n",
    "\n",
    "        profile_before = soup.find_all('p','review-profile__body_information')\n",
    "        profile_after = profile_before[i].text.split(',')\n",
    "        try:\n",
    "            gender = profile_after[0]\n",
    "            height = profile_after[1]\n",
    "            weight = profile_after[2]\n",
    "        except:\n",
    "            gender = ''\n",
    "            height = ''\n",
    "            weight = ''\n",
    "#user :LV 2 뉴비_95f88e16\n",
    "\n",
    "           \n",
    "#item: #/테이퍼드 히든 밴딩 크롭 슬랙스 [더스티 베이지]\n",
    "#size :\n",
    "#content\n",
    "\n",
    "        try:\n",
    "            user = soup.find_all('p','review-profile__name')[i].text\n",
    "            item = soup.find_all('a','review-goods-information__name')[i].text\n",
    "            # '/n' 없애고 추출하기\n",
    "            size = soup.find_all('span', 'review-goods-information__option')[i].text.strip().replace('\\n','')\n",
    "            content = soup.find_all('div','review-contents__text')[i].text\n",
    "        except:\n",
    "            user = ''\n",
    "            item = ''\n",
    "            size = ''\n",
    "            content = ''\n",
    "            \n",
    "        #star\n",
    "#->별 5개일때:\n",
    "#->별 4개일때:\n",
    "        stars = driver.find_elements_by_xpath('//*[@id=\"reviewListFragment\"]/div['+str(i+1)+']/div[3]/span/span/span')\n",
    "        try:\n",
    "            for j in stars:\n",
    "                a =j.get_attribute('style')\n",
    "                if a[7:9]=='20':\n",
    "                    star = 1\n",
    "                elif a[7:9]=='40':\n",
    "                    star = 2\n",
    "                elif a[7:9]=='60':\n",
    "                    star = 3\n",
    "                elif a[7:9]=='80':\n",
    "                    star = 4\n",
    "                else:\n",
    "                    star = 5\n",
    "        except:\n",
    "            star = ''\n",
    "      \n",
    "\n",
    "    #evaluation\n",
    "        evaluation = soup.find_all('div', 'review-evaluation')\n",
    "        try:\n",
    "            size_eval = evaluation[i].find_all('span')[0].text\n",
    "            bright_eval = evaluation[i].find_all('span')[1].text\n",
    "            color_eval = evaluation[i].find_all('span')[2].text\n",
    "            thick_eval = evaluation[i].find_all('span')[3].text\n",
    "        except:\n",
    "            size_eval = ''\n",
    "            bright_eval = ''\n",
    "            color_eval = ''\n",
    "            thick_eval = ''\n",
    "\n",
    "#user,gender,height,weight,item, size,content,star,size_eval,bright_eval,color_eval,thick_eval\n",
    "        \n",
    "        user_list.append(user)\n",
    "        gender_list.append(gender)\n",
    "        height_list.append(height)\n",
    "        weight_list.append(weight)\n",
    "        item_list.append(item)\n",
    "        size_list.append(size)\n",
    "        content_list.append(content)\n",
    "        star_list.append(star)\n",
    "        size_eval_list.append(size_eval)\n",
    "        bright_eval_list.append(bright_eval)\n",
    "        color_eval_list.append(color_eval)\n",
    "        thick_eval_list.append(thick_eval)\n",
    " "
   ]
  },
  {
   "cell_type": "code",
   "execution_count": null,
   "metadata": {},
   "outputs": [],
   "source": [
    "#버튼 누르기 함수정의\n",
    "def move_next(driver):    \n",
    "    for i in range(4):\n",
    "        get_content(driver)\n",
    "        #페이지 2,3,4,5 넘어가기\n",
    "        driver.find_element_by_css_selector('#reviewListFragment > div.nslist_bottom > div.pagination.textRight > div > a:nth-child(' + \n",
    "                                            str(int(4) + int(i)) + ')').send_keys(Keys.ENTER)\n",
    "        time.sleep(2)\n",
    "    get_content(driver)\n",
    "    \n",
    "#그다음 화살표'>'버튼누르기: (6,7,8...)있는 페이지로 넘어가기   \n",
    "def move_arrow(driver):\n",
    "    driver.find_element_by_css_selector('#reviewListFragment > div.nslist_bottom > div.pagination.textRight > div > a.fa.fa-angle-right.paging-btn.btn.next').send_keys(Keys.ENTER)\n"
   ]
  },
  {
   "cell_type": "markdown",
   "metadata": {},
   "source": [
    "**크롤링 시작**"
   ]
  },
  {
   "cell_type": "code",
   "execution_count": null,
   "metadata": {},
   "outputs": [],
   "source": [
    "from selenium.webdriver.common.keys import Keys\n",
    "#가져오고싶은 상품 페이지 가져오기\n",
    "#일단 후드-후기순-n번째페이지 url 수기로 입력\n",
    "url = 'https://www.musinsa.com/categories/item/001004?d_cat_cd=001004&brand=&list_kind=small&sort=emt_high&sub_sort=&page=7&display_cnt=90&group_sale=&exclusive_yn=&sale_goods=&timesale_yn=&ex_soldout=&kids=&color=&price1=&price2=&shoeSizeOption=&tags=&campaign_id=&includeKeywords=&measure='\n",
    "\n",
    "from webdriver_manager.chrome import ChromeDriverManager\n",
    "options = webdriver.ChromeOptions()\n",
    "options.add_experimental_option('excludeSwitches', ['enable-logging'])\n",
    "#알림창 닫는 옵션인데 안먹힘\n",
    "#options.add_experimental_option('prefs', {'profile.default_content_setting_values.notifications' : 1})\n",
    "\n",
    "driver = webdriver.Chrome(ChromeDriverManager().install(), options=options)\n",
    "driver.get(url)\n",
    "time.sleep(2)"
   ]
  },
  {
   "cell_type": "code",
   "execution_count": null,
   "metadata": {},
   "outputs": [],
   "source": [
    "#후기순 90개 자동으로 클릭하기\n",
    "#뒤로가기 참고: https://m.blog.naver.com/mathesis_time/221970036063\n",
    "# #searchList > li:nth-child(1) > div.li_inner > div.list_img > a > img\n",
    "# #searchList > li:nth-child(2) > div.li_inner > div.list_img > a > img\n",
    "# #searchList > li:nth-child(90) > div.li_inner > div.list_img > a > img\n",
    "#90개: 90\n",
    "import math\n",
    "import time\n",
    "\n",
    "start = time.time()\n",
    "math.factorial(100000)\n",
    "\n",
    "#a값은 상품을 변경할때마다 변경해주어야함\n",
    "a = 68\n",
    "#상품개수에 따라 숫자 바꾸기\n",
    "for i in range(67,90,1):\n",
    "    driver.get(url)\n",
    "    driver.find_element_by_css_selector('#searchList > li:nth-child(' +\n",
    "                                            str(int(i)+int(1)) +\n",
    "                                            ') > div.li_inner > div.list_img > a > img').click()\n",
    "    time.sleep(2)\n",
    "    try:\n",
    "        driver.find_element_by_xpath('/html/body/div/div/div/button').click()\n",
    "        driver.find_element_by_xpath('//*[@id=\"divpop_goods_niceghostclub_8451\"]/form/button[2]').click()\n",
    "    except:\n",
    "        pass\n",
    "    \n",
    "    #사이즈표\n",
    "    try:\n",
    "        html = driver.page_source\n",
    "        soup = BeautifulSoup(html,'html.parser')\n",
    "        figure = soup.find('table',{'class':'table_th_grey'})\n",
    "        p = parser.make2d(figure)\n",
    "        figure_df = pd.DataFrame(data = p[1:],columns = p[0])\n",
    "        figure_df.drop([0,1],inplace = True)\n",
    "        print(figure_df)\n",
    "    except:\n",
    "        print(\"사이즈표 오류발생\")\n",
    "        \n",
    "    #리뷰개수\n",
    "    try:\n",
    "        reviewNum = driver.find_element_by_css_selector('#estimate_style')\n",
    "        reviewNum = reviewNum.text\n",
    "        reviewNum = re.sub(r'[^0-9]','',reviewNum)\n",
    "        reviewNum = int(reviewNum)\n",
    "        print(reviewNum)\n",
    "    except:\n",
    "        print(\"리뷰개수 오류발생\")\n",
    "        \n",
    "\n",
    "    user_list = []\n",
    "    gender_list =[]\n",
    "    height_list = []\n",
    "    weight_list =[]\n",
    "    item_list = []\n",
    "    size_list = []\n",
    "    star_list= []\n",
    "    content_list = []\n",
    "    size_eval_list =[]\n",
    "    bright_eval_list =[]\n",
    "    color_eval_list =[]\n",
    "    thick_eval_list =[]\n",
    "        \n",
    "    #스타일후기리뷰 100개넘으면 진행,아니라면 진행 X\n",
    "    if reviewNum >= 100:\n",
    "        #크롤링\n",
    "        #10:500개, 2:100개\n",
    "        for i in range(2):\n",
    "            try:\n",
    "                move_next(driver)\n",
    "                move_arrow(driver)\n",
    "        #move_next(driver)\n",
    "            except:\n",
    "                time.sleep(2)\n",
    "\n",
    "    else:\n",
    "        driver.get(url)\n",
    "        time.sleep(2)    \n",
    "        \n",
    "    globals()[\"df\"+str(a)] = pd.DataFrame({'user':user_list,\n",
    "                                           'gender':gender_list,\n",
    "                                           'height':height_list,\n",
    "                                           'weight':weight_list,\n",
    "                                            'item':item_list,\n",
    "                                            'size':size_list,\n",
    "                                            'star':star_list,\n",
    "                                            'content':content_list,\n",
    "                                            'size_eval':size_eval_list,\n",
    "                                            'bright_eval':bright_eval_list,\n",
    "                                            'color_eval':color_eval_list,\n",
    "                                            'thick_eval':thick_eval_list})          \n",
    "    #사이즈표와 리뷰 merge\n",
    "    time.sleep(2) \n",
    "    globals()[\"merge_df\"+str(a)] = pd.merge(globals()[\"df\"+str(a)],figure_df,how = 'left',left_on = 'size',right_on = 'cm')\n",
    "    a = a + 1 \n",
    "    \n",
    "end = time.time()\n",
    "print(f\"{end - start:.5f} sec\")"
   ]
  },
  {
   "cell_type": "markdown",
   "metadata": {},
   "source": [
    "**크롤링 리뷰 개수 확인**"
   ]
  },
  {
   "cell_type": "code",
   "execution_count": null,
   "metadata": {},
   "outputs": [],
   "source": [
    "print(merge_df1.shape)\n",
    "print(merge_df2.shape)\n",
    "print(merge_df3.shape)\n",
    "print(merge_df4.shape)\n",
    "print(merge_df5.shape)\n",
    "print(merge_df6.shape)\n",
    "print(merge_df7.shape)\n",
    "print(merge_df8.shape)\n",
    "print(merge_df9.shape)\n",
    "print(merge_df10.shape)"
   ]
  },
  {
   "cell_type": "code",
   "execution_count": null,
   "metadata": {},
   "outputs": [],
   "source": [
    "page7 = pd.concat([merge_df1,merge_df2,merge_df3,merge_df4,merge_df5,merge_df6,merge_df7,merge_df8,merge_df9,merge_df10,\n",
    "                   merge_df11,merge_df12,merge_df13,merge_df14,merge_df15,merge_df16,merge_df17,merge_df18,merge_df19,merge_df20,\n",
    "                   merge_df21,merge_df22,merge_df23,merge_df24,merge_df25,merge_df26,merge_df27,merge_df28,merge_df29,merge_df30,\n",
    "                   merge_df31,merge_df32,merge_df33,merge_df34,merge_df35,merge_df36,merge_df37,merge_df38,merge_df39,merge_df40,\n",
    "                   merge_df41,merge_df42,merge_df43,merge_df44,merge_df45,merge_df46,merge_df47,merge_df48,merge_df49,merge_df50,\n",
    "                   merge_df51,merge_df52,merge_df53,merge_df54,merge_df55,merge_df56,merge_df57,merge_df58,merge_df59,merge_df60,\n",
    "                   merge_df61,merge_df62,merge_df63,merge_df64,merge_df65,merge_df66,merge_df67,merge_df68,merge_df69,merge_df70,\n",
    "                   merge_df71,merge_df72,merge_df73,merge_df74,merge_df75,merge_df76,merge_df77,merge_df78,merge_df79,merge_df80,\n",
    "                   merge_df81,merge_df82,merge_df83,merge_df84,merge_df85,merge_df86,merge_df87,merge_df88,merge_df89,merge_df90,\n",
    "                  ], axis=0)"
   ]
  },
  {
   "cell_type": "markdown",
   "metadata": {},
   "source": [
    "**중복되는 관측치 제거**"
   ]
  },
  {
   "cell_type": "code",
   "execution_count": null,
   "metadata": {},
   "outputs": [],
   "source": [
    "page7.info() #1-12 이 동일한 관측치들만 뽑아내기"
   ]
  },
  {
   "cell_type": "code",
   "execution_count": null,
   "metadata": {},
   "outputs": [],
   "source": [
    "df = page7.iloc[:,[0,1,2,3,5,6,7,8,9,10,11]]\n",
    "df.head(5)"
   ]
  },
  {
   "cell_type": "code",
   "execution_count": null,
   "metadata": {},
   "outputs": [],
   "source": [
    "page7.reset_index(inplace=True, drop=True)\n",
    "page7"
   ]
  },
  {
   "cell_type": "code",
   "execution_count": null,
   "metadata": {},
   "outputs": [],
   "source": [
    "df.reset_index(inplace=True, drop=True)\n",
    "df"
   ]
  },
  {
   "cell_type": "code",
   "execution_count": null,
   "metadata": {},
   "outputs": [],
   "source": [
    "df1 = df.drop_duplicates(subset=None, keep='first', inplace=False)\n",
    "df1"
   ]
  },
  {
   "cell_type": "code",
   "execution_count": null,
   "metadata": {},
   "outputs": [],
   "source": [
    "page7_nodup = page7.iloc[df1.index, :]"
   ]
  },
  {
   "cell_type": "code",
   "execution_count": null,
   "metadata": {},
   "outputs": [],
   "source": [
    "page7.to_csv('page7_product90.csv', encoding='utf-8')"
   ]
  },
  {
   "cell_type": "code",
   "execution_count": null,
   "metadata": {},
   "outputs": [],
   "source": [
    "page7_nodup.to_csv('page7_product90_nodup.csv', encoding='utf-8')"
   ]
  },
  {
   "cell_type": "markdown",
   "metadata": {},
   "source": [
    "### 무신사 리뷰 크롤링\n",
    "- 12월 14일 기준 - 주은언니깃헙"
   ]
  },
  {
   "cell_type": "code",
   "execution_count": null,
   "metadata": {},
   "outputs": [],
   "source": [
    "#환경설정\n",
    "import warnings\n",
    "warnings.filterwarnings(\"ignore\")\n",
    "from selenium import webdriver\n",
    "from bs4 import BeautifulSoup\n",
    "import time\n",
    "import re\n",
    "import math\n",
    "import pandas as pd\n",
    "\n",
    "from selenium.webdriver.common.keys import Keys\n",
    "from selenium.webdriver.common.by import By\n",
    "from html_table_parser import parser_functions as parser"
   ]
  },
  {
   "cell_type": "code",
   "execution_count": null,
   "metadata": {},
   "outputs": [],
   "source": [
    "#필요한 함수정의\n",
    "user_list = []\n",
    "gender_list =[]\n",
    "height_list = []\n",
    "weight_list =[]\n",
    "item_list = []\n",
    "size_list = []\n",
    "star_list= []\n",
    "content_list = []\n",
    "size_eval_list =[]\n",
    "bright_eval_list =[]\n",
    "color_eval_list =[]\n",
    "thick_eval_list =[]\n",
    "#함수정의\n",
    "def get_content(driver):\n",
    "    #함수안에 html, soup 넣어놔야 페이지 넘어가서 바르게 긁어옴, 밖에 빼놓으면 첫페이지만 여러번 긁어진다.\n",
    "    html = driver.page_source\n",
    "    soup = BeautifulSoup(html,'lxml')\n",
    "    for i in range(10):\n",
    "    \n",
    "    #profile(gender,height,weight)\n",
    "    #<p class=\"review-profile__body_information\">남성, 177cm, 85kg</p>\n",
    "        profile_before = soup.find_all('p','review-profile__body_information')\n",
    "        profile_after = profile_before[i].text.split(',')\n",
    "        try:\n",
    "            gender = profile_after[0]\n",
    "            height = profile_after[1]\n",
    "            weight = profile_after[2]\n",
    "        except:\n",
    "            gender = ''\n",
    "            height = ''\n",
    "            weight = ''\n",
    "#user :<p class=\"review-profile__name\">LV 2 뉴비_95f88e16</p>           \n",
    "#item: #/<a href=\"https://www.musinsa.com/app/goods/1231416/0\" class=\"review-goods-information__name\">테이퍼드 히든 밴딩 크롭 슬랙스 [더스티 베이지]</a>\n",
    "#size :<span class=\"review-goods-information__option\">\n",
    "#content\n",
    "\n",
    "        try:\n",
    "            user = soup.find_all('p','review-profile__name')[i].text\n",
    "            item = soup.find_all('a','review-goods-information__name')[i].text\n",
    "            # '/n' 없애고 추출하기\n",
    "            size = soup.find_all('span', 'review-goods-information__option')[i].text.strip().replace('\\n','')\n",
    "            content = soup.find_all('div','review-contents__text')[i].text\n",
    "        except:\n",
    "            user = ''\n",
    "            item = ''\n",
    "            size = ''\n",
    "            content = ''\n",
    "            \n",
    "        #star\n",
    "#->별 5개일때:<span class=\"review-list__rating__active\" style=\"width: 100%\"></span>\n",
    "#->별 4개일때:<span class=\"review-list__rating__active\" style=\"width: 80%\"></span>\n",
    "        stars = driver.find_elements_by_xpath('//*[@id=\"reviewListFragment\"]/div['+str(i+1)+']/div[3]/span/span/span')\n",
    "        try:\n",
    "            for j in stars:\n",
    "                a =j.get_attribute('style')\n",
    "                if a[7:9]=='20':\n",
    "                    star = 1\n",
    "                elif a[7:9]=='40':\n",
    "                    star = 2\n",
    "                elif a[7:9]=='60':\n",
    "                    star = 3\n",
    "                elif a[7:9]=='80':\n",
    "                    star = 4\n",
    "                else:\n",
    "                    star = 5\n",
    "        except:\n",
    "            star = ''\n",
    "      \n",
    "\n",
    "    #evaluation\n",
    "        evaluation = soup.find_all('div', 'review-evaluation')\n",
    "        try:\n",
    "            size_eval = evaluation[i].find_all('span')[0].text\n",
    "            bright_eval = evaluation[i].find_all('span')[1].text\n",
    "            color_eval = evaluation[i].find_all('span')[2].text\n",
    "            thick_eval = evaluation[i].find_all('span')[3].text\n",
    "        except:\n",
    "            size_eval = ''\n",
    "            bright_eval = ''\n",
    "            color_eval = ''\n",
    "            thick_eval = ''\n",
    "\n",
    "        \n",
    "        user_list.append(user)\n",
    "        gender_list.append(gender)\n",
    "        height_list.append(height)\n",
    "        weight_list.append(weight)\n",
    "        item_list.append(item)\n",
    "        size_list.append(size)\n",
    "        content_list.append(content)\n",
    "        star_list.append(star)\n",
    "        size_eval_list.append(size_eval)\n",
    "        bright_eval_list.append(bright_eval)\n",
    "        color_eval_list.append(color_eval)\n",
    "        thick_eval_list.append(thick_eval)\n",
    "  \n",
    "   \n",
    "        \n",
    "#버튼 누르기 함수정의\n",
    "def move_next(driver):    \n",
    "    for p in range(4):\n",
    "        get_content(driver)\n",
    "        #페이지 2,3,4,5 넘어가기\n",
    "        driver.find_element_by_css_selector('#reviewListFragment > div.nslist_bottom > div.pagination.textRight > div > a:nth-child(' + \n",
    "                                            str(int(4) + int(p)) + ')').send_keys(Keys.ENTER)\n",
    "        time.sleep(2)\n",
    "    get_content(driver)\n",
    "    \n",
    "#그다음 화살표'>'버튼누르기: (6,7,8...)있는 페이지로 넘어가기   \n",
    "def move_arrow(driver):\n",
    "    driver.find_element_by_css_selector('#reviewListFragment > div.nslist_bottom > div.pagination.textRight > div > a.fa.fa-angle-right.paging-btn.btn.next').send_keys(Keys.ENTER)\n",
    "\n"
   ]
  },
  {
   "cell_type": "code",
   "execution_count": null,
   "metadata": {},
   "outputs": [],
   "source": [
    "#크롤링 시작\n",
    "#final_df = pd.DataFrame() \n",
    "#8페이지\n",
    "#options = webdriver.ChromeOptions()\n",
    "#options.add_experimental_option(\"excludeSwitches\", [\"enable-logging\"])\n",
    "#driver = webdriver.Chrome(options=options)\n",
    "\n",
    "#크롤링 시작[창열기](다정)\n",
    "from selenium.webdriver.common.keys import Keys\n",
    "from webdriver_manager.chrome import ChromeDriverManager\n",
    "#가져오고싶은 상품 페이지 링크 입력\n",
    "url = 'https://www.musinsa.com/categories/item/001004?d_cat_cd=001004&brand=&list_kind=small&sort=emt_high&sub_sort=&page=7&display_cnt=90&group_sale=&exclusive_yn=&sale_goods=&timesale_yn=&ex_soldout=&kids=&color=&price1=&price2=&shoeSizeOption=&tags=&campaign_id=&includeKeywords=&measure='\n",
    "\n",
    "options = webdriver.ChromeOptions()\n",
    "options.add_experimental_option('excludeSwitches', ['enable-logging'])\n",
    "#아래는 알림창 닫는 옵션인데 안먹힘\n",
    "#options.add_experimental_option('prefs', {'profile.default_content_setting_values.notifications' : 1})\n",
    "\n",
    "driver = webdriver.Chrome(ChromeDriverManager().install(), options=options)\n",
    "driver.get(url)\n",
    "time.sleep(2)"
   ]
  },
  {
   "cell_type": "code",
   "execution_count": null,
   "metadata": {},
   "outputs": [],
   "source": [
    "#크롤링 시작[상품정보크롤링](다정)\n",
    "start = time.time()\n",
    "math.factorial(100000)\n",
    "\n",
    "#-----------------item_cnt: 상품개수 + 1로 바꾸기 #90개-> 91------------#\n",
    "item_cnt = 6\n",
    "final_df = pd.DataFrame()\n",
    "#-----------------range(시작아이템개수,,)바꾸기------------------------#\n",
    "for t in range(1,item_cnt,1):\n",
    "    #후기순 90개 자동으로 클릭하기\n",
    "# #searchList > li:nth-child(1) > div.li_inner > div.list_img > a > img\n",
    "# #searchList > li:nth-child(90) > div.li_inner > div.list_img > a > img\n",
    "    \n",
    "    try: \n",
    "        driver.find_element_by_css_selector('#searchList > li:nth-child(' +\n",
    "                                            str(int(t)) +\n",
    "                                            ') > div.li_inner > div.list_img > a > img').click()\n",
    "        time.sleep(2)\n",
    "    except:\n",
    "        continue\n",
    "   \n",
    "    #일단 빈공간 클릭->창이 랜덤으로 뜨기 때문에 빈곳을 클릭하면 팝업이 뜨는 경우가 있음\n",
    "    driver.find_element_by_xpath('//*[@id=\"product_order_info\"]/div[1]/h4')\n",
    "    time.sleep(2)\n",
    "    try:\n",
    "        #무신사쿠폰 팝업창: 해당 팝업이 뜨면 나머지 선택 안됨\n",
    "        driver.find_element_by_xpath('/html/body/div/div/div/button').click()\n",
    "        time.sleep(2)\n",
    "        #입고지연팝업창: 삭제안해도 나머지 구동 가능\n",
    "        #driver.find_element_by_xpath('//*[@id=\"divpop_goods_niceghostclub_8451\"]/form/button[2]').click()\n",
    "        #무신사회원혜택 팝업창 :삭제안해도 나머지 구동가능\n",
    "        #driver.find_element_by_xpath('//*[@id=\"page_product_detail\"]/div[3]/div[23]/div/a[1]/img').click()\n",
    "    except:\n",
    "        pass\n",
    "        \n",
    "        #사이즈표\n",
    "    try:\n",
    "        html = driver.page_source\n",
    "        soup = BeautifulSoup(html,'html.parser')\n",
    "        figure = soup.find('table',{'class':'table_th_grey'})\n",
    "        p = parser.make2d(figure)\n",
    "        figure_df = pd.DataFrame(data = p[1:],columns = p[0])\n",
    "        figure_df.drop([0,1],inplace = True)\n",
    "    except:\n",
    "        print(\"사이즈표 오류발생\")\n",
    "        \n",
    "        #리뷰개수\n",
    "    try:\n",
    "        reviewNum = driver.find_element_by_xpath('//*[@id=\"estimate_style\"]')\n",
    "        reviewNum = reviewNum.text\n",
    "        reviewNum = re.sub(r'[^0-9]','',reviewNum)\n",
    "        reviewNum = int(reviewNum)\n",
    "        \n",
    "    except:\n",
    "        print(\"리뷰개수 오류발생\")\n",
    "        reviewNum = 0\n",
    "        \n",
    "\n",
    "    user_list = []\n",
    "    gender_list =[]\n",
    "    height_list = []\n",
    "    weight_list =[]\n",
    "    item_list = []\n",
    "    size_list = []\n",
    "    star_list= []\n",
    "    content_list = []\n",
    "    size_eval_list =[]\n",
    "    bright_eval_list =[]\n",
    "    color_eval_list =[]\n",
    "    thick_eval_list =[]\n",
    "    \n",
    "    #여기까진 문제없이 돌아갔음    \n",
    "    #----------------- b:기준으로 잡은 스타일후기리뷰 개수,우리는 100개------------# \n",
    "    b = 100  \n",
    "    \n",
    "    if reviewNum >= b:\n",
    "        #크롤링\n",
    "        #1:50개, 2:100개, 10:500개, \n",
    "        for k in range(2):\n",
    "            try:\n",
    "                move_next(driver)\n",
    "                move_arrow(driver)\n",
    "        #move_next(driver)\n",
    "            except:\n",
    "                time.sleep(2)\n",
    "    else:\n",
    "        pass\n",
    "        \n",
    "\n",
    "    print(str(t),'번째제품 리뷰',reviewNum,'개')\n",
    "    \n",
    "    a = t      \n",
    "    time.sleep(2)    \n",
    "    globals()[\"df\" + str(a)] = pd.DataFrame({'user':user_list,\n",
    "                                           'gender':gender_list,\n",
    "                                           'height':height_list,\n",
    "                                           'weight':weight_list,\n",
    "                                            'item':item_list,\n",
    "                                            'size':size_list,\n",
    "                                            'star':star_list,\n",
    "                                            'content':content_list,\n",
    "                                            'size_eval':size_eval_list,\n",
    "                                            'bright_eval':bright_eval_list,\n",
    "                                            'color_eval':color_eval_list,\n",
    "                                            'thick_eval':thick_eval_list})          \n",
    "    #사이즈표와 리뷰 merge\n",
    "    globals()[\"merge_df\"+str(a)] = pd.merge(globals()[\"df\" + str(a)],figure_df,how = 'left',left_on = 'size',right_on = 'cm')\n",
    "    print('df',a,'shape',globals()[\"merge_df\"+str(a)].shape)\n",
    "    \n",
    "    final_df = pd.concat([final_df, globals()[\"merge_df\"+str(a)]])\n",
    "    #뒤로가기\n",
    "    driver.back()\n",
    "    time.sleep(3)\n",
    "          \n",
    "\n",
    "\n",
    "end = time.time()\n",
    "print(f\"{end - start:.5f} sec\")"
   ]
  },
  {
   "cell_type": "markdown",
   "metadata": {},
   "source": [
    "- 5번째 제품의 리뷰가 100개 이상인데, 14개밖에 크롤링 되지 않음"
   ]
  },
  {
   "cell_type": "code",
   "execution_count": null,
   "metadata": {},
   "outputs": [],
   "source": [
    "driver.find_element_by_css_selector('#searchList > li:nth-child(5) > div.li_inner > div.list_img > a > img').click()\n",
    "time.sleep(2)"
   ]
  },
  {
   "cell_type": "code",
   "execution_count": null,
   "metadata": {},
   "outputs": [],
   "source": [
    "user_list = []\n",
    "gender_list =[]\n",
    "height_list = []\n",
    "weight_list =[]\n",
    "item_list = []\n",
    "size_list = []\n",
    "star_list= []\n",
    "content_list = []\n",
    "size_eval_list =[]\n",
    "bright_eval_list =[]\n",
    "color_eval_list =[]\n",
    "thick_eval_list =[]\n",
    "    \n",
    "for k in range(2):\n",
    "    try:\n",
    "        move_next(driver)\n",
    "        move_arrow(driver)\n",
    "    except:\n",
    "        pass"
   ]
  },
  {
   "cell_type": "code",
   "execution_count": null,
   "metadata": {},
   "outputs": [],
   "source": [
    "user_list"
   ]
  },
  {
   "cell_type": "markdown",
   "metadata": {},
   "source": [
    "- 따로 창을 열어서 리뷰 크롤링 시도 > 그래도 14개만 크롤링됨\n",
    "- move_next 함수나 move_arrow 함수 문제?"
   ]
  },
  {
   "cell_type": "code",
   "execution_count": null,
   "metadata": {},
   "outputs": [],
   "source": [
    "#버튼 누르기 함수정의\n",
    "#그안의 time.sleep을 3초로 변경해줌\n",
    "def move_next(driver):    \n",
    "    for p in range(4):\n",
    "        get_content(driver)\n",
    "        #페이지 2,3,4,5 넘어가기\n",
    "        driver.find_element_by_css_selector('#reviewListFragment > div.nslist_bottom > div.pagination.textRight > div > a:nth-child(' + \n",
    "                                            str(int(4) + int(p)) + ')').send_keys(Keys.ENTER)\n",
    "        time.sleep(4)\n",
    "    get_content(driver)\n",
    "    \n",
    "#그다음 화살표'>'버튼누르기: (6,7,8...)있는 페이지로 넘어가기   \n",
    "def move_arrow(driver):\n",
    "    driver.find_element_by_css_selector('#reviewListFragment > div.nslist_bottom > div.pagination.textRight > div > a.fa.fa-angle-right.paging-btn.btn.next').send_keys(Keys.ENTER)\n",
    "\n"
   ]
  },
  {
   "cell_type": "code",
   "execution_count": null,
   "metadata": {},
   "outputs": [],
   "source": [
    "user_list = []\n",
    "gender_list =[]\n",
    "height_list = []\n",
    "weight_list =[]\n",
    "item_list = []\n",
    "size_list = []\n",
    "star_list= []\n",
    "content_list = []\n",
    "size_eval_list =[]\n",
    "bright_eval_list =[]\n",
    "color_eval_list =[]\n",
    "thick_eval_list =[]\n",
    "    \n",
    "for k in range(2):\n",
    "    try:\n",
    "        move_next(driver)\n",
    "        move_arrow(driver)\n",
    "    except:\n",
    "        pass"
   ]
  },
  {
   "cell_type": "markdown",
   "metadata": {},
   "source": [
    "**창 닫기 시도**\n",
    "- 창 개수 확인 : 현재 창이 여러개면 제일 처음 창만 두고 닫기 >> 그냥 하나의 창에 뜸 ^.^\n",
    "- 에러(Alert)창 확인 : 경고창으로 뜨는 경우 닫아주는 함수 존재 >> 이것도 아님 ^.^\n",
    "- 직접 버튼 지정해서 닫기 : driver.back 함수를 써야하는데, 버튼 닫을때 driver를 건들여서 넘어가지 않음 ^.^"
   ]
  }
 ],
 "metadata": {
  "kernelspec": {
   "display_name": "Python 3",
   "language": "python",
   "name": "python3"
  },
  "language_info": {
   "codemirror_mode": {
    "name": "ipython",
    "version": 3
   },
   "file_extension": ".py",
   "mimetype": "text/x-python",
   "name": "python",
   "nbconvert_exporter": "python",
   "pygments_lexer": "ipython3",
   "version": "3.10.4 | packaged by conda-forge | (main, Mar 30 2022, 08:38:02) [MSC v.1916 64 bit (AMD64)]"
  },
  "vscode": {
   "interpreter": {
    "hash": "4844811090fbd8f8e9c54c5064e77599870475ea544f68f1131d51aa0adf00b5"
   }
  }
 },
 "nbformat": 4,
 "nbformat_minor": 4
}
