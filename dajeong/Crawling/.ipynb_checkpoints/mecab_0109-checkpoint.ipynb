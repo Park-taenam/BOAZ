{
 "cells": [
  {
   "cell_type": "markdown",
   "metadata": {
    "id": "7gQDJ3BzvDSz"
   },
   "source": [
    "## Mecab 설치 ( Colab )"
   ]
  },
  {
   "cell_type": "code",
   "execution_count": null,
   "metadata": {
    "id": "reXE9tiG74qA"
   },
   "outputs": [],
   "source": [
    "!git clone https://github.com/SOMJANG/Mecab-ko-for-Google-Colab.git\n",
    "%cd Mecab-ko-for-Google-Colab\n",
    "!bash install_mecab-ko_on_colab190912.sh"
   ]
  },
  {
   "cell_type": "code",
   "execution_count": null,
   "metadata": {
    "id": "-dOPtPMq8M26"
   },
   "outputs": [],
   "source": [
    "import re\n",
    "import io\n",
    "import pandas as pd\n",
    "import numpy as np\n",
    "import pandas as pd\n",
    "import matplotlib.pyplot as plt\n",
    "import urllib.request\n",
    "from collections import Counter\n",
    "from konlpy.tag import Mecab\n",
    "from sklearn.model_selection import train_test_split\n",
    "from tensorflow.keras.preprocessing.text import Tokenizer\n",
    "from tensorflow.keras.preprocessing.sequence import pad_sequences"
   ]
  },
  {
   "cell_type": "code",
   "execution_count": null,
   "metadata": {
    "id": "RNiGAM3y-3si"
   },
   "outputs": [],
   "source": [
    "# 잘 되나 확인 \n",
    "mecab = Mecab()"
   ]
  },
  {
   "cell_type": "code",
   "execution_count": null,
   "metadata": {
    "id": "eHXYNdmZ-6Ep"
   },
   "outputs": [],
   "source": [
    "# 코랩 기준 \n",
    "from google.colab import files\n",
    "uploaded = files.upload()"
   ]
  },
  {
   "cell_type": "code",
   "execution_count": null,
   "metadata": {
    "id": "c_oJbJx6AK33"
   },
   "outputs": [],
   "source": [
    "df = pd.read_csv('only_spacing.csv', encoding='UTF-8')\n",
    "df.shape"
   ]
  },
  {
   "cell_type": "code",
   "execution_count": null,
   "metadata": {
    "id": "XijDUEqpNoXM"
   },
   "outputs": [],
   "source": [
    "mecab.tagset\n",
    "# 채언, 용언, 관형사, 부사\n",
    "# 채언 NNB, NNBC, NNP, NNG, NP, NR\n",
    "# 용언 VV, VA, VX, VCP, VCN\n",
    "# 관형사 MM\n",
    "# 부사 MAG, MAJ "
   ]
  },
  {
   "cell_type": "code",
   "execution_count": null,
   "metadata": {
    "id": "OnZKSIhVN3aK"
   },
   "outputs": [],
   "source": [
    "#분석기별 품사정리 #[분석기.tagset]으로 품사 태깅 확인 가능\n",
    "#mecab\n",
    "chaeon_mecab_pos = ['NNB', 'NNBC', 'NNP', 'NNG', 'NP', 'NR']; yongon_mecab_pos = ['VV', 'VA', 'VX', 'VCP', 'VCN'];\n",
    "gwan_mecab_pos = ['MM']; busa_mecab_pos = ['MAG','MAJ']\n",
    "chaeon_mecab, yongon_mecab, gwan_mecab, busa_mecab = [],[],[],[]"
   ]
  },
  {
   "cell_type": "code",
   "execution_count": null,
   "metadata": {
    "id": "6A4m3XFCPvvz"
   },
   "outputs": [],
   "source": [
    "for i in df['only_spacing']:\n",
    "    text_mecab = mecab.pos(i)\n",
    "    for one in range(len(text_mecab)):\n",
    "        if(text_mecab[one][1]) in chaeon_mecab_pos:\n",
    "            chaeon_mecab.append(text_mecab[one][0])\n",
    "        elif(text_mecab[one][1]) in yongon_mecab_pos:\n",
    "            yongon_mecab.append(text_mecab[one][0])\n",
    "        elif(text_mecab[one][1]) in gwan_mecab_pos:\n",
    "            gwan_mecab.append(text_mecab[one][0])\n",
    "        elif(text_mecab[one][1]) in busa_mecab_pos:\n",
    "            busa_mecab.append(text_mecab[one][0])\n",
    "        else:\n",
    "            pass"
   ]
  },
  {
   "cell_type": "markdown",
   "metadata": {
    "id": "5cTeZM80mCGE"
   },
   "source": [
    "## 체언"
   ]
  },
  {
   "cell_type": "code",
   "execution_count": null,
   "metadata": {
    "id": "DdTf15ETQfjc"
   },
   "outputs": [],
   "source": [
    "# 채언 1739\n",
    "pd.DataFrame(chaeon_mecab).value_counts().head(50)\n",
    "one = pd.DataFrame(pd.DataFrame(chaeon_mecab).value_counts()[(pd.DataFrame(chaeon_mecab).value_counts().values>5)])\n",
    "one.columns = ['counts']\n",
    "two = one.reset_index(drop=False, inplace=False)\n",
    "two.columns = ['text','counts']\n",
    "\n",
    "tf = [True if len(two['text'][i])!=1 else False for i in range(two.shape[0])]\n",
    "three = two.iloc[1701:1751]"
   ]
  },
  {
   "cell_type": "code",
   "execution_count": null,
   "metadata": {
    "id": "OrdFyh0el2P6"
   },
   "outputs": [],
   "source": [
    "size_chaeon_mecab = ['핏','사이즈','오버','만족','구매','기장','길이','엉덩이','레이어드',\n",
    "                     '박시','기본','업','이너','라지','어깨','소매','크롭','밑단','크기',\n",
    "                     '여유','체형','허리','상의','치수','총장','루즈','보통','세미','탄탄',\n",
    "                     '덩치','통','아방','스몰','라인','가슴','손목','와이드','체격','상체',\n",
    "                     '중간','몸통','어깨선','허벅지','타이트','골반','적당','맞음','신체',\n",
    "                     '조금','작지','빅','팔꿈치','로우','엠사이즈','몸집','너비','박시한',\n",
    "                     '아랫단','작음','클','소매길이']"
   ]
  },
  {
   "cell_type": "markdown",
   "metadata": {
    "id": "mPnUc-z9u41V"
   },
   "source": [
    "## 용언"
   ]
  },
  {
   "cell_type": "code",
   "execution_count": null,
   "metadata": {
    "id": "iCuVsCxnTn6Z"
   },
   "outputs": [],
   "source": [
    "# 용언 384\n",
    "pd.DataFrame(yongon_mecab).value_counts().head(50)\n",
    "one = pd.DataFrame(pd.DataFrame(yongon_mecab).value_counts()[(pd.DataFrame(yongon_mecab).value_counts().values>0)])\n",
    "one.columns = ['counts']\n",
    "two = one.reset_index(drop=False, inplace=False)\n",
    "two.columns = ['text','counts']\n",
    "\n",
    "tf = [True if len(two['text'][i])!=1 else False for i in range(two.shape[0])]\n",
    "three = two.iloc[951:1001]"
   ]
  },
  {
   "cell_type": "code",
   "execution_count": null,
   "metadata": {
    "id": "Lg6FN3puuVnV"
   },
   "outputs": [],
   "source": [
    "size_yongon_mecab = ['크','맞','작','짧','넓','좁','끼','늘어지','키','덮히','흐르','빡시',\n",
    "                     '널럴하','쓸리','덥히','통','흐느적거리','커다랗','펄럭거리','늘어뜨리']"
   ]
  },
  {
   "cell_type": "code",
   "execution_count": null,
   "metadata": {
    "id": "6eFwbH9YRJ5T"
   },
   "outputs": [],
   "source": [
    "pd.DataFrame(chaeon_mecab, columns =['chaeon_mecab']).to_csv(\"chaeon_mecab_only_spacing.csv\", encoding='utf-8')\n",
    "pd.DataFrame(yongon_mecab, columns =['yongon_mecab']).to_csv(\"yongon_mecab_only_spacing.csv\", encoding='utf-8')\n",
    "pd.DataFrame(gwan_mecab, columns =['gwan_mecab']).to_csv(\"gwan_mecab_only_spacing.csv\", encoding='utf-8')\n",
    "pd.DataFrame(busa_mecab, columns =['busa_mecab']).to_csv(\"busa_mecab_only_spacing.csv\", encoding='utf-8')"
   ]
  },
  {
   "cell_type": "code",
   "execution_count": null,
   "metadata": {
    "id": "fucIHmz5ZYao"
   },
   "outputs": [],
   "source": []
  }
 ],
 "metadata": {
  "colab": {
   "private_outputs": true,
   "provenance": []
  },
  "kernelspec": {
   "display_name": "Python 3",
   "language": "python",
   "name": "python3"
  },
  "language_info": {
   "codemirror_mode": {
    "name": "ipython",
    "version": 3
   },
   "file_extension": ".py",
   "mimetype": "text/x-python",
   "name": "python",
   "nbconvert_exporter": "python",
   "pygments_lexer": "ipython3",
   "version": "3.8.5"
  }
 },
 "nbformat": 4,
 "nbformat_minor": 1
}
