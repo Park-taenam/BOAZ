{
 "cells": [
  {
   "cell_type": "code",
   "execution_count": 1,
   "metadata": {},
   "outputs": [],
   "source": [
    "import pandas as pd\n",
    "import numpy as np\n",
    "import matplotlib.pyplot as plt\n",
    "import seaborn as sns\n",
    "\n",
    "import warnings\n",
    "warnings.filterwarnings(\"ignore\")\n",
    "pd.set_option('display.max_columns', None)\n",
    "pd.set_option('display.max_rows', None)\n",
    "\n",
    "# 시각화 관련\n",
    "from wordcloud import WordCloud, STOPWORDS, ImageColorGenerator\n",
    "from collections import Counter\n",
    "from PIL import Image\n",
    "from matplotlib import rc\n",
    "\n",
    "# 그래프에서 한글 폰트 깨지는 문제에 대한 대처(전역 글꼴 설정)\n",
    "import matplotlib.font_manager as fm\n",
    "import warnings\n",
    "warnings.filterwarnings(action='ignore') \n",
    "\n",
    "import matplotlib\n",
    "matplotlib.rcParams['font.family'] ='Malgun Gothic'\n",
    "matplotlib.rcParams['axes.unicode_minus'] =False"
   ]
  },
  {
   "cell_type": "code",
   "execution_count": 7,
   "metadata": {},
   "outputs": [
    {
     "name": "stdout",
     "output_type": "stream",
     "text": [
      "<class 'pandas.core.frame.DataFrame'>\n",
      "RangeIndex: 35752 entries, 0 to 35751\n",
      "Data columns (total 18 columns):\n",
      " #   Column       Non-Null Count  Dtype  \n",
      "---  ------       --------------  -----  \n",
      " 0   Unnamed: 0   35752 non-null  int64  \n",
      " 1   user         35752 non-null  object \n",
      " 2   gender       33350 non-null  object \n",
      " 3   height       33350 non-null  object \n",
      " 4   weight       33350 non-null  object \n",
      " 5   item         35752 non-null  object \n",
      " 6   size         35752 non-null  object \n",
      " 7   star         35752 non-null  float64\n",
      " 8   content      35752 non-null  object \n",
      " 9   size_eval    35183 non-null  object \n",
      " 10  bright_eval  35183 non-null  object \n",
      " 11  color_eval   35183 non-null  object \n",
      " 12  thick_eval   35183 non-null  object \n",
      " 13  cm           21905 non-null  object \n",
      " 14  총장           21905 non-null  float64\n",
      " 15  어깨너비         20885 non-null  float64\n",
      " 16  가슴단면         21905 non-null  float64\n",
      " 17  소매길이         21798 non-null  float64\n",
      "dtypes: float64(5), int64(1), object(12)\n",
      "memory usage: 4.9+ MB\n"
     ]
    }
   ],
   "source": [
    "df_origin = pd.read_csv('data/hood_page1to20_final_nodup.csv')\n",
    "df = df_origin.copy()\n",
    "df.info()\n"
   ]
  },
  {
   "cell_type": "code",
   "execution_count": 18,
   "metadata": {},
   "outputs": [
    {
     "name": "stdout",
     "output_type": "stream",
     "text": [
      "null값모두삭제:(19511, 18)\n",
      "성별,키,몸무게 null 삭제:(33350, 18)\n",
      "성별,키,몸무게 nonnull & 사이즈 하나라도 nonnull:(20467, 18)\n",
      "성별,키,몸무게 null:(2402, 18)\n",
      "총장,어깨너비,가슴단면,소매길이4개 전부 null:(13847, 18)\n",
      "총장,어깨너비,가슴단면,소매길이 하나라도 null:(14967, 18)\n"
     ]
    }
   ],
   "source": [
    "print('null값모두삭제:{}'.format(df.dropna(axis = 0).shape))\n",
    "print('성별,키,몸무게 null 삭제:{}'.format(df[~df['gender'].isnull()&~df['height'].isnull()&~df['weight'].isnull()].shape))\n",
    "print('성별,키,몸무게 nonnull & 사이즈 하나라도 nonnull:{}'.format(df[~df['gender'].isnull()&~df['height'].isnull()&~df['weight'].isnull()&\n",
    "                                      (~df['총장'].isnull()|\n",
    "                                       ~df['어깨너비'].isnull()|~df['가슴단면'].isnull()|\n",
    "                                       ~df['소매길이'].isnull())].shape))\n",
    "print('성별,키,몸무게 null:{}'.format(df[df['gender'].isnull()&df['height'].isnull()&df['weight'].isnull()].shape))\n",
    "print('총장,어깨너비,가슴단면,소매길이4개 전부 null:{}'.format(df[df['총장'].isnull()&\n",
    "   df['어깨너비'].isnull()&df['가슴단면'].isnull()&\n",
    "   df['소매길이'].isnull()].shape))\n",
    "print('총장,어깨너비,가슴단면,소매길이 하나라도 null:{}'.format(df[df['총장'].isnull()|\n",
    "   df['어깨너비'].isnull()|df['가슴단면'].isnull()|\n",
    "   df['소매길이'].isnull()].shape))\n",
    "\n"
   ]
  },
  {
   "cell_type": "code",
   "execution_count": 20,
   "metadata": {},
   "outputs": [
    {
     "name": "stdout",
     "output_type": "stream",
     "text": [
      "<class 'pandas.core.frame.DataFrame'>\n",
      "Int64Index: 20467 entries, 100 to 35737\n",
      "Data columns (total 18 columns):\n",
      " #   Column       Non-Null Count  Dtype  \n",
      "---  ------       --------------  -----  \n",
      " 0   Unnamed: 0   20467 non-null  int64  \n",
      " 1   user         20467 non-null  object \n",
      " 2   gender       20467 non-null  object \n",
      " 3   height       20467 non-null  object \n",
      " 4   weight       20467 non-null  object \n",
      " 5   item         20467 non-null  object \n",
      " 6   size         20467 non-null  object \n",
      " 7   star         20467 non-null  float64\n",
      " 8   content      20467 non-null  object \n",
      " 9   size_eval    20467 non-null  object \n",
      " 10  bright_eval  20467 non-null  object \n",
      " 11  color_eval   20467 non-null  object \n",
      " 12  thick_eval   20467 non-null  object \n",
      " 13  cm           20467 non-null  object \n",
      " 14  총장           20467 non-null  float64\n",
      " 15  어깨너비         19611 non-null  float64\n",
      " 16  가슴단면         20467 non-null  float64\n",
      " 17  소매길이         20366 non-null  float64\n",
      "dtypes: float64(5), int64(1), object(12)\n",
      "memory usage: 3.0+ MB\n"
     ]
    }
   ],
   "source": [
    "df_figure = df[~df['gender'].isnull()&~df['height'].isnull()&~df['weight'].isnull()&\n",
    "                                      (~df['총장'].isnull()|\n",
    "                                       ~df['어깨너비'].isnull()|~df['가슴단면'].isnull()|\n",
    "                                       ~df['소매길이'].isnull())]\n",
    "df_figure.info()"
   ]
  },
  {
   "cell_type": "code",
   "execution_count": 24,
   "metadata": {},
   "outputs": [],
   "source": [
    "df_figure.iloc[: , 1:].to_csv('data/hoodtrain_sample.csv',index=False,encoding = \"UTF-8\")"
   ]
  },
  {
   "cell_type": "code",
   "execution_count": null,
   "metadata": {},
   "outputs": [],
   "source": []
  }
 ],
 "metadata": {
  "kernelspec": {
   "display_name": "base",
   "language": "python",
   "name": "python3"
  },
  "language_info": {
   "codemirror_mode": {
    "name": "ipython",
    "version": 3
   },
   "file_extension": ".py",
   "mimetype": "text/x-python",
   "name": "python",
   "nbconvert_exporter": "python",
   "pygments_lexer": "ipython3",
   "version": "3.9.12 (main, Apr  4 2022, 05:22:27) [MSC v.1916 64 bit (AMD64)]"
  },
  "orig_nbformat": 4,
  "vscode": {
   "interpreter": {
    "hash": "ff4f85d6e04298634172ac5d8264e7e9b556b95639fe52ebb9425c4d4cba0c9c"
   }
  }
 },
 "nbformat": 4,
 "nbformat_minor": 2
}
