{
 "cells": [
  {
   "cell_type": "code",
   "execution_count": 1,
   "metadata": {},
   "outputs": [],
   "source": [
    "import pandas as pd\n",
    "import numpy as np\n",
    "import matplotlib.pyplot as plt\n",
    "import seaborn as sns\n",
    "\n",
    "import warnings\n",
    "warnings.filterwarnings(\"ignore\")\n",
    "pd.set_option('display.max_columns', None)\n",
    "pd.set_option('display.max_rows', None)\n",
    "\n",
    "# 시각화 관련\n",
    "from wordcloud import WordCloud, STOPWORDS, ImageColorGenerator\n",
    "from collections import Counter\n",
    "from PIL import Image\n",
    "from matplotlib import rc\n",
    "\n",
    "# 그래프에서 한글 폰트 깨지는 문제에 대한 대처(전역 글꼴 설정)\n",
    "import matplotlib.font_manager as fm\n",
    "import warnings\n",
    "warnings.filterwarnings(action='ignore') \n",
    "\n",
    "import matplotlib\n",
    "matplotlib.rcParams['font.family'] ='Malgun Gothic'\n",
    "matplotlib.rcParams['axes.unicode_minus'] =False"
   ]
  },
  {
   "cell_type": "code",
   "execution_count": 27,
   "metadata": {},
   "outputs": [
    {
     "name": "stdout",
     "output_type": "stream",
     "text": [
      "(4602, 17)\n",
      "(4028, 17)\n",
      "(3100, 17)\n",
      "(2254, 17)\n",
      "(1590, 17)\n",
      "(322, 17)\n",
      "(252, 17)\n",
      "(347, 17)\n"
     ]
    }
   ],
   "source": [
    "df2 = pd.read_csv('data/page2_product90_nodup.csv',encoding = 'cp949')\n",
    "df3 = pd.read_csv('data/후드후기순3페이지_221206.csv')\n",
    "df5 = pd.read_csv('data/page5_product90_nodup.csv',encoding = 'cp949')\n",
    "df6 = pd.read_csv('data/page6_product90_nodup.csv',encoding = 'cp949')\n",
    "df7 = pd.read_csv('data/page7_product90_nodup.csv')\n",
    "df8_1 = pd.read_csv('data/51_63_8page.csv')\n",
    "df8_2 = pd.read_csv('data/64_75_8page.csv')#,encoding = 'cp949')\n",
    "df8_3 = pd.read_csv('data/78_90_8page.csv')#,encoding = 'cp949')\n",
    "df2.drop(['Column2','Column1','Unnamed: 0','허리단면','허벅지단면','밑위','밑단단면'],axis = 1,inplace = True)\n",
    "df5.drop(['Column1'],axis = 1,inplace = True)\n",
    "df6.drop(['Column1'],axis = 1,inplace = True)\n",
    "df7.drop(['Column1'],axis = 1,inplace = True)\n",
    "print(df2.shape)\n",
    "print(df3.shape)\n",
    "print(df5.shape)\n",
    "print(df6.shape)\n",
    "print(df7.shape)\n",
    "print(df8_1.shape)\n",
    "print(df8_2.shape)\n",
    "print(df8_3.shape)"
   ]
  },
  {
   "cell_type": "code",
   "execution_count": 28,
   "metadata": {},
   "outputs": [
    {
     "name": "stdout",
     "output_type": "stream",
     "text": [
      "(16495, 17)\n",
      "(9500, 17)\n"
     ]
    }
   ],
   "source": [
    "df = pd.concat([df2,df3,df5,df6,df7,df8_1,df8_2,df8_3])\n",
    "print(df.shape)\n",
    "df.drop_duplicates(subset = None,keep = 'first', inplace = True,ignore_index = True)\n",
    "print(df.shape)\n",
    "df.to_csv('data/후드p2,3,5,6,7,8반.csv',index = False)"
   ]
  },
  {
   "cell_type": "code",
   "execution_count": 29,
   "metadata": {},
   "outputs": [
    {
     "name": "stdout",
     "output_type": "stream",
     "text": [
      "<class 'pandas.core.frame.DataFrame'>\n",
      "RangeIndex: 9500 entries, 0 to 9499\n",
      "Data columns (total 17 columns):\n",
      " #   Column       Non-Null Count  Dtype  \n",
      "---  ------       --------------  -----  \n",
      " 0   user         9500 non-null   object \n",
      " 1   gender       9500 non-null   object \n",
      " 2   height       9500 non-null   object \n",
      " 3   weight       9500 non-null   object \n",
      " 4   item         9500 non-null   object \n",
      " 5   size         9500 non-null   object \n",
      " 6   star         9499 non-null   float64\n",
      " 7   content      9500 non-null   object \n",
      " 8   size_eval    9500 non-null   object \n",
      " 9   bright_eval  9500 non-null   object \n",
      " 10  color_eval   9500 non-null   object \n",
      " 11  thick_eval   9500 non-null   object \n",
      " 12  cm           5564 non-null   object \n",
      " 13  총장           5564 non-null   float64\n",
      " 14  어깨너비         5273 non-null   float64\n",
      " 15  가슴단면         5564 non-null   float64\n",
      " 16  소매길이         5564 non-null   float64\n",
      "dtypes: float64(5), object(12)\n",
      "memory usage: 1.2+ MB\n"
     ]
    }
   ],
   "source": [
    "dfread = pd.read_csv('data/후드p2,3,5,6,7,8반.csv')\n",
    "dfread.info()"
   ]
  },
  {
   "cell_type": "code",
   "execution_count": null,
   "metadata": {},
   "outputs": [],
   "source": []
  }
 ],
 "metadata": {
  "kernelspec": {
   "display_name": "base",
   "language": "python",
   "name": "python3"
  },
  "language_info": {
   "codemirror_mode": {
    "name": "ipython",
    "version": 3
   },
   "file_extension": ".py",
   "mimetype": "text/x-python",
   "name": "python",
   "nbconvert_exporter": "python",
   "pygments_lexer": "ipython3",
   "version": "3.9.12"
  },
  "orig_nbformat": 4,
  "vscode": {
   "interpreter": {
    "hash": "ff4f85d6e04298634172ac5d8264e7e9b556b95639fe52ebb9425c4d4cba0c9c"
   }
  }
 },
 "nbformat": 4,
 "nbformat_minor": 2
}
