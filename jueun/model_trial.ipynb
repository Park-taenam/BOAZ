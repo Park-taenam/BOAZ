{
 "cells": [
  {
   "cell_type": "code",
   "execution_count": 1,
   "metadata": {},
   "outputs": [],
   "source": [
    "import pandas as pd\n",
    "import numpy as np\n",
    "import matplotlib.pyplot as plt\n",
    "import seaborn as sns\n",
    "\n",
    "\n",
    "import warnings\n",
    "warnings.filterwarnings(\"ignore\")\n",
    "pd.set_option('display.max_columns', None)\n",
    "pd.set_option('display.max_rows', None)\n",
    "\n",
    "# 시각화 관련\n",
    "from wordcloud import WordCloud, STOPWORDS, ImageColorGenerator\n",
    "from collections import Counter\n",
    "from PIL import Image\n",
    "from matplotlib import rc\n",
    "\n",
    "# 그래프에서 한글 폰트 깨지는 문제에 대한 대처(전역 글꼴 설정)\n",
    "import matplotlib.font_manager as fm\n",
    "import warnings\n",
    "warnings.filterwarnings(action='ignore') \n",
    "\n",
    "import matplotlib\n",
    "matplotlib.rcParams['font.family'] ='Malgun Gothic'\n",
    "matplotlib.rcParams['axes.unicode_minus'] =False\n",
    "\n",
    "from sklearn.model_selection import train_test_split\n",
    "from sklearn.neighbors import KNeighborsClassifier\n",
    "from sklearn.metrics import classification_report, confusion_matrix, mean_squared_error\n",
    "from sklearn.ensemble import RandomForestRegressor\n",
    "from sklearn.decomposition import PCA\n",
    "from sklearn.discriminant_analysis import LinearDiscriminantAnalysis\n",
    "from sklearn.neighbors import KNeighborsClassifier, NeighborhoodComponentsAnalysis\n",
    "from sklearn.pipeline import make_pipeline\n",
    "from sklearn.preprocessing import StandardScaler\n",
    "\n",
    "#import EDA\n",
    "\n",
    "from tqdm import tqdm\n",
    "import warnings\n",
    "warnings.filterwarnings('ignore')\n",
    "\n",
    "#nlp\n",
    "# from bs4 import BeautifulSoup\n",
    "# from urllib.request import urlopen\n",
    "# import requests\n",
    "# from selenium import webdriver\n",
    "# from tqdm.notebook import tqdm\n",
    "# import time, urllib\n",
    "# from selenium import webdriver\n",
    "# from selenium.webdriver.common.keys import Keys\n",
    "# keys = Keys()\n",
    "# import re, os, sys, json\n",
    "\n",
    "# from hanspell import spell_checker\n",
    "\n",
    "# from konlpy.tag import Kkma #형태소분석\n",
    "# from konlpy.tag import Okt #형태소분석\n",
    "# import soynlp; from soynlp.normalizer import * #정규화\n",
    "# # from pykospacing import Spacing------------------>써야함!\n",
    "# # spacing = Spacing()------------------------------>써야함!\n",
    "\n",
    "# from konlpy.tag import Komoran, Hannanum, Kkma, Okt\n",
    "# komoran = Komoran(); hannanum = Hannanum(); kkma = Kkma(); okt = Okt();"
   ]
  },
  {
   "cell_type": "code",
   "execution_count": 6,
   "metadata": {},
   "outputs": [
    {
     "name": "stdout",
     "output_type": "stream",
     "text": [
      "<class 'pandas.core.frame.DataFrame'>\n",
      "Int64Index: 19853 entries, 0 to 20036\n",
      "Data columns (total 33 columns):\n",
      " #   Column             Non-Null Count  Dtype  \n",
      "---  ------             --------------  -----  \n",
      " 0   user               19853 non-null  object \n",
      " 1   gender             19853 non-null  object \n",
      " 2   height             19853 non-null  float64\n",
      " 3   weight             19853 non-null  float64\n",
      " 4   item               19853 non-null  object \n",
      " 5   size               19853 non-null  object \n",
      " 6   star               19853 non-null  float64\n",
      " 7   content            19853 non-null  object \n",
      " 8   size_eval          19853 non-null  object \n",
      " 9   bright_eval        19853 non-null  object \n",
      " 10  color_eval         19853 non-null  object \n",
      " 11  thick_eval         19853 non-null  object \n",
      " 12  cm                 19853 non-null  object \n",
      " 13  총장                 19853 non-null  float64\n",
      " 14  어깨너비               19035 non-null  float64\n",
      " 15  가슴단면               19853 non-null  float64\n",
      " 16  소매길이               19852 non-null  float64\n",
      " 17  review             19853 non-null  object \n",
      " 18  total_keyword      19853 non-null  object \n",
      " 19  chongjang_keyword  19853 non-null  object \n",
      " 20  chest_keyword      19853 non-null  object \n",
      " 21  shoulder_keyword   19853 non-null  object \n",
      " 22  arm_keyword        19853 non-null  object \n",
      " 23  total_big          19853 non-null  int32  \n",
      " 24  total_small        19853 non-null  int32  \n",
      " 25  chongjang_big      19853 non-null  int32  \n",
      " 26  chongjang_small    19853 non-null  int32  \n",
      " 27  arm_big            19853 non-null  int32  \n",
      " 28  arm_small          19853 non-null  int32  \n",
      " 29  chest_big          19853 non-null  int32  \n",
      " 30  chest_small        19853 non-null  int32  \n",
      " 31  shoulder_big       19853 non-null  int32  \n",
      " 32  shoulder_small     19853 non-null  int32  \n",
      "dtypes: float64(7), int32(10), object(16)\n",
      "memory usage: 4.4+ MB\n"
     ]
    }
   ],
   "source": [
    "df = pd.read_pickle('data/real_final_df_230115.pickle')\n",
    "df =df.astype({'shoulder_big':'int','shoulder_small':'int',\n",
    "               'chongjang_big':'int','chongjang_small':'int',\n",
    "               'total_big':'int','total_small':'int',\n",
    "               'arm_big':'int','arm_small':'int',\n",
    "               'chest_big':'int','chest_small':'int',})\n",
    "df.info()"
   ]
  },
  {
   "cell_type": "code",
   "execution_count": 11,
   "metadata": {},
   "outputs": [
    {
     "data": {
      "text/plain": [
       "0    1\n",
       "1    0\n",
       "2    0\n",
       "3    0\n",
       "4    0\n",
       "Name: total_big, dtype: int32"
      ]
     },
     "execution_count": 11,
     "metadata": {},
     "output_type": "execute_result"
    }
   ],
   "source": [
    "df['total_big'].head()"
   ]
  },
  {
   "cell_type": "code",
   "execution_count": 28,
   "metadata": {},
   "outputs": [
    {
     "name": "stdout",
     "output_type": "stream",
     "text": [
      "---크다. 작다. 보통---\n",
      "전체(3942, 6),(248, 6),(15663, 6)\n",
      "총장(657, 3),(331, 3),(18865, 3)\n",
      "어깨(200, 3),(34, 3),(19619, 3)\n",
      "가슴(115, 3),(25, 3),(19713, 3)\n",
      "팔(458, 3),(28, 3),(19367, 3)\n",
      "---크다. 작다. 보통---\n",
      "전체(3798, 6),(237, 6),(15000, 6)\n",
      "총장(657, 3),(331, 3),(18865, 3)\n",
      "어깨(191, 3),(32, 3),(18812, 3)\n",
      "가슴(115, 3),(25, 3),(19713, 3)\n",
      "팔(458, 3),(28, 3),(19366, 3)\n"
     ]
    }
   ],
   "source": [
    "\n",
    "    \n",
    "df_total_big        = df[df['total_big'] == 1]\n",
    "df_total_small      = df[df['total_small'] == 1]\n",
    "df_total_soso       = df[(df['total_big'] ==0) & (df['total_small'] ==0)]\n",
    "\n",
    "df_chongjang_big    = df[df['chongjang_big'] == 1]\n",
    "df_chongjang_small  = df[df['chongjang_small'] == 1]\n",
    "df_chongjang_soso   = df[(df['chongjang_big'] == 0) & (df['chongjang_small'] == 0)]\n",
    "\n",
    "df_shoulder_big     = df[df['shoulder_big'] == 1]\n",
    "df_shoulder_small   = df[df['shoulder_small'] == 1]\n",
    "df_shoulder_soso    = df[(df['shoulder_big'] == 0) & (df['shoulder_small'] == 0)]\n",
    "\n",
    "df_chest_big        = df[df['chest_big'] == 1]\n",
    "df_chest_small      = df[df['chest_small'] == 1]\n",
    "df_chest_soso       = df[(df['chest_big'] == 0 )& (df['chest_small'] == 0)]\n",
    "\n",
    "df_arm_big          = df[df['arm_big'] == 1]\n",
    "df_arm_small        = df[df['arm_small'] == 1]\n",
    "df_arm_soso         = df[(df['arm_big'] == 0) & (df['arm_small'] == 0)]\n",
    "\n",
    "###\n",
    "df_total_big        = df_total_big[['height','weight','총장','어깨너비','가슴단면','소매길이']]\n",
    "df_total_small      = df_total_small[['height','weight','총장','어깨너비','가슴단면','소매길이']]\n",
    "df_total_soso       = df_total_soso[['height','weight','총장','어깨너비','가슴단면','소매길이']]\n",
    "\n",
    "df_chongjang_big    = df_chongjang_big[['height','weight','총장']]\n",
    "df_chongjang_small  = df_chongjang_small[['height','weight','총장']]\n",
    "df_chongjang_soso   = df_chongjang_soso[['height','weight','총장']]\n",
    "\n",
    "df_shoulder_big     = df_shoulder_big[['height','weight','어깨너비']]\n",
    "df_shoulder_small   = df_shoulder_small[['height','weight','어깨너비']]\n",
    "df_shoulder_soso    = df_shoulder_soso[['height','weight','어깨너비']]\n",
    "\n",
    "df_chest_big        = df_chest_big[['height','weight','가슴단면']]\n",
    "df_chest_small      = df_chest_small[['height','weight','가슴단면']]\n",
    "df_chest_soso       = df_chest_soso[['height','weight','가슴단면']]\n",
    "\n",
    "df_arm_big          = df_arm_big[['height','weight','소매길이']]\n",
    "df_arm_small        = df_arm_small[['height','weight','소매길이']]\n",
    "df_arm_soso         = df_arm_soso[['height','weight','소매길이']]\n",
    "\n",
    "\n",
    "print('---크다. 작다. 보통---')\n",
    "print('전체{},{},{}'.format(df_total_big.shape,df_total_small.shape,df_total_soso.shape))\n",
    "print('총장{},{},{}'.format(df_chongjang_big.shape,df_chongjang_small.shape,df_chongjang_soso.shape))\n",
    "print('어깨{},{},{}'.format(df_shoulder_big.shape,df_shoulder_small.shape,df_shoulder_soso.shape))\n",
    "print('가슴{},{},{}'.format(df_chest_big.shape,df_chest_small.shape,df_chest_soso.shape))\n",
    "print('팔{},{},{}'.format(df_arm_big.shape,df_arm_small.shape,df_arm_soso.shape))\n",
    "\n",
    "df_total_big.dropna(axis = 0,inplace = True)\n",
    "df_total_small.dropna(axis = 0,inplace = True)\n",
    "df_total_soso.dropna(axis = 0,inplace = True)\n",
    "\n",
    "df_chongjang_big.dropna(axis = 0,inplace = True)\n",
    "df_chongjang_small.dropna(axis = 0,inplace = True)\n",
    "df_chongjang_soso.dropna(axis = 0,inplace = True)\n",
    "\n",
    "df_arm_big.dropna(axis = 0,inplace = True)\n",
    "df_arm_small.dropna(axis = 0,inplace = True)\n",
    "df_arm_soso.dropna(axis = 0,inplace = True)\n",
    "\n",
    "df_chest_big.dropna(axis = 0,inplace = True)\n",
    "df_chest_small.dropna(axis = 0,inplace = True)\n",
    "df_chest_soso.dropna(axis = 0,inplace = True)\n",
    "\n",
    "df_shoulder_big.dropna(axis = 0,inplace = True)\n",
    "df_shoulder_small.dropna(axis = 0,inplace = True)\n",
    "df_shoulder_soso.dropna(axis = 0,inplace = True)\n",
    "print('---크다. 작다. 보통---')\n",
    "print('전체{},{},{}'.format(df_total_big.shape,df_total_small.shape,df_total_soso.shape))\n",
    "print('총장{},{},{}'.format(df_chongjang_big.shape,df_chongjang_small.shape,df_chongjang_soso.shape))\n",
    "print('어깨{},{},{}'.format(df_shoulder_big.shape,df_shoulder_small.shape,df_shoulder_soso.shape))\n",
    "print('가슴{},{},{}'.format(df_chest_big.shape,df_chest_small.shape,df_chest_soso.shape))\n",
    "print('팔{},{},{}'.format(df_arm_big.shape,df_arm_small.shape,df_arm_soso.shape))\n",
    "\n",
    "\n",
    "#리스트에 들어가는 순서는 big,small,soso 순!! 꼭지키기!!\n",
    "hood_chongjang_train_lst = [\n",
    "                 #df_total_big,df_total_small,df_total_soso,\n",
    "                  df_chongjang_big,df_chongjang_small,df_chongjang_soso,\n",
    "                  #df_shoulder_big,df_shoulder_small,df_shoulder_soso,\n",
    "                  #df_chest_big,df_chest_small,df_chest_soso,\n",
    "                  #df_arm_big,df_arm_small,df_arm_soso\n",
    "                  ]\n",
    "hood_shoulder_train_lst = [\n",
    "                 #df_total_big,df_total_small,df_total_soso,\n",
    "                  #df_chongjang_big,df_chongjang_small,df_chongjang_soso,\n",
    "                  df_shoulder_big,df_shoulder_small,df_shoulder_soso,\n",
    "                  #df_chest_big,df_chest_small,df_chest_soso,\n",
    "                  #df_arm_big,df_arm_small,df_arm_soso\n",
    "                  ]\n",
    "\n",
    "hood_chest_train_lst = [\n",
    "                 #df_total_big,df_total_small,df_total_soso,\n",
    "                  #df_chongjang_big,df_chongjang_small,df_chongjang_soso,\n",
    "                  #df_shoulder_big,df_shoulder_small,df_shoulder_soso,\n",
    "                  df_chest_big,df_chest_small,df_chest_soso,\n",
    "                  #df_arm_big,df_arm_small,df_arm_soso\n",
    "                  ]\n",
    "\n",
    "hood_arm_train_lst = [\n",
    "                 #df_total_big,df_total_small,df_total_soso,\n",
    "                  #df_chongjang_big,df_chongjang_small,df_chongjang_soso,\n",
    "                  #df_shoulder_big,df_shoulder_small,df_shoulder_soso,\n",
    "                  #df_chest_big,df_chest_small,df_chest_soso,\n",
    "                  df_arm_big,df_arm_small,df_arm_soso\n",
    "                  ]\n",
    "#전체적으로 크다 혹은 작다 라고 답한 사람들은 그냥 총장, 어깨, 가슴, 팔에 전부 1을 주는 것이 어떤지,,\n",
    "#아니면 전체모델을 따로 돌리던가,, 하 모르겄다"
   ]
  },
  {
   "attachments": {},
   "cell_type": "markdown",
   "metadata": {},
   "source": [
    "## 훈련"
   ]
  },
  {
   "cell_type": "code",
   "execution_count": 38,
   "metadata": {},
   "outputs": [],
   "source": [
    "import joblib\n",
    "def trainModel(lst,sizetype):\n",
    "    user_pred_list = []\n",
    "    for i in range(len(lst)):\n",
    "        X = lst[i].iloc[:, :-1]\n",
    "        y = lst[i].iloc[:, -1]\n",
    "\n",
    "        xTrain, xTest, yTrain, yTest = train_test_split(X, y, test_size = 0.2, random_state = 531)\n",
    "        \n",
    "        mseOos = []\n",
    "        nTreeList = range(50, 500, 10)\n",
    "\n",
    "        for iTrees in tqdm(nTreeList, desc='iterate list'):\n",
    "            depth = None\n",
    "            RFModel = RandomForestRegressor(n_estimators=iTrees,\n",
    "                                            max_depth=depth,\n",
    "                                            oob_score=False, \n",
    "                                            random_state=531)\n",
    "            RFModel.fit(xTrain, yTrain)\n",
    "            \n",
    "            #데이터 세트에 대한 MSE 누적\n",
    "            prediction = RFModel.predict(xTest)\n",
    "            mseOos.append(mean_squared_error(yTest, prediction))\n",
    "            \n",
    "        regr = RandomForestRegressor(n_estimators = nTreeList[np.argmin(mseOos)],\n",
    "                                random_state=531)\n",
    "        regr.fit(xTrain, yTrain)\n",
    "        \n",
    "        prediction = regr.predict(xTest)\n",
    "        if i % 3 == 1:\n",
    "            print(\"MSE of small {}'s Model : {}\".format(lst[i].columns[-1], mean_squared_error(yTest, prediction)))\n",
    "            joblib.dump(regr, './'+sizetype+'_small_RFModel.pkl')\n",
    "        elif i % 3 == 2:\n",
    "            print(\"MSE of soso {}'s Model : {}\".format(lst[i].columns[-1], mean_squared_error(yTest, prediction)))\n",
    "            joblib.dump(regr, './'+sizetype+'_soso_RFModel.pkl')\n",
    "        elif i % 3 == 0:\n",
    "            print(\"MSE of big {}'s Model : {}\".format(lst[i].columns[-1], mean_squared_error(yTest, prediction)))\n",
    "            joblib.dump(regr, './'+sizetype+'_big_RFModel.pkl')\n",
    "            \n",
    "        userTest = [[178, 76]]\n",
    "        prediction_user = regr.predict(userTest)\n",
    "        user_pred_list.append(prediction_user)\n",
    "        print(\"User Test of {}'s Model : {}\".format(lst[i].columns[-1], prediction_user))\n",
    "    "
   ]
  },
  {
   "cell_type": "code",
   "execution_count": 39,
   "metadata": {},
   "outputs": [
    {
     "name": "stderr",
     "output_type": "stream",
     "text": [
      "iterate list: 100%|██████████| 45/45 [00:24<00:00,  1.87it/s]\n"
     ]
    },
    {
     "name": "stdout",
     "output_type": "stream",
     "text": [
      "MSE of big 총장's Model : 18.818416058042246\n",
      "User Test of 총장's Model : [71.31904762]\n"
     ]
    },
    {
     "name": "stderr",
     "output_type": "stream",
     "text": [
      "iterate list: 100%|██████████| 45/45 [00:19<00:00,  2.26it/s]\n"
     ]
    },
    {
     "name": "stdout",
     "output_type": "stream",
     "text": [
      "MSE of small 총장's Model : 71.30255563849123\n",
      "User Test of 총장's Model : [69.684]\n"
     ]
    },
    {
     "name": "stderr",
     "output_type": "stream",
     "text": [
      "iterate list: 100%|██████████| 45/45 [02:07<00:00,  2.84s/it]\n"
     ]
    },
    {
     "name": "stdout",
     "output_type": "stream",
     "text": [
      "MSE of soso 총장's Model : 13.186106683936623\n",
      "User Test of 총장's Model : [71.26602641]\n"
     ]
    }
   ],
   "source": [
    "sizetype = 'chongjang'\n",
    "trainModel(hood_chongjang_train_lst,sizetype)"
   ]
  },
  {
   "cell_type": "code",
   "execution_count": null,
   "metadata": {},
   "outputs": [],
   "source": [
    "sizetype = 'chest'\n",
    "trainModel(hood_chest_train_lst,sizetype)\n",
    "sizetype = 'arm'\n",
    "trainModel(hood_arm_train_lst,sizetype)\n",
    "sizetype = 'shoulder'\n",
    "trainModel(hood_shoulder_train_lst,sizetype)"
   ]
  },
  {
   "attachments": {},
   "cell_type": "markdown",
   "metadata": {},
   "source": [
    "## 230116 회의 중 보기 및 모델 trial"
   ]
  },
  {
   "cell_type": "code",
   "execution_count": 6,
   "metadata": {},
   "outputs": [
    {
     "name": "stdout",
     "output_type": "stream",
     "text": [
      "총장 크다작다 둘다 1:(66, 33)\n",
      "어깨 크다작다 둘다 1:(16, 33)\n",
      "가슴 크다작다 둘다 1:(11, 33)\n",
      "소매 크다작다 둘다 1:(12, 33)\n"
     ]
    }
   ],
   "source": [
    "print('총장 크다작다 둘다 1:{}'.format(df[(df['chongjang_big']==1) & (df['chongjang_small']==1)].shape))\n",
    "print('어깨 크다작다 둘다 1:{}'.format(df[(df['shoulder_big']==1) & (df['shoulder_small']==1)].shape))\n",
    "print('가슴 크다작다 둘다 1:{}'.format(df[(df['chest_big']==1) & (df['chest_small']==1)].shape))\n",
    "print('소매 크다작다 둘다 1:{}'.format(df[(df['arm_big']==1) & (df['arm_small']==1)].shape))"
   ]
  },
  {
   "attachments": {},
   "cell_type": "markdown",
   "metadata": {},
   "source": [
    "## 230119 model trial2"
   ]
  },
  {
   "cell_type": "code",
   "execution_count": 7,
   "metadata": {},
   "outputs": [
    {
     "data": {
      "text/html": [
       "<div>\n",
       "<style scoped>\n",
       "    .dataframe tbody tr th:only-of-type {\n",
       "        vertical-align: middle;\n",
       "    }\n",
       "\n",
       "    .dataframe tbody tr th {\n",
       "        vertical-align: top;\n",
       "    }\n",
       "\n",
       "    .dataframe thead th {\n",
       "        text-align: right;\n",
       "    }\n",
       "</style>\n",
       "<table border=\"1\" class=\"dataframe\">\n",
       "  <thead>\n",
       "    <tr style=\"text-align: right;\">\n",
       "      <th></th>\n",
       "      <th>gender</th>\n",
       "      <th>height</th>\n",
       "      <th>weight</th>\n",
       "      <th>size</th>\n",
       "      <th>content</th>\n",
       "      <th>총장</th>\n",
       "      <th>어깨너비</th>\n",
       "      <th>가슴단면</th>\n",
       "      <th>소매길이</th>\n",
       "      <th>total_big</th>\n",
       "      <th>total_small</th>\n",
       "      <th>chongjang_big</th>\n",
       "      <th>chongjang_small</th>\n",
       "      <th>arm_big</th>\n",
       "      <th>arm_small</th>\n",
       "      <th>chest_big</th>\n",
       "      <th>chest_small</th>\n",
       "      <th>shoulder_big</th>\n",
       "      <th>shoulder_small</th>\n",
       "      <th>total_normal</th>\n",
       "      <th>chongjang_normal</th>\n",
       "      <th>arm_normal</th>\n",
       "      <th>shoulder_normal</th>\n",
       "      <th>chest_normal</th>\n",
       "    </tr>\n",
       "  </thead>\n",
       "  <tbody>\n",
       "    <tr>\n",
       "      <th>0</th>\n",
       "      <td>0</td>\n",
       "      <td>160.0</td>\n",
       "      <td>42.0</td>\n",
       "      <td>M</td>\n",
       "      <td>면이 톡톡해서 좋아요. 너무 얇지도 두껍지도 않아요...평상시 S입는데 오버핏으로 ...</td>\n",
       "      <td>70.0</td>\n",
       "      <td>63.0</td>\n",
       "      <td>59.0</td>\n",
       "      <td>55.0</td>\n",
       "      <td>1</td>\n",
       "      <td>0</td>\n",
       "      <td>1</td>\n",
       "      <td>0</td>\n",
       "      <td>1</td>\n",
       "      <td>0</td>\n",
       "      <td>1</td>\n",
       "      <td>0</td>\n",
       "      <td>1</td>\n",
       "      <td>0</td>\n",
       "      <td>0</td>\n",
       "      <td>1</td>\n",
       "      <td>1</td>\n",
       "      <td>1</td>\n",
       "      <td>1</td>\n",
       "    </tr>\n",
       "    <tr>\n",
       "      <th>1</th>\n",
       "      <td>1</td>\n",
       "      <td>174.0</td>\n",
       "      <td>78.0</td>\n",
       "      <td>L</td>\n",
       "      <td>자주사용할 회색후드티 찾고있었는데 가성비도 좋고 기본템으로 활용하기 좋아 구매했어요!</td>\n",
       "      <td>72.0</td>\n",
       "      <td>64.0</td>\n",
       "      <td>61.0</td>\n",
       "      <td>56.0</td>\n",
       "      <td>0</td>\n",
       "      <td>0</td>\n",
       "      <td>0</td>\n",
       "      <td>0</td>\n",
       "      <td>0</td>\n",
       "      <td>0</td>\n",
       "      <td>0</td>\n",
       "      <td>0</td>\n",
       "      <td>0</td>\n",
       "      <td>0</td>\n",
       "      <td>1</td>\n",
       "      <td>1</td>\n",
       "      <td>1</td>\n",
       "      <td>1</td>\n",
       "      <td>1</td>\n",
       "    </tr>\n",
       "    <tr>\n",
       "      <th>2</th>\n",
       "      <td>1</td>\n",
       "      <td>165.0</td>\n",
       "      <td>63.0</td>\n",
       "      <td>M</td>\n",
       "      <td>요즘은 진짜 와릿이즌이 대세인가봐요.직장동료가 요즘애들이 좋아하는 브랜드라고 해서 ...</td>\n",
       "      <td>70.0</td>\n",
       "      <td>63.0</td>\n",
       "      <td>59.0</td>\n",
       "      <td>55.0</td>\n",
       "      <td>0</td>\n",
       "      <td>0</td>\n",
       "      <td>0</td>\n",
       "      <td>0</td>\n",
       "      <td>0</td>\n",
       "      <td>0</td>\n",
       "      <td>0</td>\n",
       "      <td>0</td>\n",
       "      <td>0</td>\n",
       "      <td>0</td>\n",
       "      <td>1</td>\n",
       "      <td>1</td>\n",
       "      <td>1</td>\n",
       "      <td>1</td>\n",
       "      <td>1</td>\n",
       "    </tr>\n",
       "    <tr>\n",
       "      <th>3</th>\n",
       "      <td>0</td>\n",
       "      <td>166.0</td>\n",
       "      <td>51.0</td>\n",
       "      <td>S</td>\n",
       "      <td>질 맞고 좋아요 색깔도 이쁘고 촌스럽지 않고 너무 좋아요</td>\n",
       "      <td>68.0</td>\n",
       "      <td>62.0</td>\n",
       "      <td>57.0</td>\n",
       "      <td>54.0</td>\n",
       "      <td>0</td>\n",
       "      <td>0</td>\n",
       "      <td>0</td>\n",
       "      <td>0</td>\n",
       "      <td>0</td>\n",
       "      <td>0</td>\n",
       "      <td>0</td>\n",
       "      <td>0</td>\n",
       "      <td>0</td>\n",
       "      <td>0</td>\n",
       "      <td>1</td>\n",
       "      <td>1</td>\n",
       "      <td>1</td>\n",
       "      <td>1</td>\n",
       "      <td>1</td>\n",
       "    </tr>\n",
       "    <tr>\n",
       "      <th>4</th>\n",
       "      <td>0</td>\n",
       "      <td>162.0</td>\n",
       "      <td>47.0</td>\n",
       "      <td>S</td>\n",
       "      <td>솔직히 받고나서는 건조기 돌릴거 감안해서 m살까 했는데 지금보니 s사길 잘한 것 같...</td>\n",
       "      <td>68.0</td>\n",
       "      <td>62.0</td>\n",
       "      <td>57.0</td>\n",
       "      <td>54.0</td>\n",
       "      <td>0</td>\n",
       "      <td>0</td>\n",
       "      <td>0</td>\n",
       "      <td>0</td>\n",
       "      <td>0</td>\n",
       "      <td>0</td>\n",
       "      <td>0</td>\n",
       "      <td>0</td>\n",
       "      <td>0</td>\n",
       "      <td>0</td>\n",
       "      <td>1</td>\n",
       "      <td>1</td>\n",
       "      <td>1</td>\n",
       "      <td>1</td>\n",
       "      <td>1</td>\n",
       "    </tr>\n",
       "  </tbody>\n",
       "</table>\n",
       "</div>"
      ],
      "text/plain": [
       "   gender  height  weight size  \\\n",
       "0       0   160.0    42.0    M   \n",
       "1       1   174.0    78.0    L   \n",
       "2       1   165.0    63.0    M   \n",
       "3       0   166.0    51.0    S   \n",
       "4       0   162.0    47.0    S   \n",
       "\n",
       "                                             content    총장  어깨너비  가슴단면  소매길이  \\\n",
       "0  면이 톡톡해서 좋아요. 너무 얇지도 두껍지도 않아요...평상시 S입는데 오버핏으로 ...  70.0  63.0  59.0  55.0   \n",
       "1    자주사용할 회색후드티 찾고있었는데 가성비도 좋고 기본템으로 활용하기 좋아 구매했어요!  72.0  64.0  61.0  56.0   \n",
       "2  요즘은 진짜 와릿이즌이 대세인가봐요.직장동료가 요즘애들이 좋아하는 브랜드라고 해서 ...  70.0  63.0  59.0  55.0   \n",
       "3                    질 맞고 좋아요 색깔도 이쁘고 촌스럽지 않고 너무 좋아요  68.0  62.0  57.0  54.0   \n",
       "4  솔직히 받고나서는 건조기 돌릴거 감안해서 m살까 했는데 지금보니 s사길 잘한 것 같...  68.0  62.0  57.0  54.0   \n",
       "\n",
       "   total_big  total_small  chongjang_big  chongjang_small  arm_big  arm_small  \\\n",
       "0          1            0              1                0        1          0   \n",
       "1          0            0              0                0        0          0   \n",
       "2          0            0              0                0        0          0   \n",
       "3          0            0              0                0        0          0   \n",
       "4          0            0              0                0        0          0   \n",
       "\n",
       "   chest_big  chest_small  shoulder_big  shoulder_small  total_normal  \\\n",
       "0          1            0             1               0             0   \n",
       "1          0            0             0               0             1   \n",
       "2          0            0             0               0             1   \n",
       "3          0            0             0               0             1   \n",
       "4          0            0             0               0             1   \n",
       "\n",
       "   chongjang_normal  arm_normal  shoulder_normal  chest_normal  \n",
       "0                 1           1                1             1  \n",
       "1                 1           1                1             1  \n",
       "2                 1           1                1             1  \n",
       "3                 1           1                1             1  \n",
       "4                 1           1                1             1  "
      ]
     },
     "execution_count": 7,
     "metadata": {},
     "output_type": "execute_result"
    }
   ],
   "source": [
    "df = pd.read_pickle('data/Modeling_DF_230116.pickle')\n",
    "#df.drop(['total_normal','chongjang_normal','arm_normal','shoulder_normal','chest_normal'],axis = 1)\n",
    "df.head()"
   ]
  },
  {
   "cell_type": "code",
   "execution_count": 33,
   "metadata": {},
   "outputs": [],
   "source": [
    "def preprocessing(df):\n",
    "    df = df.astype({'chongjang_big':'int',\n",
    "                'chongjang_small':'int',\n",
    "                'shoulder_big':'int',\n",
    "                'shoulder_small':'int',\n",
    "                'chest_big':'int',\n",
    "                'chest_small':'int',\n",
    "                'arm_big':'int',\n",
    "                'arm_small':'int'})\n",
    "    df = df.loc[:, ['gender', 'height', 'weight', 'size', 'content',\n",
    "                    '총장', '어깨너비', '가슴단면', '소매길이',\n",
    "                    'chongjang_big', 'chongjang_small',\n",
    "                    'shoulder_big', 'shoulder_small',\n",
    "                    'chest_big', 'chest_small',\n",
    "                    'arm_big', 'arm_small']]\n",
    "    \n",
    "    # Make train set\n",
    "    df_chongjang_big    = df.loc[df['chongjang_big'] == 1, ['height','weight','gender', '총장']]\n",
    "    df_chongjang_small  = df.loc[df['chongjang_small'] == 1, ['height','weight','gender', '총장']]\n",
    "    df_chongjang_soso   = df.loc[(df['chongjang_big'] == 0) & (df['chongjang_small'] == 0), ['height','weight','gender', '총장']]\n",
    "\n",
    "    df_shoulder_big     = df.loc[df['shoulder_big'] == 1, ['height','weight','gender', '어깨너비']]\n",
    "    df_shoulder_small   = df.loc[df['shoulder_small'] == 1, ['height','weight','gender', '어깨너비']]\n",
    "    df_shoulder_soso    = df.loc[(df['shoulder_big'] == 0) & (df['shoulder_small'] == 0), ['height','weight','gender', '어깨너비']]\n",
    "\n",
    "    df_chest_big        = df.loc[df['chest_big'] == 1, ['height','weight','gender', '가슴단면']]\n",
    "    df_chest_small      = df.loc[df['chest_small'] == 1, ['height','weight','gender', '가슴단면']]\n",
    "    df_chest_soso       = df.loc[(df['chest_big'] == 0 )& (df['chest_small'] == 0), ['height','weight','gender', '가슴단면']]\n",
    "\n",
    "    df_arm_big          = df.loc[df['arm_big'] == 1, ['height','weight','gender','소매길이']]\n",
    "    df_arm_small        = df.loc[df['arm_small'] == 1, ['height','weight','gender','소매길이']]\n",
    "    df_arm_soso         = df.loc[(df['arm_big'] == 0) & (df['arm_small'] == 0), ['height','weight','gender','소매길이']]\n",
    "\n",
    "    # Drop Null value\n",
    "    df_chongjang_big.dropna(axis = 0,inplace = True)\n",
    "    df_chongjang_small.dropna(axis = 0,inplace = True)\n",
    "    df_chongjang_soso.dropna(axis = 0,inplace = True)\n",
    "\n",
    "    df_arm_big.dropna(axis = 0,inplace = True)\n",
    "    df_arm_small.dropna(axis = 0,inplace = True)\n",
    "    df_arm_soso.dropna(axis = 0,inplace = True)\n",
    "\n",
    "    df_chest_big.dropna(axis = 0,inplace = True)\n",
    "    df_chest_small.dropna(axis = 0,inplace = True)\n",
    "    df_chest_soso.dropna(axis = 0,inplace = True)\n",
    "\n",
    "    df_shoulder_big.dropna(axis = 0,inplace = True)\n",
    "    df_shoulder_small.dropna(axis = 0,inplace = True)\n",
    "    df_shoulder_soso.dropna(axis = 0,inplace = True)\n",
    "    \n",
    "    # train df list\n",
    "    hood_chongjang_train_lst = [df_chongjang_big, df_chongjang_small, df_chongjang_soso]\n",
    "    hood_shoulder_train_lst = [df_shoulder_big, df_shoulder_small, df_shoulder_soso]\n",
    "    hood_chest_train_lst = [df_chest_big, df_chest_small, df_chest_soso]\n",
    "    hood_arm_train_lst = [df_arm_big, df_arm_small, df_arm_soso]\n",
    "    \n",
    "    return hood_chongjang_train_lst, hood_shoulder_train_lst, hood_chest_train_lst, hood_arm_train_lst"
   ]
  },
  {
   "cell_type": "code",
   "execution_count": 34,
   "metadata": {},
   "outputs": [],
   "source": [
    "hood_chongjang_train_lst, hood_shoulder_train_lst, hood_chest_train_lst, hood_arm_train_lst = preprocessing(df)"
   ]
  },
  {
   "attachments": {},
   "cell_type": "markdown",
   "metadata": {},
   "source": [
    "* lr"
   ]
  },
  {
   "cell_type": "code",
   "execution_count": 28,
   "metadata": {},
   "outputs": [],
   "source": [
    "import joblib\n",
    "from sklearn.linear_model import LinearRegression\n",
    "def lr_trainModel(lst,sizetype):\n",
    "    user_pred_list = []\n",
    "    for i in range(len(lst)):\n",
    "        \n",
    "        X = lst[i].iloc[:, :-1]\n",
    "        y = lst[i].iloc[:, -1]\n",
    "\n",
    "        xTrain, xTest, yTrain, yTest = train_test_split(X, y, test_size = 0.2, random_state = 42)\n",
    "        #print(xTrain.shape, xTest.shape, yTrain.shape, yTest.shape)\n",
    "        \n",
    "        lr = LinearRegression()\n",
    "        lr.fit(xTrain,yTrain)\n",
    "        prediction = lr.predict(xTest)\n",
    "        # mseOos = []\n",
    "        # nTreeList = range(50, 500, 10)\n",
    "\n",
    "        # for iTrees in tqdm(nTreeList, desc='iterate list'):\n",
    "        #     depth = None\n",
    "        #     RFModel = RandomForestRegressor(n_estimators=iTrees,\n",
    "        #                                     max_depth=depth,\n",
    "        #                                     oob_score=False, \n",
    "        #                                     random_state=531)\n",
    "        #     RFModel.fit(xTrain, yTrain)\n",
    "            \n",
    "        #     #데이터 세트에 대한 MSE 누적\n",
    "        #     prediction = RFModel.predict(xTest)\n",
    "        #     mseOos.append(mean_squared_error(yTest, prediction))\n",
    "            \n",
    "        # regr = RandomForestRegressor(n_estimators = nTreeList[np.argmin(mseOos)],\n",
    "        #                         random_state=531)\n",
    "        # regr.fit(xTrain, yTrain)\n",
    "        \n",
    "        #prediction = regr.predict(xTest)\n",
    "        if i % 3 == 1:\n",
    "            print(\"MSE of small {}'s Model : {}\".format(lst[i].columns[-1], mean_squared_error(yTest, prediction)))\n",
    "            joblib.dump(lr, 'model/'+sizetype+'_small_lrModel.pkl')\n",
    "        elif i % 3 == 2:\n",
    "            print(\"MSE of soso {}'s Model : {}\".format(lst[i].columns[-1], mean_squared_error(yTest, prediction)))\n",
    "            joblib.dump(lr, 'model/'+sizetype+'_soso_lrModel.pkl')\n",
    "        elif i % 3 == 0:\n",
    "            print(\"MSE of big {}'s Model : {}\".format(lst[i].columns[-1], mean_squared_error(yTest, prediction)))\n",
    "            joblib.dump(lr, 'model/'+sizetype+'_big_lrModel.pkl')\n",
    "            \n",
    "        userTest = [[178, 76,0]]\n",
    "        prediction_user = lr.predict(userTest)\n",
    "        user_pred_list.append(prediction_user)\n",
    "        print(\"User Test of {}'s Model : {}\".format(lst[i].columns[-1], prediction_user))\n",
    "    "
   ]
  },
  {
   "cell_type": "code",
   "execution_count": 29,
   "metadata": {},
   "outputs": [
    {
     "name": "stdout",
     "output_type": "stream",
     "text": [
      "MSE of big 총장's Model : 10.56246451429201\n",
      "User Test of 총장's Model : [72.47986138]\n",
      "MSE of small 총장's Model : 34.64142186013472\n",
      "User Test of 총장's Model : [66.63667296]\n",
      "MSE of soso 총장's Model : 29.829644338174713\n",
      "User Test of 총장's Model : [71.16712188]\n",
      "MSE of big 어깨너비's Model : 25.808701244945308\n",
      "User Test of 어깨너비's Model : [64.08138523]\n",
      "MSE of small 어깨너비's Model : 21.886753090743852\n",
      "User Test of 어깨너비's Model : [62.61880571]\n",
      "MSE of soso 어깨너비's Model : 27.78459477561879\n",
      "User Test of 어깨너비's Model : [62.23460451]\n",
      "MSE of big 가슴단면's Model : 17.305104278729896\n",
      "User Test of 가슴단면's Model : [66.95859724]\n",
      "MSE of small 가슴단면's Model : 27.838622143892806\n",
      "User Test of 가슴단면's Model : [62.85977089]\n",
      "MSE of soso 가슴단면's Model : 17.769704632618247\n",
      "User Test of 가슴단면's Model : [64.48208286]\n",
      "MSE of big 소매길이's Model : 39.14226190003229\n",
      "User Test of 소매길이's Model : [62.03967739]\n",
      "MSE of small 소매길이's Model : 36.32076057062744\n",
      "User Test of 소매길이's Model : [60.46368233]\n",
      "MSE of soso 소매길이's Model : 35.86978391163876\n",
      "User Test of 소매길이's Model : [61.05093146]\n"
     ]
    }
   ],
   "source": [
    "sizetype = 'chongjang'\n",
    "lr_trainModel(hood_chongjang_train_lst,sizetype)\n",
    "sizetype = 'shoulder'\n",
    "lr_trainModel(hood_shoulder_train_lst,sizetype)\n",
    "sizetype = 'chest'\n",
    "lr_trainModel(hood_chest_train_lst,sizetype)\n",
    "sizetype = 'arm'\n",
    "lr_trainModel(hood_arm_train_lst,sizetype)"
   ]
  },
  {
   "attachments": {},
   "cell_type": "markdown",
   "metadata": {},
   "source": [
    "* gbr"
   ]
  },
  {
   "cell_type": "code",
   "execution_count": 30,
   "metadata": {},
   "outputs": [],
   "source": [
    "import joblib\n",
    "from sklearn.linear_model import LinearRegression\n",
    "from sklearn.model_selection import GridSearchCV\n",
    "from sklearn.ensemble import GradientBoostingRegressor\n",
    "from sklearn.metrics import accuracy_score\n",
    "\n",
    "\n",
    "def gbr_trainModel(lst,sizetype):\n",
    "    user_pred_list = []\n",
    "    for i in tqdm(range(len(lst))):\n",
    "        \n",
    "        X = lst[i].iloc[:, :-1]\n",
    "        y = lst[i].iloc[:, -1]\n",
    "\n",
    "        xTrain, xTest, yTrain, yTest = train_test_split(X, y, test_size = 0.2, random_state = 42)\n",
    "        #print(xTrain.shape, xTest.shape, yTrain.shape, yTest.shape)\n",
    "        \n",
    "        \n",
    "        gbr = GradientBoostingRegressor()\n",
    "\n",
    "        parameters = {'learning_rate': [0.01,0.05,0.1,0.15],\n",
    "                  'subsample'    : [0.9, 0.5, 0.2, 0.1],\n",
    "                  'n_estimators' : [100,200,300,500],\n",
    "                  'max_depth'    : [4,6,8,10]\n",
    "                 }\n",
    "\n",
    "        grid_gbr = GridSearchCV(estimator=gbr, param_grid = parameters, cv = 2, n_jobs=-1)\n",
    "        grid_gbr.fit(xTrain,yTrain)\n",
    "        print(\"The best estimator across ALL searched params:\",grid_gbr.best_estimator_)\n",
    "        \n",
    "        model = grid_gbr.best_estimator_\n",
    "        model.fit(xTrain,yTrain)\n",
    "        prediction = model.predict(xTest)\n",
    "        print('accuracy:{0:.4f}'.format(model.score(xTest,yTest)))\n",
    "        \n",
    "        if i % 3 == 1:\n",
    "            print(\"MSE of small {}'s Model : {}\".format(lst[i].columns[-1], mean_squared_error(yTest, prediction)))\n",
    "            joblib.dump(model, 'model/'+sizetype+'_small_gbrModel.pkl')\n",
    "        elif i % 3 == 2:\n",
    "            print(\"MSE of soso {}'s Model : {}\".format(lst[i].columns[-1], mean_squared_error(yTest, prediction)))\n",
    "            joblib.dump(model, 'model/'+sizetype+'_soso_gbrModel.pkl')\n",
    "        elif i % 3 == 0:\n",
    "            print(\"MSE of big {}'s Model : {}\".format(lst[i].columns[-1], mean_squared_error(yTest, prediction)))\n",
    "            joblib.dump(model, 'model/'+sizetype+'_big_gbrModel.pkl')\n",
    "            \n",
    "        userTest = [[178, 76,0]]\n",
    "        prediction_user = model.predict(userTest)\n",
    "        user_pred_list.append(prediction_user)\n",
    "        print(\"User Test of {}'s Model : {}\".format(lst[i].columns[-1], prediction_user))\n",
    "    "
   ]
  },
  {
   "cell_type": "code",
   "execution_count": 31,
   "metadata": {},
   "outputs": [
    {
     "name": "stderr",
     "output_type": "stream",
     "text": [
      "  0%|          | 0/3 [00:00<?, ?it/s]"
     ]
    },
    {
     "name": "stdout",
     "output_type": "stream",
     "text": [
      "The best estimator across ALL searched params: GradientBoostingRegressor(learning_rate=0.01, max_depth=4, n_estimators=200,\n",
      "                          subsample=0.1)\n"
     ]
    },
    {
     "name": "stderr",
     "output_type": "stream",
     "text": [
      " 33%|███▎      | 1/3 [01:04<02:08, 64.14s/it]"
     ]
    },
    {
     "name": "stdout",
     "output_type": "stream",
     "text": [
      "accuracy:0.2051\n",
      "MSE of big 총장's Model : 11.037546229977856\n",
      "User Test of 총장's Model : [71.92009129]\n"
     ]
    },
    {
     "name": "stderr",
     "output_type": "stream",
     "text": [
      " 67%|██████▋   | 2/3 [01:26<00:39, 39.46s/it]"
     ]
    },
    {
     "name": "stdout",
     "output_type": "stream",
     "text": [
      "The best estimator across ALL searched params: GradientBoostingRegressor(learning_rate=0.01, max_depth=6, subsample=0.1)\n",
      "accuracy:0.2618\n",
      "MSE of small 총장's Model : 35.6653781606355\n",
      "User Test of 총장's Model : [68.0433713]\n",
      "The best estimator across ALL searched params: GradientBoostingRegressor(learning_rate=0.01, max_depth=4, n_estimators=300,\n",
      "                          subsample=0.9)\n"
     ]
    },
    {
     "name": "stderr",
     "output_type": "stream",
     "text": [
      "100%|██████████| 3/3 [03:41<00:00, 73.68s/it]\n"
     ]
    },
    {
     "name": "stdout",
     "output_type": "stream",
     "text": [
      "accuracy:0.2280\n",
      "MSE of soso 총장's Model : 13.69874839753916\n",
      "User Test of 총장's Model : [71.05986753]\n"
     ]
    },
    {
     "name": "stderr",
     "output_type": "stream",
     "text": [
      "  0%|          | 0/3 [00:00<?, ?it/s]"
     ]
    },
    {
     "name": "stdout",
     "output_type": "stream",
     "text": [
      "The best estimator across ALL searched params: GradientBoostingRegressor(learning_rate=0.01, max_depth=4, n_estimators=200,\n",
      "                          subsample=0.5)\n"
     ]
    },
    {
     "name": "stderr",
     "output_type": "stream",
     "text": [
      " 33%|███▎      | 1/3 [01:01<02:02, 61.46s/it]"
     ]
    },
    {
     "name": "stdout",
     "output_type": "stream",
     "text": [
      "accuracy:0.0501\n",
      "MSE of big 어깨너비's Model : 26.082432136901247\n",
      "User Test of 어깨너비's Model : [62.8206264]\n"
     ]
    },
    {
     "name": "stderr",
     "output_type": "stream",
     "text": [
      " 67%|██████▋   | 2/3 [01:22<00:37, 37.48s/it]"
     ]
    },
    {
     "name": "stdout",
     "output_type": "stream",
     "text": [
      "The best estimator across ALL searched params: GradientBoostingRegressor(learning_rate=0.01, max_depth=10, subsample=0.1)\n",
      "accuracy:-0.0723\n",
      "MSE of small 어깨너비's Model : 22.81378083098999\n",
      "User Test of 어깨너비's Model : [60.2877842]\n",
      "The best estimator across ALL searched params: GradientBoostingRegressor(learning_rate=0.01, max_depth=4, n_estimators=300,\n",
      "                          subsample=0.2)\n"
     ]
    },
    {
     "name": "stderr",
     "output_type": "stream",
     "text": [
      "100%|██████████| 3/3 [03:40<00:00, 73.66s/it]\n"
     ]
    },
    {
     "name": "stdout",
     "output_type": "stream",
     "text": [
      "accuracy:0.0704\n",
      "MSE of soso 어깨너비's Model : 27.372433305785734\n",
      "User Test of 어깨너비's Model : [62.79682109]\n"
     ]
    },
    {
     "name": "stderr",
     "output_type": "stream",
     "text": [
      "  0%|          | 0/3 [00:00<?, ?it/s]"
     ]
    },
    {
     "name": "stdout",
     "output_type": "stream",
     "text": [
      "The best estimator across ALL searched params: GradientBoostingRegressor(learning_rate=0.01, max_depth=4, n_estimators=200,\n",
      "                          subsample=0.5)\n"
     ]
    },
    {
     "name": "stderr",
     "output_type": "stream",
     "text": [
      " 33%|███▎      | 1/3 [00:59<01:58, 59.09s/it]"
     ]
    },
    {
     "name": "stdout",
     "output_type": "stream",
     "text": [
      "accuracy:0.1598\n",
      "MSE of big 가슴단면's Model : 16.94047461216125\n",
      "User Test of 가슴단면's Model : [65.977534]\n",
      "The best estimator across ALL searched params: GradientBoostingRegressor(learning_rate=0.01, max_depth=4, n_estimators=200,\n",
      "                          subsample=0.2)\n"
     ]
    },
    {
     "name": "stderr",
     "output_type": "stream",
     "text": [
      " 67%|██████▋   | 2/3 [01:23<00:38, 38.56s/it]"
     ]
    },
    {
     "name": "stdout",
     "output_type": "stream",
     "text": [
      "accuracy:-0.0138\n",
      "MSE of small 가슴단면's Model : 28.656124200893274\n",
      "User Test of 가슴단면's Model : [64.33686527]\n",
      "The best estimator across ALL searched params: GradientBoostingRegressor(learning_rate=0.01, max_depth=4, n_estimators=300,\n",
      "                          subsample=0.1)\n"
     ]
    },
    {
     "name": "stderr",
     "output_type": "stream",
     "text": [
      "100%|██████████| 3/3 [03:48<00:00, 76.33s/it]\n"
     ]
    },
    {
     "name": "stdout",
     "output_type": "stream",
     "text": [
      "accuracy:0.1670\n",
      "MSE of soso 가슴단면's Model : 17.00683059008934\n",
      "User Test of 가슴단면's Model : [64.74300854]\n"
     ]
    },
    {
     "name": "stderr",
     "output_type": "stream",
     "text": [
      "  0%|          | 0/3 [00:00<?, ?it/s]"
     ]
    },
    {
     "name": "stdout",
     "output_type": "stream",
     "text": [
      "The best estimator across ALL searched params: GradientBoostingRegressor(learning_rate=0.01, max_depth=4, subsample=0.9)\n"
     ]
    },
    {
     "name": "stderr",
     "output_type": "stream",
     "text": [
      " 33%|███▎      | 1/3 [01:04<02:09, 64.94s/it]"
     ]
    },
    {
     "name": "stdout",
     "output_type": "stream",
     "text": [
      "accuracy:0.0491\n",
      "MSE of big 소매길이's Model : 38.8626674649251\n",
      "User Test of 소매길이's Model : [61.67052208]\n"
     ]
    },
    {
     "name": "stderr",
     "output_type": "stream",
     "text": [
      " 67%|██████▋   | 2/3 [01:28<00:40, 40.69s/it]"
     ]
    },
    {
     "name": "stdout",
     "output_type": "stream",
     "text": [
      "The best estimator across ALL searched params: GradientBoostingRegressor(learning_rate=0.01, max_depth=4, subsample=0.2)\n",
      "accuracy:0.0309\n",
      "MSE of small 소매길이's Model : 39.62548496330436\n",
      "User Test of 소매길이's Model : [60.46684276]\n",
      "The best estimator across ALL searched params: GradientBoostingRegressor(learning_rate=0.01, max_depth=4, n_estimators=200,\n",
      "                          subsample=0.5)\n"
     ]
    },
    {
     "name": "stderr",
     "output_type": "stream",
     "text": [
      "100%|██████████| 3/3 [03:41<00:00, 73.90s/it]"
     ]
    },
    {
     "name": "stdout",
     "output_type": "stream",
     "text": [
      "accuracy:0.0748\n",
      "MSE of soso 소매길이's Model : 35.258900868943684\n",
      "User Test of 소매길이's Model : [61.72855214]\n"
     ]
    },
    {
     "name": "stderr",
     "output_type": "stream",
     "text": [
      "\n"
     ]
    }
   ],
   "source": [
    "sizetype = 'chongjang'\n",
    "gbr_trainModel(hood_chongjang_train_lst,sizetype)\n",
    "sizetype = 'shoulder'\n",
    "gbr_trainModel(hood_shoulder_train_lst,sizetype)\n",
    "sizetype = 'chest'\n",
    "gbr_trainModel(hood_chest_train_lst,sizetype)\n",
    "sizetype = 'arm'\n",
    "gbr_trainModel(hood_arm_train_lst,sizetype)"
   ]
  },
  {
   "cell_type": "code",
   "execution_count": null,
   "metadata": {},
   "outputs": [],
   "source": []
  },
  {
   "attachments": {},
   "cell_type": "markdown",
   "metadata": {},
   "source": [
    "# 가중치 구하는 법!"
   ]
  },
  {
   "cell_type": "code",
   "execution_count": 85,
   "metadata": {},
   "outputs": [],
   "source": [
    "#df_chongjang_big #크다!!\n",
    "#hood_chongjang_train_lst[1]\n",
    "\n",
    "def decide_weight(lst,size_type):\n",
    "    print('-------'+size_type+'-------')\n",
    "    for i in range(len(lst)):\n",
    "\n",
    "        X = hood_chongjang_train_lst[i].iloc[:, :-1]\n",
    "        y = hood_chongjang_train_lst[i].iloc[:, -1]\n",
    "        xTrain, xTest, yTrain, yTest = train_test_split(X, y, test_size = 0.2, random_state = 42)\n",
    "\n",
    "        # a = range(0.1, 1.0, 0.1)\n",
    "        # b = range(0.1, 1.0, 0.1)\n",
    "        # c = 1 - a -b\n",
    "\n",
    "        load_model_big = joblib.load('model/'+size_type+'_big_gbrModel.pkl')\n",
    "        prediction_big = load_model_big.predict(xTest)#a\n",
    "                \n",
    "        load_model_small = joblib.load('model/'+size_type+'_small_gbrModel.pkl')\n",
    "        prediction_small = load_model_small.predict(xTest)#b\n",
    "                \n",
    "        load_model_soso = joblib.load('model/'+size_type+'_soso_gbrModel.pkl')\n",
    "        prediction_soso = load_model_soso.predict(xTest)#c\n",
    "\n",
    "        mse_lst = []\n",
    "        abc = []\n",
    "\n",
    "        for a in np.arange(0.1, 1.0, 0.1):\n",
    "            for b in np.arange(0.1, 1 - a, 0.1):\n",
    "                \n",
    "                c = 1 - (a + b)\n",
    "                final_prediction = prediction_big * a + prediction_small* b + prediction_soso * c\n",
    "                abc.append([a,b,c])\n",
    "                mse_lst.append(mean_squared_error(yTest, final_prediction))\n",
    "                \n",
    "        if i % 3 == 1:\n",
    "            print(\"small일 때! 최소 MSE:{},가중치(big,small,soso):{}\".format(mse_lst[np.argmin(mse_lst)],abc[np.argmin(mse_lst)]))\n",
    "            \n",
    "        elif i % 3 == 2:\n",
    "            print(\"soso일 때! 최소 MSE:{},가중치(big,small,soso):{}\".format(mse_lst[np.argmin(mse_lst)],abc[np.argmin(mse_lst)]))\n",
    "            \n",
    "        elif i % 3 == 0:\n",
    "            print(\"big일 때! 최소 MSE:{},가중치(big,small,soso):{}\".format(mse_lst[np.argmin(mse_lst)],abc[np.argmin(mse_lst)]))\n",
    "            \n",
    "            \n",
    "        abc[np.argmin(mse_lst)]\n",
    "    print(len(mse_lst),len(abc)) \n",
    "#c[np.argmin(mseOos)]\n",
    "        \n",
    "        "
   ]
  },
  {
   "cell_type": "code",
   "execution_count": 86,
   "metadata": {},
   "outputs": [
    {
     "name": "stdout",
     "output_type": "stream",
     "text": [
      "-------chongjang-------\n",
      "big일 때! 최소 MSE:10.806990951662156,가중치(big,small,soso):[0.5, 0.1, 0.4]\n",
      "small일 때! 최소 MSE:35.28560618474201,가중치(big,small,soso):[0.1, 0.8, 0.09999999999999998]\n",
      "soso일 때! 최소 MSE:13.726606344031598,가중치(big,small,soso):[0.2, 0.1, 0.7]\n",
      "37 37\n",
      "-------chest-------\n",
      "big일 때! 최소 MSE:48.996038143783075,가중치(big,small,soso):[0.8, 0.1, 0.09999999999999998]\n",
      "small일 때! 최소 MSE:47.457402586184266,가중치(big,small,soso):[0.8, 0.1, 0.09999999999999998]\n",
      "soso일 때! 최소 MSE:44.76712161823022,가중치(big,small,soso):[0.8, 0.1, 0.09999999999999998]\n",
      "37 37\n",
      "-------shoulder-------\n",
      "big일 때! 최소 MSE:86.9162408752424,가중치(big,small,soso):[0.8, 0.1, 0.09999999999999998]\n",
      "small일 때! 최소 MSE:67.3979074200572,가중치(big,small,soso):[0.8, 0.1, 0.09999999999999998]\n",
      "soso일 때! 최소 MSE:79.76257782222808,가중치(big,small,soso):[0.8, 0.1, 0.09999999999999998]\n",
      "37 37\n",
      "-------arm-------\n",
      "big일 때! 최소 MSE:94.04744006997855,가중치(big,small,soso):[0.8, 0.1, 0.09999999999999998]\n",
      "small일 때! 최소 MSE:72.91223825308847,가중치(big,small,soso):[0.1, 0.1, 0.8]\n",
      "soso일 때! 최소 MSE:87.26222620988922,가중치(big,small,soso):[0.1, 0.1, 0.8]\n",
      "37 37\n"
     ]
    }
   ],
   "source": [
    "size_type = 'chongjang'\n",
    "decide_weight(hood_chongjang_train_lst,size_type)\n",
    "size_type = 'chest'\n",
    "decide_weight(hood_chest_train_lst,size_type)\n",
    "size_type = 'shoulder'\n",
    "decide_weight(hood_shoulder_train_lst,size_type)\n",
    "size_type = 'arm'\n",
    "decide_weight(hood_arm_train_lst,size_type)"
   ]
  },
  {
   "cell_type": "code",
   "execution_count": 66,
   "metadata": {},
   "outputs": [
    {
     "name": "stdout",
     "output_type": "stream",
     "text": [
      "0.0 0.0 1.0\n",
      "0.0 0.1 0.9\n",
      "0.0 0.2 0.8\n",
      "0.0 0.30000000000000004 0.7\n",
      "0.0 0.4 0.6\n",
      "0.0 0.5 0.5\n",
      "0.0 0.6000000000000001 0.3999999999999999\n",
      "0.0 0.7000000000000001 0.29999999999999993\n",
      "0.0 0.8 0.19999999999999996\n",
      "0.0 0.9 0.09999999999999998\n",
      "0.0 1.0 0.0\n",
      "0.1 0.0 0.9\n",
      "0.1 0.1 0.8\n",
      "0.1 0.2 0.7\n",
      "0.1 0.30000000000000004 0.6\n",
      "0.1 0.4 0.5\n",
      "0.1 0.5 0.4\n",
      "0.1 0.6000000000000001 0.29999999999999993\n",
      "0.1 0.7000000000000001 0.19999999999999996\n",
      "0.1 0.8 0.09999999999999998\n",
      "0.1 0.9 0.0\n",
      "0.2 0.0 0.8\n",
      "0.2 0.1 0.7\n",
      "0.2 0.2 0.6\n",
      "0.2 0.30000000000000004 0.5\n",
      "0.2 0.4 0.3999999999999999\n",
      "0.2 0.5 0.30000000000000004\n",
      "0.2 0.6000000000000001 0.19999999999999996\n",
      "0.2 0.7000000000000001 0.09999999999999987\n",
      "0.2 0.8 0.0\n",
      "0.30000000000000004 0.0 0.7\n",
      "0.30000000000000004 0.1 0.6\n",
      "0.30000000000000004 0.2 0.5\n",
      "0.30000000000000004 0.30000000000000004 0.3999999999999999\n",
      "0.30000000000000004 0.4 0.29999999999999993\n",
      "0.30000000000000004 0.5 0.19999999999999996\n",
      "0.30000000000000004 0.6000000000000001 0.09999999999999987\n",
      "0.30000000000000004 0.7000000000000001 0.0\n",
      "0.4 0.0 0.6\n",
      "0.4 0.1 0.5\n",
      "0.4 0.2 0.3999999999999999\n",
      "0.4 0.30000000000000004 0.29999999999999993\n",
      "0.4 0.4 0.19999999999999996\n",
      "0.4 0.5 0.09999999999999998\n",
      "0.4 0.6000000000000001 0.0\n",
      "0.5 0.0 0.5\n",
      "0.5 0.1 0.4\n",
      "0.5 0.2 0.30000000000000004\n",
      "0.5 0.30000000000000004 0.19999999999999996\n",
      "0.5 0.4 0.09999999999999998\n",
      "0.5 0.5 0.0\n",
      "0.5 0.6000000000000001 -0.10000000000000009\n",
      "0.6000000000000001 0.0 0.3999999999999999\n",
      "0.6000000000000001 0.1 0.29999999999999993\n",
      "0.6000000000000001 0.2 0.19999999999999996\n",
      "0.6000000000000001 0.30000000000000004 0.09999999999999987\n",
      "0.6000000000000001 0.4 0.0\n",
      "0.7000000000000001 0.0 0.29999999999999993\n",
      "0.7000000000000001 0.1 0.19999999999999996\n",
      "0.7000000000000001 0.2 0.09999999999999987\n",
      "0.7000000000000001 0.30000000000000004 0.0\n",
      "0.8 0.0 0.19999999999999996\n",
      "0.8 0.1 0.09999999999999998\n",
      "0.8 0.2 0.0\n",
      "0.8 0.30000000000000004 -0.10000000000000009\n",
      "0.9 0.0 0.09999999999999998\n",
      "0.9 0.1 0.0\n",
      "0.9 0.2 -0.10000000000000009\n",
      "68\n"
     ]
    }
   ],
   "source": [
    "lst = []\n",
    "for a in np.arange(0.0, 1.0, 0.1):\n",
    "    for b in np.arange(0.0, 1.1 - a, 0.1):\n",
    "            c = 1 - (a + b)\n",
    "            lst.append([a,b,c])\n",
    "            print(a,b,c)\n",
    "print(len(lst))"
   ]
  },
  {
   "cell_type": "code",
   "execution_count": null,
   "metadata": {},
   "outputs": [],
   "source": []
  }
 ],
 "metadata": {
  "kernelspec": {
   "display_name": "base",
   "language": "python",
   "name": "python3"
  },
  "language_info": {
   "codemirror_mode": {
    "name": "ipython",
    "version": 3
   },
   "file_extension": ".py",
   "mimetype": "text/x-python",
   "name": "python",
   "nbconvert_exporter": "python",
   "pygments_lexer": "ipython3",
   "version": "3.9.12"
  },
  "orig_nbformat": 4,
  "vscode": {
   "interpreter": {
    "hash": "ff4f85d6e04298634172ac5d8264e7e9b556b95639fe52ebb9425c4d4cba0c9c"
   }
  }
 },
 "nbformat": 4,
 "nbformat_minor": 2
}
