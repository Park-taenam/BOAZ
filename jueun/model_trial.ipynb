{
 "cells": [
  {
   "cell_type": "code",
   "execution_count": 1,
   "metadata": {},
   "outputs": [],
   "source": [
    "import pandas as pd\n",
    "import numpy as np\n",
    "import matplotlib.pyplot as plt\n",
    "import seaborn as sns\n",
    "\n",
    "\n",
    "import warnings\n",
    "warnings.filterwarnings(\"ignore\")\n",
    "pd.set_option('display.max_columns', None)\n",
    "pd.set_option('display.max_rows', None)\n",
    "\n",
    "# 시각화 관련\n",
    "from wordcloud import WordCloud, STOPWORDS, ImageColorGenerator\n",
    "from collections import Counter\n",
    "from PIL import Image\n",
    "from matplotlib import rc\n",
    "\n",
    "# 그래프에서 한글 폰트 깨지는 문제에 대한 대처(전역 글꼴 설정)\n",
    "import matplotlib.font_manager as fm\n",
    "import warnings\n",
    "warnings.filterwarnings(action='ignore') \n",
    "\n",
    "import matplotlib\n",
    "matplotlib.rcParams['font.family'] ='Malgun Gothic'\n",
    "matplotlib.rcParams['axes.unicode_minus'] =False\n",
    "\n",
    "from sklearn.model_selection import train_test_split\n",
    "from sklearn.neighbors import KNeighborsClassifier\n",
    "from sklearn.metrics import classification_report, confusion_matrix, mean_squared_error\n",
    "from sklearn.ensemble import RandomForestRegressor\n",
    "from sklearn.decomposition import PCA\n",
    "from sklearn.discriminant_analysis import LinearDiscriminantAnalysis\n",
    "from sklearn.neighbors import KNeighborsClassifier, NeighborhoodComponentsAnalysis\n",
    "from sklearn.pipeline import make_pipeline\n",
    "from sklearn.preprocessing import StandardScaler\n",
    "\n",
    "#import EDA\n",
    "\n",
    "from tqdm import tqdm\n",
    "import warnings\n",
    "warnings.filterwarnings('ignore')\n",
    "\n",
    "#nlp\n",
    "# from bs4 import BeautifulSoup\n",
    "# from urllib.request import urlopen\n",
    "# import requests\n",
    "# from selenium import webdriver\n",
    "# from tqdm.notebook import tqdm\n",
    "# import time, urllib\n",
    "# from selenium import webdriver\n",
    "# from selenium.webdriver.common.keys import Keys\n",
    "# keys = Keys()\n",
    "# import re, os, sys, json\n",
    "\n",
    "# from hanspell import spell_checker\n",
    "\n",
    "# from konlpy.tag import Kkma #형태소분석\n",
    "# from konlpy.tag import Okt #형태소분석\n",
    "# import soynlp; from soynlp.normalizer import * #정규화\n",
    "# # from pykospacing import Spacing------------------>써야함!\n",
    "# # spacing = Spacing()------------------------------>써야함!\n",
    "\n",
    "# from konlpy.tag import Komoran, Hannanum, Kkma, Okt\n",
    "# komoran = Komoran(); hannanum = Hannanum(); kkma = Kkma(); okt = Okt();"
   ]
  },
  {
   "cell_type": "code",
   "execution_count": 6,
   "metadata": {},
   "outputs": [
    {
     "name": "stdout",
     "output_type": "stream",
     "text": [
      "<class 'pandas.core.frame.DataFrame'>\n",
      "Int64Index: 19853 entries, 0 to 20036\n",
      "Data columns (total 33 columns):\n",
      " #   Column             Non-Null Count  Dtype  \n",
      "---  ------             --------------  -----  \n",
      " 0   user               19853 non-null  object \n",
      " 1   gender             19853 non-null  object \n",
      " 2   height             19853 non-null  float64\n",
      " 3   weight             19853 non-null  float64\n",
      " 4   item               19853 non-null  object \n",
      " 5   size               19853 non-null  object \n",
      " 6   star               19853 non-null  float64\n",
      " 7   content            19853 non-null  object \n",
      " 8   size_eval          19853 non-null  object \n",
      " 9   bright_eval        19853 non-null  object \n",
      " 10  color_eval         19853 non-null  object \n",
      " 11  thick_eval         19853 non-null  object \n",
      " 12  cm                 19853 non-null  object \n",
      " 13  총장                 19853 non-null  float64\n",
      " 14  어깨너비               19035 non-null  float64\n",
      " 15  가슴단면               19853 non-null  float64\n",
      " 16  소매길이               19852 non-null  float64\n",
      " 17  review             19853 non-null  object \n",
      " 18  total_keyword      19853 non-null  object \n",
      " 19  chongjang_keyword  19853 non-null  object \n",
      " 20  chest_keyword      19853 non-null  object \n",
      " 21  shoulder_keyword   19853 non-null  object \n",
      " 22  arm_keyword        19853 non-null  object \n",
      " 23  total_big          19853 non-null  int32  \n",
      " 24  total_small        19853 non-null  int32  \n",
      " 25  chongjang_big      19853 non-null  int32  \n",
      " 26  chongjang_small    19853 non-null  int32  \n",
      " 27  arm_big            19853 non-null  int32  \n",
      " 28  arm_small          19853 non-null  int32  \n",
      " 29  chest_big          19853 non-null  int32  \n",
      " 30  chest_small        19853 non-null  int32  \n",
      " 31  shoulder_big       19853 non-null  int32  \n",
      " 32  shoulder_small     19853 non-null  int32  \n",
      "dtypes: float64(7), int32(10), object(16)\n",
      "memory usage: 4.4+ MB\n"
     ]
    }
   ],
   "source": [
    "df = pd.read_pickle('data/real_final_df_230115.pickle')\n",
    "df =df.astype({'shoulder_big':'int','shoulder_small':'int',\n",
    "               'chongjang_big':'int','chongjang_small':'int',\n",
    "               'total_big':'int','total_small':'int',\n",
    "               'arm_big':'int','arm_small':'int',\n",
    "               'chest_big':'int','chest_small':'int',})\n",
    "df.info()"
   ]
  },
  {
   "cell_type": "code",
   "execution_count": 11,
   "metadata": {},
   "outputs": [
    {
     "data": {
      "text/plain": [
       "0    1\n",
       "1    0\n",
       "2    0\n",
       "3    0\n",
       "4    0\n",
       "Name: total_big, dtype: int32"
      ]
     },
     "execution_count": 11,
     "metadata": {},
     "output_type": "execute_result"
    }
   ],
   "source": [
    "df['total_big'].head()"
   ]
  },
  {
   "cell_type": "code",
   "execution_count": 28,
   "metadata": {},
   "outputs": [
    {
     "name": "stdout",
     "output_type": "stream",
     "text": [
      "---크다. 작다. 보통---\n",
      "전체(3942, 6),(248, 6),(15663, 6)\n",
      "총장(657, 3),(331, 3),(18865, 3)\n",
      "어깨(200, 3),(34, 3),(19619, 3)\n",
      "가슴(115, 3),(25, 3),(19713, 3)\n",
      "팔(458, 3),(28, 3),(19367, 3)\n",
      "---크다. 작다. 보통---\n",
      "전체(3798, 6),(237, 6),(15000, 6)\n",
      "총장(657, 3),(331, 3),(18865, 3)\n",
      "어깨(191, 3),(32, 3),(18812, 3)\n",
      "가슴(115, 3),(25, 3),(19713, 3)\n",
      "팔(458, 3),(28, 3),(19366, 3)\n"
     ]
    }
   ],
   "source": [
    "\n",
    "    \n",
    "df_total_big        = df[df['total_big'] == 1]\n",
    "df_total_small      = df[df['total_small'] == 1]\n",
    "df_total_soso       = df[(df['total_big'] ==0) & (df['total_small'] ==0)]\n",
    "\n",
    "df_chongjang_big    = df[df['chongjang_big'] == 1]\n",
    "df_chongjang_small  = df[df['chongjang_small'] == 1]\n",
    "df_chongjang_soso   = df[(df['chongjang_big'] == 0) & (df['chongjang_small'] == 0)]\n",
    "\n",
    "df_shoulder_big     = df[df['shoulder_big'] == 1]\n",
    "df_shoulder_small   = df[df['shoulder_small'] == 1]\n",
    "df_shoulder_soso    = df[(df['shoulder_big'] == 0) & (df['shoulder_small'] == 0)]\n",
    "\n",
    "df_chest_big        = df[df['chest_big'] == 1]\n",
    "df_chest_small      = df[df['chest_small'] == 1]\n",
    "df_chest_soso       = df[(df['chest_big'] == 0 )& (df['chest_small'] == 0)]\n",
    "\n",
    "df_arm_big          = df[df['arm_big'] == 1]\n",
    "df_arm_small        = df[df['arm_small'] == 1]\n",
    "df_arm_soso         = df[(df['arm_big'] == 0) & (df['arm_small'] == 0)]\n",
    "\n",
    "###\n",
    "df_total_big        = df_total_big[['height','weight','총장','어깨너비','가슴단면','소매길이']]\n",
    "df_total_small      = df_total_small[['height','weight','총장','어깨너비','가슴단면','소매길이']]\n",
    "df_total_soso       = df_total_soso[['height','weight','총장','어깨너비','가슴단면','소매길이']]\n",
    "\n",
    "df_chongjang_big    = df_chongjang_big[['height','weight','총장']]\n",
    "df_chongjang_small  = df_chongjang_small[['height','weight','총장']]\n",
    "df_chongjang_soso   = df_chongjang_soso[['height','weight','총장']]\n",
    "\n",
    "df_shoulder_big     = df_shoulder_big[['height','weight','어깨너비']]\n",
    "df_shoulder_small   = df_shoulder_small[['height','weight','어깨너비']]\n",
    "df_shoulder_soso    = df_shoulder_soso[['height','weight','어깨너비']]\n",
    "\n",
    "df_chest_big        = df_chest_big[['height','weight','가슴단면']]\n",
    "df_chest_small      = df_chest_small[['height','weight','가슴단면']]\n",
    "df_chest_soso       = df_chest_soso[['height','weight','가슴단면']]\n",
    "\n",
    "df_arm_big          = df_arm_big[['height','weight','소매길이']]\n",
    "df_arm_small        = df_arm_small[['height','weight','소매길이']]\n",
    "df_arm_soso         = df_arm_soso[['height','weight','소매길이']]\n",
    "\n",
    "\n",
    "print('---크다. 작다. 보통---')\n",
    "print('전체{},{},{}'.format(df_total_big.shape,df_total_small.shape,df_total_soso.shape))\n",
    "print('총장{},{},{}'.format(df_chongjang_big.shape,df_chongjang_small.shape,df_chongjang_soso.shape))\n",
    "print('어깨{},{},{}'.format(df_shoulder_big.shape,df_shoulder_small.shape,df_shoulder_soso.shape))\n",
    "print('가슴{},{},{}'.format(df_chest_big.shape,df_chest_small.shape,df_chest_soso.shape))\n",
    "print('팔{},{},{}'.format(df_arm_big.shape,df_arm_small.shape,df_arm_soso.shape))\n",
    "\n",
    "df_total_big.dropna(axis = 0,inplace = True)\n",
    "df_total_small.dropna(axis = 0,inplace = True)\n",
    "df_total_soso.dropna(axis = 0,inplace = True)\n",
    "\n",
    "df_chongjang_big.dropna(axis = 0,inplace = True)\n",
    "df_chongjang_small.dropna(axis = 0,inplace = True)\n",
    "df_chongjang_soso.dropna(axis = 0,inplace = True)\n",
    "\n",
    "df_arm_big.dropna(axis = 0,inplace = True)\n",
    "df_arm_small.dropna(axis = 0,inplace = True)\n",
    "df_arm_soso.dropna(axis = 0,inplace = True)\n",
    "\n",
    "df_chest_big.dropna(axis = 0,inplace = True)\n",
    "df_chest_small.dropna(axis = 0,inplace = True)\n",
    "df_chest_soso.dropna(axis = 0,inplace = True)\n",
    "\n",
    "df_shoulder_big.dropna(axis = 0,inplace = True)\n",
    "df_shoulder_small.dropna(axis = 0,inplace = True)\n",
    "df_shoulder_soso.dropna(axis = 0,inplace = True)\n",
    "print('---크다. 작다. 보통---')\n",
    "print('전체{},{},{}'.format(df_total_big.shape,df_total_small.shape,df_total_soso.shape))\n",
    "print('총장{},{},{}'.format(df_chongjang_big.shape,df_chongjang_small.shape,df_chongjang_soso.shape))\n",
    "print('어깨{},{},{}'.format(df_shoulder_big.shape,df_shoulder_small.shape,df_shoulder_soso.shape))\n",
    "print('가슴{},{},{}'.format(df_chest_big.shape,df_chest_small.shape,df_chest_soso.shape))\n",
    "print('팔{},{},{}'.format(df_arm_big.shape,df_arm_small.shape,df_arm_soso.shape))\n",
    "\n",
    "\n",
    "#리스트에 들어가는 순서는 big,small,soso 순!! 꼭지키기!!\n",
    "hood_chongjang_train_lst = [\n",
    "                 #df_total_big,df_total_small,df_total_soso,\n",
    "                  df_chongjang_big,df_chongjang_small,df_chongjang_soso,\n",
    "                  #df_shoulder_big,df_shoulder_small,df_shoulder_soso,\n",
    "                  #df_chest_big,df_chest_small,df_chest_soso,\n",
    "                  #df_arm_big,df_arm_small,df_arm_soso\n",
    "                  ]\n",
    "hood_shoulder_train_lst = [\n",
    "                 #df_total_big,df_total_small,df_total_soso,\n",
    "                  #df_chongjang_big,df_chongjang_small,df_chongjang_soso,\n",
    "                  df_shoulder_big,df_shoulder_small,df_shoulder_soso,\n",
    "                  #df_chest_big,df_chest_small,df_chest_soso,\n",
    "                  #df_arm_big,df_arm_small,df_arm_soso\n",
    "                  ]\n",
    "\n",
    "hood_chest_train_lst = [\n",
    "                 #df_total_big,df_total_small,df_total_soso,\n",
    "                  #df_chongjang_big,df_chongjang_small,df_chongjang_soso,\n",
    "                  #df_shoulder_big,df_shoulder_small,df_shoulder_soso,\n",
    "                  df_chest_big,df_chest_small,df_chest_soso,\n",
    "                  #df_arm_big,df_arm_small,df_arm_soso\n",
    "                  ]\n",
    "\n",
    "hood_arm_train_lst = [\n",
    "                 #df_total_big,df_total_small,df_total_soso,\n",
    "                  #df_chongjang_big,df_chongjang_small,df_chongjang_soso,\n",
    "                  #df_shoulder_big,df_shoulder_small,df_shoulder_soso,\n",
    "                  #df_chest_big,df_chest_small,df_chest_soso,\n",
    "                  df_arm_big,df_arm_small,df_arm_soso\n",
    "                  ]\n",
    "#전체적으로 크다 혹은 작다 라고 답한 사람들은 그냥 총장, 어깨, 가슴, 팔에 전부 1을 주는 것이 어떤지,,\n",
    "#아니면 전체모델을 따로 돌리던가,, 하 모르겄다"
   ]
  },
  {
   "attachments": {},
   "cell_type": "markdown",
   "metadata": {},
   "source": [
    "## 훈련"
   ]
  },
  {
   "cell_type": "code",
   "execution_count": 38,
   "metadata": {},
   "outputs": [],
   "source": [
    "import joblib\n",
    "def trainModel(lst,sizetype):\n",
    "    user_pred_list = []\n",
    "    for i in range(len(lst)):\n",
    "        X = lst[i].iloc[:, :-1]\n",
    "        y = lst[i].iloc[:, -1]\n",
    "\n",
    "        xTrain, xTest, yTrain, yTest = train_test_split(X, y, test_size = 0.2, random_state = 531)\n",
    "        \n",
    "        mseOos = []\n",
    "        nTreeList = range(50, 500, 10)\n",
    "\n",
    "        for iTrees in tqdm(nTreeList, desc='iterate list'):\n",
    "            depth = None\n",
    "            RFModel = RandomForestRegressor(n_estimators=iTrees,\n",
    "                                            max_depth=depth,\n",
    "                                            oob_score=False, \n",
    "                                            random_state=531)\n",
    "            RFModel.fit(xTrain, yTrain)\n",
    "            \n",
    "            #데이터 세트에 대한 MSE 누적\n",
    "            prediction = RFModel.predict(xTest)\n",
    "            mseOos.append(mean_squared_error(yTest, prediction))\n",
    "            \n",
    "        regr = RandomForestRegressor(n_estimators = nTreeList[np.argmin(mseOos)],\n",
    "                                random_state=531)\n",
    "        regr.fit(xTrain, yTrain)\n",
    "        \n",
    "        prediction = regr.predict(xTest)\n",
    "        if i % 3 == 1:\n",
    "            print(\"MSE of small {}'s Model : {}\".format(lst[i].columns[-1], mean_squared_error(yTest, prediction)))\n",
    "            joblib.dump(regr, './'+sizetype+'_small_RFModel.pkl')\n",
    "        elif i % 3 == 2:\n",
    "            print(\"MSE of soso {}'s Model : {}\".format(lst[i].columns[-1], mean_squared_error(yTest, prediction)))\n",
    "            joblib.dump(regr, './'+sizetype+'_soso_RFModel.pkl')\n",
    "        elif i % 3 == 0:\n",
    "            print(\"MSE of big {}'s Model : {}\".format(lst[i].columns[-1], mean_squared_error(yTest, prediction)))\n",
    "            joblib.dump(regr, './'+sizetype+'_big_RFModel.pkl')\n",
    "            \n",
    "        userTest = [[178, 76]]\n",
    "        prediction_user = regr.predict(userTest)\n",
    "        user_pred_list.append(prediction_user)\n",
    "        print(\"User Test of {}'s Model : {}\".format(lst[i].columns[-1], prediction_user))\n",
    "    "
   ]
  },
  {
   "cell_type": "code",
   "execution_count": 39,
   "metadata": {},
   "outputs": [
    {
     "name": "stderr",
     "output_type": "stream",
     "text": [
      "iterate list: 100%|██████████| 45/45 [00:24<00:00,  1.87it/s]\n"
     ]
    },
    {
     "name": "stdout",
     "output_type": "stream",
     "text": [
      "MSE of big 총장's Model : 18.818416058042246\n",
      "User Test of 총장's Model : [71.31904762]\n"
     ]
    },
    {
     "name": "stderr",
     "output_type": "stream",
     "text": [
      "iterate list: 100%|██████████| 45/45 [00:19<00:00,  2.26it/s]\n"
     ]
    },
    {
     "name": "stdout",
     "output_type": "stream",
     "text": [
      "MSE of small 총장's Model : 71.30255563849123\n",
      "User Test of 총장's Model : [69.684]\n"
     ]
    },
    {
     "name": "stderr",
     "output_type": "stream",
     "text": [
      "iterate list: 100%|██████████| 45/45 [02:07<00:00,  2.84s/it]\n"
     ]
    },
    {
     "name": "stdout",
     "output_type": "stream",
     "text": [
      "MSE of soso 총장's Model : 13.186106683936623\n",
      "User Test of 총장's Model : [71.26602641]\n"
     ]
    }
   ],
   "source": [
    "sizetype = 'chongjang'\n",
    "trainModel(hood_chongjang_train_lst,sizetype)"
   ]
  },
  {
   "cell_type": "code",
   "execution_count": null,
   "metadata": {},
   "outputs": [],
   "source": [
    "sizetype = 'chest'\n",
    "trainModel(hood_chest_train_lst,sizetype)\n",
    "sizetype = 'arm'\n",
    "trainModel(hood_arm_train_lst,sizetype)\n",
    "sizetype = 'shoulder'\n",
    "trainModel(hood_shoulder_train_lst,sizetype)"
   ]
  },
  {
   "attachments": {},
   "cell_type": "markdown",
   "metadata": {},
   "source": [
    "## 비고"
   ]
  },
  {
   "cell_type": "code",
   "execution_count": null,
   "metadata": {},
   "outputs": [],
   "source": [
    "import pycaret.regression"
   ]
  },
  {
   "cell_type": "code",
   "execution_count": null,
   "metadata": {},
   "outputs": [],
   "source": [
    "## pycaret\n",
    "demo = pycaret.regression.setup(data = hood_train_lst[0], target = 'outseam', \n",
    "                                # ignore_features = [],\n",
    "                                # normalize = True,\n",
    "                                # transformation= True,\n",
    "                                # transformation_method = 'yeo-johnson',\n",
    "                                # transform_target = True,\n",
    "                                # remove_outliers= True,\n",
    "                                # remove_multicollinearity = True,\n",
    "                                # ignore_low_variance = True,\n",
    "                                # combine_rare_levels = True\n",
    "                                ) \n",
    "\n",
    "best = pycaret.regression.compare_models()\n",
    "# plot_model(best)\n",
    "# evaluate_model(best)\n",
    "\n",
    "## Creating models for the best estimators\n",
    "random_forest = pycaret.regression.create_model('rf')\n",
    "\n",
    "# ## Tuning the created models \n",
    "# random_forest = pycaret.tune_model(random_forest)\n",
    "\n",
    "## Finaliszing model for predictions \n",
    "test_data = data_outseam.iloc[:10, :]\n",
    "predictions = pycaret.regression.predict_model(random_forest, data = test_data)"
   ]
  }
 ],
 "metadata": {
  "kernelspec": {
   "display_name": "base",
   "language": "python",
   "name": "python3"
  },
  "language_info": {
   "codemirror_mode": {
    "name": "ipython",
    "version": 3
   },
   "file_extension": ".py",
   "mimetype": "text/x-python",
   "name": "python",
   "nbconvert_exporter": "python",
   "pygments_lexer": "ipython3",
   "version": "3.9.12 (main, Apr  4 2022, 05:22:27) [MSC v.1916 64 bit (AMD64)]"
  },
  "orig_nbformat": 4,
  "vscode": {
   "interpreter": {
    "hash": "ff4f85d6e04298634172ac5d8264e7e9b556b95639fe52ebb9425c4d4cba0c9c"
   }
  }
 },
 "nbformat": 4,
 "nbformat_minor": 2
}
