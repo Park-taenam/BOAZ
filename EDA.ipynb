{
 "cells": [
  {
   "cell_type": "markdown",
   "metadata": {},
   "source": [
    "# EDA"
   ]
  },
  {
   "cell_type": "code",
   "execution_count": 1,
   "metadata": {},
   "outputs": [],
   "source": [
    "import numpy as np\n",
    "import pandas as pd\n",
    "import mlxtend\n",
    "\n",
    "import warnings\n",
    "warnings.filterwarnings('ignore')"
   ]
  },
  {
   "cell_type": "code",
   "execution_count": 2,
   "metadata": {},
   "outputs": [],
   "source": [
    "data_top1 = pd.read_csv('./data/mutandard_top1.csv', encoding='cp949', index_col=0)\n",
    "data_top2 = pd.read_csv('./data/mutandard_top2.csv', encoding='cp949', index_col=0)"
   ]
  },
  {
   "cell_type": "code",
   "execution_count": 3,
   "metadata": {},
   "outputs": [
    {
     "data": {
      "text/html": [
       "<div>\n",
       "<style scoped>\n",
       "    .dataframe tbody tr th:only-of-type {\n",
       "        vertical-align: middle;\n",
       "    }\n",
       "\n",
       "    .dataframe tbody tr th {\n",
       "        vertical-align: top;\n",
       "    }\n",
       "\n",
       "    .dataframe thead th {\n",
       "        text-align: right;\n",
       "    }\n",
       "</style>\n",
       "<table border=\"1\" class=\"dataframe\">\n",
       "  <thead>\n",
       "    <tr style=\"text-align: right;\">\n",
       "      <th></th>\n",
       "      <th>user</th>\n",
       "      <th>gender</th>\n",
       "      <th>height</th>\n",
       "      <th>weight</th>\n",
       "      <th>item</th>\n",
       "      <th>size</th>\n",
       "      <th>star</th>\n",
       "      <th>content</th>\n",
       "      <th>size_eval</th>\n",
       "      <th>bright_eval</th>\n",
       "      <th>color_eval</th>\n",
       "      <th>thick_eval</th>\n",
       "    </tr>\n",
       "  </thead>\n",
       "  <tbody>\n",
       "    <tr>\n",
       "      <th>0</th>\n",
       "      <td>LV 4 뉴봉</td>\n",
       "      <td>남성</td>\n",
       "      <td>180cm</td>\n",
       "      <td>85kg</td>\n",
       "      <td>테이퍼드 히든 밴딩 크롭 슬랙스 [다크 브라운]</td>\n",
       "      <td>34</td>\n",
       "      <td>4</td>\n",
       "      <td>무신사 슬랙스 평이 좋아서 구매해봤습니다. 색과 퀄리티 두께감 다 마음에 들었는데 ...</td>\n",
       "      <td>보통이에요</td>\n",
       "      <td>어두워요</td>\n",
       "      <td>선명해요</td>\n",
       "      <td>두꺼워요</td>\n",
       "    </tr>\n",
       "    <tr>\n",
       "      <th>1</th>\n",
       "      <td>LV 4 뉴비루키맴버</td>\n",
       "      <td>남성</td>\n",
       "      <td>178cm</td>\n",
       "      <td>90kg</td>\n",
       "      <td>테이퍼드 히든 밴딩 크롭 슬랙스 [다크 그레이]</td>\n",
       "      <td>36</td>\n",
       "      <td>5</td>\n",
       "      <td>무탠다드 슬랙스 편안하니 좋아요가볍게 입기 좋아요큰사이즈도 있어 만족해요</td>\n",
       "      <td>보통이에요</td>\n",
       "      <td>보통이에요</td>\n",
       "      <td>보통이에요</td>\n",
       "      <td>보통이에요</td>\n",
       "    </tr>\n",
       "    <tr>\n",
       "      <th>2</th>\n",
       "      <td>LV 4 뉴비루키맴버</td>\n",
       "      <td>남성</td>\n",
       "      <td>178cm</td>\n",
       "      <td>90kg</td>\n",
       "      <td>테이퍼드 히든 밴딩 크롭 슬랙스 [차콜 그레이]</td>\n",
       "      <td>36</td>\n",
       "      <td>5</td>\n",
       "      <td>무탠다드 슬랙스 편안하니 좋아요가볍게 입기 좋아요큰사이즈도 있어 만족해요</td>\n",
       "      <td>보통이에요</td>\n",
       "      <td>보통이에요</td>\n",
       "      <td>보통이에요</td>\n",
       "      <td>보통이에요</td>\n",
       "    </tr>\n",
       "  </tbody>\n",
       "</table>\n",
       "</div>"
      ],
      "text/plain": [
       "          user gender  height weight                        item  size  star  \\\n",
       "0      LV 4 뉴봉     남성   180cm   85kg  테이퍼드 히든 밴딩 크롭 슬랙스 [다크 브라운]    34     4   \n",
       "1  LV 4 뉴비루키맴버     남성   178cm   90kg  테이퍼드 히든 밴딩 크롭 슬랙스 [다크 그레이]    36     5   \n",
       "2  LV 4 뉴비루키맴버     남성   178cm   90kg  테이퍼드 히든 밴딩 크롭 슬랙스 [차콜 그레이]    36     5   \n",
       "\n",
       "                                             content size_eval bright_eval  \\\n",
       "0  무신사 슬랙스 평이 좋아서 구매해봤습니다. 색과 퀄리티 두께감 다 마음에 들었는데 ...     보통이에요        어두워요   \n",
       "1           무탠다드 슬랙스 편안하니 좋아요가볍게 입기 좋아요큰사이즈도 있어 만족해요     보통이에요       보통이에요   \n",
       "2           무탠다드 슬랙스 편안하니 좋아요가볍게 입기 좋아요큰사이즈도 있어 만족해요     보통이에요       보통이에요   \n",
       "\n",
       "  color_eval thick_eval  \n",
       "0       선명해요       두꺼워요  \n",
       "1      보통이에요      보통이에요  \n",
       "2      보통이에요      보통이에요  "
      ]
     },
     "execution_count": 3,
     "metadata": {},
     "output_type": "execute_result"
    }
   ],
   "source": [
    "data_top1.head(3)"
   ]
  },
  {
   "cell_type": "code",
   "execution_count": 4,
   "metadata": {},
   "outputs": [
    {
     "name": "stdout",
     "output_type": "stream",
     "text": [
      "<class 'pandas.core.frame.DataFrame'>\n",
      "Int64Index: 980 entries, 0 to 979\n",
      "Data columns (total 12 columns):\n",
      " #   Column       Non-Null Count  Dtype \n",
      "---  ------       --------------  ----- \n",
      " 0   user         980 non-null    object\n",
      " 1   gender       980 non-null    object\n",
      " 2   height       980 non-null    object\n",
      " 3   weight       980 non-null    object\n",
      " 4   item         980 non-null    object\n",
      " 5   size         980 non-null    int64 \n",
      " 6   star         980 non-null    int64 \n",
      " 7   content      980 non-null    object\n",
      " 8   size_eval    980 non-null    object\n",
      " 9   bright_eval  980 non-null    object\n",
      " 10  color_eval   980 non-null    object\n",
      " 11  thick_eval   980 non-null    object\n",
      "dtypes: int64(2), object(10)\n",
      "memory usage: 99.5+ KB\n",
      "None\n"
     ]
    }
   ],
   "source": [
    "print(data_top1.info())"
   ]
  },
  {
   "cell_type": "code",
   "execution_count": 5,
   "metadata": {},
   "outputs": [
    {
     "data": {
      "text/plain": [
       "Index(['user', 'gender', 'height', 'weight', 'item', 'size', 'star', 'content',\n",
       "       'size_eval', 'bright_eval', 'color_eval', 'thick_eval'],\n",
       "      dtype='object')"
      ]
     },
     "execution_count": 5,
     "metadata": {},
     "output_type": "execute_result"
    }
   ],
   "source": [
    "data_top1.columns"
   ]
  },
  {
   "cell_type": "code",
   "execution_count": 6,
   "metadata": {},
   "outputs": [
    {
     "name": "stdout",
     "output_type": "stream",
     "text": [
      "키 종류 수 :  32\n",
      "몸무게 종류 수 :  55\n",
      "상품 종류 수 :  23\n",
      "사이즈 종류 수 :  12\n",
      "평점 종류 수 :  4\n",
      "리뷰 종류 수 :  723\n"
     ]
    }
   ],
   "source": [
    "print(\"키 종류 수 : \", data_top1['height'].nunique())\n",
    "print(\"몸무게 종류 수 : \", data_top1['weight'].nunique())\n",
    "print(\"상품 종류 수 : \", data_top1['item'].nunique())\n",
    "print(\"사이즈 종류 수 : \", data_top1['size'].nunique())\n",
    "print(\"평점 종류 수 : \", data_top1['star'].nunique())\n",
    "print(\"리뷰 종류 수 : \", data_top1['content'].nunique())"
   ]
  },
  {
   "cell_type": "code",
   "execution_count": 7,
   "metadata": {},
   "outputs": [
    {
     "data": {
      "text/plain": [
       "남성    960\n",
       "여성     20\n",
       "Name: gender, dtype: int64"
      ]
     },
     "execution_count": 7,
     "metadata": {},
     "output_type": "execute_result"
    }
   ],
   "source": [
    "data_top1['gender'].value_counts()"
   ]
  },
  {
   "cell_type": "code",
   "execution_count": 8,
   "metadata": {},
   "outputs": [
    {
     "data": {
      "text/plain": [
       " 150cm     2\n",
       " 157cm     1\n",
       " 158cm     1\n",
       " 160cm     4\n",
       " 161cm     1\n",
       " 162cm     1\n",
       " 163cm     2\n",
       " 164cm     1\n",
       " 165cm    43\n",
       " 166cm    11\n",
       " 167cm     8\n",
       " 168cm    34\n",
       " 169cm    16\n",
       " 170cm    82\n",
       " 171cm    33\n",
       " 172cm    71\n",
       " 173cm    74\n",
       " 174cm    84\n",
       " 175cm    96\n",
       " 176cm    62\n",
       " 177cm    82\n",
       " 178cm    68\n",
       " 179cm    29\n",
       " 180cm    56\n",
       " 181cm    29\n",
       " 182cm    17\n",
       " 183cm    29\n",
       " 184cm    20\n",
       " 185cm    13\n",
       " 186cm     4\n",
       " 187cm     3\n",
       " 188cm     3\n",
       "Name: height, dtype: int64"
      ]
     },
     "execution_count": 8,
     "metadata": {},
     "output_type": "execute_result"
    }
   ],
   "source": [
    "data_top1['height'].value_counts().sort_index()"
   ]
  },
  {
   "cell_type": "code",
   "execution_count": 9,
   "metadata": {},
   "outputs": [
    {
     "data": {
      "text/plain": [
       " 70kg     90\n",
       " 68kg     71\n",
       " 65kg     70\n",
       " 75kg     59\n",
       " 72kg     49\n",
       " 67kg     43\n",
       " 63kg     40\n",
       " 78kg     39\n",
       " 60kg     36\n",
       " 73kg     29\n",
       " 62kg     29\n",
       " 66kg     28\n",
       " 64kg     27\n",
       " 80kg     25\n",
       " 90kg     24\n",
       " 69kg     23\n",
       " 74kg     23\n",
       " 58kg     23\n",
       " 71kg     19\n",
       " 61kg     18\n",
       " 57kg     18\n",
       " 76kg     18\n",
       " 82kg     17\n",
       " 77kg     16\n",
       " 85kg     15\n",
       " 94kg     12\n",
       " 83kg     12\n",
       " 81kg     10\n",
       " 56kg      9\n",
       " 50kg      9\n",
       " 53kg      7\n",
       " 55kg      6\n",
       " 79kg      5\n",
       " 86kg      5\n",
       " 100kg     5\n",
       " 88kg      5\n",
       " 92kg      5\n",
       " 84kg      4\n",
       " 51kg      4\n",
       " 87kg      4\n",
       " 40kg      3\n",
       " 95kg      3\n",
       " 47kg      3\n",
       " 59kg      3\n",
       " 48kg      3\n",
       " 91kg      2\n",
       " 52kg      2\n",
       " 102kg     2\n",
       " 89kg      2\n",
       " 93kg      1\n",
       " 45kg      1\n",
       " 98kg      1\n",
       " 97kg      1\n",
       " 54kg      1\n",
       " 99kg      1\n",
       "Name: weight, dtype: int64"
      ]
     },
     "execution_count": 9,
     "metadata": {},
     "output_type": "execute_result"
    }
   ],
   "source": [
    "data_top1['weight'].value_counts()"
   ]
  },
  {
   "cell_type": "code",
   "execution_count": 10,
   "metadata": {},
   "outputs": [
    {
     "data": {
      "text/plain": [
       "테이퍼드 히든 밴딩 크롭 슬랙스 [블랙]         398\n",
       "테이퍼드 히든 밴딩 크롭 슬랙스 [라이트 베이지]    104\n",
       "테이퍼드 히든 밴딩 크롭 슬랙스 [미디엄 그레이]     78\n",
       "테이퍼드 히든 밴딩 크롭 슬랙스 [라이트 그레이]     71\n",
       "테이퍼드 히든 밴딩 크롭 슬랙스 [차콜 그레이]      51\n",
       "테이퍼드 히든 밴딩 크롭 슬랙스 [더스티 베이지]     51\n",
       "테이퍼드 히든 밴딩 크롭 슬랙스 [핑크 베이지]      41\n",
       "테이퍼드 히든 밴딩 크롭 슬랙스 [크림]          29\n",
       "테이퍼드 히든 밴딩 크롭 슬랙스 [화이트]         25\n",
       "테이퍼드 히든 밴딩 크롭 슬랙스 [베이지]         24\n",
       "테이퍼드 히든 밴딩 크롭 슬랙스 [그레이]         18\n",
       "테이퍼드 히든 밴딩 크롭 슬랙스 [다크 그레이]      17\n",
       "테이퍼드 히든 밴딩 크롭 슬랙스 [네이비]         15\n",
       "테이퍼드 히든 밴딩 크롭 슬랙스 [블루 그레이]      14\n",
       "테이퍼드 히든 밴딩 크롭 슬랙스 [더스티 크림]      10\n",
       "테이퍼드 히든 밴딩 크롭 슬랙스 [라이트 브라운]     10\n",
       "테이퍼드 히든 밴딩 크롭 슬랙스 [딥 블루]         6\n",
       "테이퍼드 히든 밴딩 크롭 슬랙스 [더스티 카키]       5\n",
       "테이퍼드 히든 밴딩 크롭 슬랙스 [머스터드]         3\n",
       "테이퍼드 히든 밴딩 크롭 슬랙스 [더스티 블루]       3\n",
       "테이퍼드 히든 밴딩 크롭 슬랙스 [브라운]          3\n",
       "테이퍼드 히든 밴딩 크롭 슬랙스 [브릭]           2\n",
       "테이퍼드 히든 밴딩 크롭 슬랙스 [다크 브라운]       2\n",
       "Name: item, dtype: int64"
      ]
     },
     "execution_count": 10,
     "metadata": {},
     "output_type": "execute_result"
    }
   ],
   "source": [
    "data_top1['item'].value_counts()"
   ]
  },
  {
   "cell_type": "code",
   "execution_count": 11,
   "metadata": {},
   "outputs": [
    {
     "data": {
      "text/plain": [
       "26      7\n",
       "27     22\n",
       "28     61\n",
       "29     74\n",
       "30    156\n",
       "31    172\n",
       "32    224\n",
       "33    112\n",
       "34     92\n",
       "36     43\n",
       "38     16\n",
       "40      1\n",
       "Name: size, dtype: int64"
      ]
     },
     "execution_count": 11,
     "metadata": {},
     "output_type": "execute_result"
    }
   ],
   "source": [
    "data_top1['size'].value_counts().sort_index()"
   ]
  },
  {
   "cell_type": "code",
   "execution_count": 12,
   "metadata": {},
   "outputs": [
    {
     "data": {
      "text/plain": [
       "1      2\n",
       "3     10\n",
       "4    114\n",
       "5    854\n",
       "Name: star, dtype: int64"
      ]
     },
     "execution_count": 12,
     "metadata": {},
     "output_type": "execute_result"
    }
   ],
   "source": [
    "data_top1['star'].value_counts().sort_index()"
   ]
  },
  {
   "cell_type": "code",
   "execution_count": 13,
   "metadata": {},
   "outputs": [
    {
     "data": {
      "text/plain": [
       "보통이에요    885\n",
       "작아요       77\n",
       "커요        18\n",
       "Name: size_eval, dtype: int64"
      ]
     },
     "execution_count": 13,
     "metadata": {},
     "output_type": "execute_result"
    }
   ],
   "source": [
    "data_top1['size_eval'].value_counts()"
   ]
  },
  {
   "cell_type": "code",
   "execution_count": 14,
   "metadata": {},
   "outputs": [
    {
     "data": {
      "text/plain": [
       "보통이에요    836\n",
       "밝아요       80\n",
       "어두워요      64\n",
       "Name: bright_eval, dtype: int64"
      ]
     },
     "execution_count": 14,
     "metadata": {},
     "output_type": "execute_result"
    }
   ],
   "source": [
    "data_top1['bright_eval'].value_counts()"
   ]
  },
  {
   "cell_type": "code",
   "execution_count": 15,
   "metadata": {},
   "outputs": [
    {
     "data": {
      "text/plain": [
       "보통이에요    786\n",
       "선명해요     186\n",
       "흐려요        8\n",
       "Name: color_eval, dtype: int64"
      ]
     },
     "execution_count": 15,
     "metadata": {},
     "output_type": "execute_result"
    }
   ],
   "source": [
    "data_top1['color_eval'].value_counts()"
   ]
  },
  {
   "cell_type": "code",
   "execution_count": 16,
   "metadata": {},
   "outputs": [
    {
     "data": {
      "text/plain": [
       "보통이에요    892\n",
       "두꺼워요      44\n",
       "얇아요       44\n",
       "Name: thick_eval, dtype: int64"
      ]
     },
     "execution_count": 16,
     "metadata": {},
     "output_type": "execute_result"
    }
   ],
   "source": [
    "data_top1['thick_eval'].value_counts()"
   ]
  },
  {
   "cell_type": "markdown",
   "metadata": {},
   "source": [
    "## Preprocessing"
   ]
  },
  {
   "cell_type": "code",
   "execution_count": 17,
   "metadata": {},
   "outputs": [],
   "source": [
    "# cm, kg 없애고 int형으로 변경\n",
    "data_top1['height'] = [int(height.strip().split('c')[0]) for height in data_top1['height']]\n",
    "data_top1['weight'] = [int(weight.strip().split('k')[0]) for weight in data_top1['weight']]"
   ]
  }
 ],
 "metadata": {
  "kernelspec": {
   "display_name": "Python 3.10.4 ('recommendation')",
   "language": "python",
   "name": "python3"
  },
  "language_info": {
   "codemirror_mode": {
    "name": "ipython",
    "version": 3
   },
   "file_extension": ".py",
   "mimetype": "text/x-python",
   "name": "python",
   "nbconvert_exporter": "python",
   "pygments_lexer": "ipython3",
   "version": "3.10.4"
  },
  "orig_nbformat": 4,
  "vscode": {
   "interpreter": {
    "hash": "08f759f3c0e3cb196da0afdcf8f20ed6b4f78b6847cd41674f7eea5fad8f92df"
   }
  }
 },
 "nbformat": 4,
 "nbformat_minor": 2
}
