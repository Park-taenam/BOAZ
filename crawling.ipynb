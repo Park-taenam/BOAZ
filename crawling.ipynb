{
 "cells": [
  {
   "cell_type": "markdown",
   "metadata": {},
   "source": [
    "# Crawling\n",
    "\n",
    "- https://www.musinsa.com/app/goods/1108007\n"
   ]
  },
  {
   "cell_type": "code",
   "execution_count": 83,
   "metadata": {},
   "outputs": [],
   "source": [
    "import requests\n",
    "from bs4 import BeautifulSoup\n",
    "from selenium import webdriver\n",
    "from selenium.webdriver.support.ui import Select\n",
    "import time\n",
    "import pandas as pd\n",
    "\n",
    "import warnings\n",
    "warnings.filterwarnings(\"ignore\") "
   ]
  },
  {
   "cell_type": "code",
   "execution_count": 97,
   "metadata": {},
   "outputs": [],
   "source": [
    "browser = webdriver.Chrome()\n",
    "# browser.maximize_window()\n",
    "\n",
    "url = 'https://www.musinsa.com/app/goods/1108007'\n",
    "browser.get(url)"
   ]
  },
  {
   "cell_type": "code",
   "execution_count": 98,
   "metadata": {},
   "outputs": [],
   "source": [
    "# 들어가자마자 뜨는 할인쿠폰 창 없애기\n",
    "try:\n",
    "    time.sleep(3)\n",
    "    button = browser.find_element_by_class_name('ab-close-button')\n",
    "    button.click()\n",
    "except:\n",
    "    button = None"
   ]
  },
  {
   "cell_type": "code",
   "execution_count": null,
   "metadata": {},
   "outputs": [],
   "source": [
    "//*[@id=\"reviewListFragment\"]/div[11]/div[2]/div/a[3]\n",
    "\n",
    "//*[@id=\"reviewListFragment\"]/div[11]/div[2]/div/a[7]\n",
    "//*[@id=\"reviewListFragment\"]/div[11]/div[2]/div/a[8]\n",
    "\n",
    "//*[@id=\"reviewListFragment\"]/div[11]/div[2]/div/a[5]"
   ]
  },
  {
   "cell_type": "code",
   "execution_count": 105,
   "metadata": {},
   "outputs": [
    {
     "name": "stdout",
     "output_type": "stream",
     "text": [
      "//*[@id=\"reviewListFragment\"]/div[11]/div[2]/div/a[3]\n",
      "//*[@id=\"reviewListFragment\"]/div[11]/div[2]/div/a[4]\n",
      "//*[@id=\"reviewListFragment\"]/div[11]/div[2]/div/a[5]\n",
      "//*[@id=\"reviewListFragment\"]/div[11]/div[2]/div/a[6]\n",
      "//*[@id=\"reviewListFragment\"]/div[11]/div[2]/div/a[7]\n",
      "//*[@id=\"reviewListFragment\"]/div[11]/div[2]/div/a[8]\n",
      "//*[@id=\"reviewListFragment\"]/div[11]/div[2]/div/a[3]\n",
      "//*[@id=\"reviewListFragment\"]/div[11]/div[2]/div/a[4]\n",
      "//*[@id=\"reviewListFragment\"]/div[11]/div[2]/div/a[5]\n",
      "//*[@id=\"reviewListFragment\"]/div[11]/div[2]/div/a[6]\n",
      "//*[@id=\"reviewListFragment\"]/div[11]/div[2]/div/a[7]\n",
      "//*[@id=\"reviewListFragment\"]/div[11]/div[2]/div/a[8]\n"
     ]
    }
   ],
   "source": [
    "# 페이지 넘어가는 거 확인\n",
    "review_list = []\n",
    "for i in range(2):\n",
    "    for i in range(3, 9 ,1):\n",
    "        try:\n",
    "            path = '//*[@id=\"reviewListFragment\"]/div[11]/div[2]/div/a[' + str(i) + ']'\n",
    "            button = browser.find_element_by_xpath(path)\n",
    "            button.click()\n",
    "            print(path)\n",
    "        except:\n",
    "            button = None\n",
    "            print('except')"
   ]
  },
  {
   "cell_type": "code",
   "execution_count": 108,
   "metadata": {},
   "outputs": [
    {
     "name": "stdout",
     "output_type": "stream",
     "text": [
      "except\n",
      "except\n",
      "except\n",
      "except\n",
      "except\n",
      "//*[@id=\"reviewListFragment\"]/div[11]/div[2]/div/a[4]\n",
      "//*[@id=\"reviewListFragment\"]/div[11]/div[2]/div/a[5]\n",
      "//*[@id=\"reviewListFragment\"]/div[11]/div[2]/div/a[6]\n",
      "//*[@id=\"reviewListFragment\"]/div[11]/div[2]/div/a[7]\n",
      "except\n"
     ]
    }
   ],
   "source": [
    "# 11페이지까지 뽑아오는 시도\n",
    "review_list = []\n",
    "\n",
    "# 1페이지\n",
    "html = browser.page_source\n",
    "soup = BeautifulSoup(html,'lxml')\n",
    "reviews = soup.find_all('div', \"review-contents__text\")\n",
    "\n",
    "# 텍스트만 뽑음\n",
    "for i in range(len(reviews)):\n",
    "    review_list.append(str(reviews[i]).split('>')[1].split('<')[0].strip())\n",
    "\n",
    "for i in range(2):\n",
    "    for i in range(4, 9 ,1):\n",
    "        try:\n",
    "            path = '//*[@id=\"reviewListFragment\"]/div[11]/div[2]/div/a[' + str(i) + ']'\n",
    "            button = browser.find_element_by_xpath(path)\n",
    "            button.click()\n",
    "            print(path)\n",
    "        except:\n",
    "            button = None\n",
    "            print('except')\n",
    "        \n",
    "        html = browser.page_source\n",
    "        soup = BeautifulSoup(html,'lxml')\n",
    "        reviews = soup.find_all('div', \"review-contents__text\")\n",
    "        \n",
    "        # 텍스트만 뽑음\n",
    "        for i in range(len(reviews)):\n",
    "            review_list.append(str(reviews[i]).split('>')[1].split('<')[0].strip())"
   ]
  },
  {
   "cell_type": "code",
   "execution_count": 107,
   "metadata": {},
   "outputs": [
    {
     "name": "stdout",
     "output_type": "stream",
     "text": [
      "120\n",
      "말이 필요한가요 무탠다드 아이템은 늘 옳죠 가성비 갑                                                    2\n",
      "좋아요 예쁘고요 사이즈도 잘 맞습니다                                                             2\n",
      "오버핏을 선호하지 않아서 기본핏으로 구매했는데                                                        2\n",
      "무난무난하규 결혼식셋업이나 차려입을 때 좋아요                                                        2\n",
      "블레이저 처음 구매라면 정말 추천드립니다. 사이즈도 좋고 라인도 잘 빠지고 옷감도 고급진느낌이 납니다. 봄, 가을 입기에 좋은 두께감입니다    2\n",
      "                                                                                ..\n",
      "사이즈 한단계 업하시면 이뻐요 가성비 최고입니다                                                       1\n",
      "사이즈때문에 걱정했는데 생각보다 잘 맞고 디자인도, 스타일도 다 좋네요.                                         1\n",
      "살짝 요유로운게 맘에듭니다 사진보다 느낌은 더 작습니다                                                   1\n",
      "생각보다 두껍고 무거운 느낌은 있지만 다른 블레이저 제품들에 비해 고급스러운 느낌은 확실히 드는 것 같습니다.                    1\n",
      "핏도 좋고 옷도짱짱해서 계속 잘 입을것같습니다. 강추입니다.                                                1\n",
      "Length: 89, dtype: int64\n",
      "['큰 기대 안했는데 재질이며 기장이며 너무 마음에 듭니다!', '레귤러사이즈인데 두께가있어서 그런지 좀 크네요.', '진짜 무탠다드는 사랑입니다.', '아주 예쁩니다 기장도 적당하고~ 출근할때 입기 좋아요', '핏도 이쁘고 가성비 최강이에요! 재질도 적당히 도톰해요', '돋생 면접볼 때 입는다고 해서 샀는데 면접보러 갈 때 입기 딱 좋네요!', '역시 무탠다드', '딱 정사이즈에요. 조금 큰 사이즈여도 괜찮아 보여요.', '괜히 무신사 스탠다드 블레이저 가성비 갑이라고 하는게 아니네요~ 어깨와 총장 핏이 적절해서 제 치수에 맞추어 만들어진 재킷느낌이 납니다', '좋습니다 강추합니다 강추해요 아주 강추합니다', '아주 핏이 맛있습니다 오버사이즈도 하나 살까 고민되는 원단이네요', '스냅용으로 샀다. 릴렉스드 샀다가 반품하고 베이식으로 다시샀다. 허리통이좀 더 작아서 스냅찍기엔 베이식이 낫다.', '무신사 스탠다드', '보면 알다시피 사이즈 괜찮고 바지는 슬랙스나 청바지에 어울려여', '어떤 코디에도 잘 어울리고 자주 입고 다니는거 같아요', '사이즈 한단계 업하시면 이뻐요 가성비 최고입니다', '꼭 사세여. 많이 팔린 이유가 있어요. 검은색도 구매했네요. 제 스펙이면 엘사이즈 사세요', '블레이저 필요했는데 세일할때 싸게 잘 구입했어요', '생각보다 원단이 두께감 있어서 좋았고 무난하게 입을 것 같습니다', '이 만한 가격에 이 정도 퀄리티면 매우 만족합니다', '사이즈때문에 걱정했는데 생각보다 잘 맞고 디자인도, 스타일도 다 좋네요.', '옷 원단이 좋네요 블레이저 처음 사는데 입문용으로 좋아요', '정말 깔끔하고 예뻐요! 주머니 부분이랑 뒤에 부분 섭 먹지 마시고 확 뜯으시면 되니까 그냥 뜯으세요!', '이 가격에 이렇게 좋은 블레이저를 구매해서 기분이 넘 좋네요', '단추를 잠그기엔 좀 작은데 안잠근다면 예쁘게 입을 수 있을 것 같네요', '크기도 적당하고 소매가 길긴 하지만 조금 자르면 딱 좋습니다.', '릴렉스 핏에 비해 어깨가 좀 타이트하긴 해요. 허리 라인은 더 예쁘게 떨어지는 핏입니다. 가격대비 마감좋아요!', '릴렉스 핏보다는 어깨가 좀 타이트하지만 릴렉스보다 허리 라인이 예쁘게 떨어지는 핏입니다. 가격대비 마감도 훌륭합니다.', '생각보다 두껍고 무거운 느낌은 있지만 다른 블레이저 제품들에 비해 고급스러운 느낌은 확실히 드는 것 같습니다.', '블레이저 재질 정말 좋고 편하고 무난하게 잘 입고 다닐거같네요!', '검정색 블레이저 없어서 샀는데 요긴하게 입을것같네요', '살짝 요유로운게 맘에듭니다 사진보다 느낌은 더 작습니다', '원단도 괜찮고 한치수 크게 사서', '검은색으로 위아래 맞추려고 샀습니다', '무난무난하니 잘 입고 다닙니다. 꽤나 만족하고 있어요,', '무신사 스탠다드 항상 즐겨입는데 이번에도 좋았습니다', '마음에듭니다', '맞춤 정장으로 네이비 컬러 가지고 있었는데 사이즈가 안 맞아서 구매했습니다. 수선비, 시간 대비 재구매가 훨씬 낫네요', '체중이 불어나 정장 저렴한걸 찾았는데 무탠다드가 딱입니다', '사이즈 적당하고 색감도 예쁩니다. 무난해서 잘 입을거 같아요.', '깔끔하게 코디하기 좋습니다. 무탠다드 색깔별로 챙겨놓고 돌려가면서 입고 있어요.', '가성비 최고에요', '사이즈 두께 색상 전부 마음에 들어요.', '정사이즈로 시켰는데 원하는 핏대로 나온거 같아요. 핏, 가격 다 마음에 들어요.', '처음 무신사에서 세미와이드 팬츠 신축성이 좋고 편해서 상의도 구매. 착용시 어깨 패드가 어깨 보다 튀어 나오지 않고 가격대비 퀄리티 너무 좋아요.', '무난무난하규 결혼식셋업이나 차려입을 때 좋아요', '사이즈 딱 맞고 좋아요 에누리없이 편하고 딱입니다', '마른편이라 오버사이즈나 릴렉스드말고 베이식이 딱이네요', '말이 필요한가요 무탠다드 아이템은 늘 옳죠 가성비 갑', '매년 한장 씩 스탠다드 세미와이드 필수 아이템 입니다. 올해는 쟈켓도 구매했는데 95사이즈는 정사이즈 보다 조금 커요 다른 브랜드 보다', '깔끔하게 코디하기 좋습니다. 무탠다드 색깔별로 챙겨놓고 돌려가면서 입고 있어요.', '가성비 최고에요', '사이즈 두께 색상 전부 마음에 들어요.', '정사이즈로 시켰는데 원하는 핏대로 나온거 같아요. 핏, 가격 다 마음에 들어요.', '처음 무신사에서 세미와이드 팬츠 신축성이 좋고 편해서 상의도 구매. 착용시 어깨 패드가 어깨 보다 튀어 나오지 않고 가격대비 퀄리티 너무 좋아요.', '무난무난하규 결혼식셋업이나 차려입을 때 좋아요', '사이즈 딱 맞고 좋아요 에누리없이 편하고 딱입니다', '마른편이라 오버사이즈나 릴렉스드말고 베이식이 딱이네요', '말이 필요한가요 무탠다드 아이템은 늘 옳죠 가성비 갑', '매년 한장 씩 스탠다드 세미와이드 필수 아이템 입니다. 올해는 쟈켓도 구매했는데 95사이즈는 정사이즈 보다 조금 커요 다른 브랜드 보다', '믿고사는 무탠다드에 옷걸이도 예쁩니다 좋아요', '덩치가 작아서 걱정했는데 옷이 의외로 잘맞아서 격식있는자리나 분위기있는자리에 유용해요', '옷이 완전 이뻐요 핏도 좋구 생각보다 안두꺼워 괜춘괜춘 ㅎ', '정장알못이라 걍 입는데 예쁘고 좋아요 재질빼고 훌륭', '깔끔하고 베이식하게 입기 좋은 블레이져라 좋아요', '네이비를 싫어해서 다른 색들만 다 모으고 있네요 세일 할 때마다 사는 중', '쿨탠다드 반팔이랑 같이 입었는데 잘 매치 되는 것 같아요. 사이즈도 꽤 넉넉해서 원하는 사이즈감을 얻어서 좋네요.', '셋업으로 입기 좋네요 색감 약간 차이잇긴한데 크게 불편하지않아요', '여름엔 좀 덥고', '세일할때 샀는데 이런 기본템은 그냥 무탠다드에요, 가을되면 신나게 입고 다닐꺼 같아요 !!', '믿고사는 무탠다드에 옷걸이도 예쁩니다 좋아요', '덩치가 작아서 걱정했는데 옷이 의외로 잘맞아서 격식있는자리나 분위기있는자리에 유용해요', '옷이 완전 이뻐요 핏도 좋구 생각보다 안두꺼워 괜춘괜춘 ㅎ', '정장알못이라 걍 입는데 예쁘고 좋아요 재질빼고 훌륭', '깔끔하고 베이식하게 입기 좋은 블레이져라 좋아요', '네이비를 싫어해서 다른 색들만 다 모으고 있네요 세일 할 때마다 사는 중', '쿨탠다드 반팔이랑 같이 입었는데 잘 매치 되는 것 같아요. 사이즈도 꽤 넉넉해서 원하는 사이즈감을 얻어서 좋네요.', '셋업으로 입기 좋네요 색감 약간 차이잇긴한데 크게 불편하지않아요', '여름엔 좀 덥고', '세일할때 샀는데 이런 기본템은 그냥 무탠다드에요, 가을되면 신나게 입고 다닐꺼 같아요 !!', '기본템으로 가지고 있기 좋은데 두께감이 있어서 요즘 날씨엔 못입을거 같네요 봄가을에 좋을거같아요', '오버핏을 선호하지 않아서 기본핏으로 구매했는데', '이쁜 연베이지 색감이에요', '셋업으로 구매했어요', '맘에 들어요 핏도 좋고 할인할 때 사서 너무 좋아요', '오버핏 블래이져로 안성맞춤입니다. 너무나 만족하는 제품이에요', '블레이저 처음 구매라면 정말 추천드립니다. 사이즈도 좋고 라인도 잘 빠지고 옷감도 고급진느낌이 납니다. 봄, 가을 입기에 좋은 두께감입니다', '역시 무난하면서도 스타일리쉬한 멋진 자켓입니다👍', '조금 작네요 살쪄서 그럴 수 있는데 살빼도 그냥 기본핏일것 같아요 그냥 한치수 크게 사시길 추천드려요', '좋아요 예쁘고요 사이즈도 잘 맞습니다', '기본템으로 가지고 있기 좋은데 두께감이 있어서 요즘 날씨엔 못입을거 같네요 봄가을에 좋을거같아요', '오버핏을 선호하지 않아서 기본핏으로 구매했는데', '이쁜 연베이지 색감이에요', '셋업으로 구매했어요', '맘에 들어요 핏도 좋고 할인할 때 사서 너무 좋아요', '오버핏 블래이져로 안성맞춤입니다. 너무나 만족하는 제품이에요', '블레이저 처음 구매라면 정말 추천드립니다. 사이즈도 좋고 라인도 잘 빠지고 옷감도 고급진느낌이 납니다. 봄, 가을 입기에 좋은 두께감입니다', '역시 무난하면서도 스타일리쉬한 멋진 자켓입니다👍', '조금 작네요 살쪄서 그럴 수 있는데 살빼도 그냥 기본핏일것 같아요 그냥 한치수 크게 사시길 추천드려요', '좋아요 예쁘고요 사이즈도 잘 맞습니다', '라이트 그레이 입고 싶었는데 색도 핏도 다 마음에 드네요!', '결혼식에 입으려고 샀는데 팔길이가 너무 길어서 좀 줄였습니다. 그 외에는 전반적으로 좋습니다.', '외출할 때 입기 좋습니다. 색도 적당히 예쁘고 크거나 작지도 않아요.', '역시 무탠다드 믿고 구매할만해요 자주입도록 할게요', '웨딩사진 잘 찍었습니다 사이즈도 좋고 아주 좋아요', '캐주얼이랑 정장 모두 어울리는 블레이저입니다. 어디든 입을 수 있어 가성비 좋게 산 것 같내요', '너무 잘 입고 다녀요 감사합니다 제품 왔을 때 깔끔하게 와서 좋았어요', '몸에 맞는 블레이저가 많지 않아서 옷을 사기 힘들어서 길이가 너무 길지 않을까 걱정했었는데 세미오버정도로 적당하게 맞아서 좋아요!!', '무탠다드는 항상 기본 이상하는거  같습니다.', '가격대비 품질이 괜찮음. 특별히 단점이 없다는것이 장점', '급하게 검은색 정장이 필요해서 구입했는데', '정장 브랜드들의 비슷한 옷과 비교해서 만족도가 훨씬 높았습니다. 사회초년생들이 입는 정장 브랜드에서도 가격이 몇 만원 더 비싼데 이 옷이랑 비교해서 크게 다른지는 모르겠습니다. 확실히 가격이 큰 강점입니다.', '가성비 최고입니다. 작을까봐 xl했다 커서 사이즈 교환했네요. 여름에 입기엔 좀 더움', '가성비 최고입니다. 작을까봐 xl했다 커서 사이즈 교환했네요. 여름에 입기엔 좀 더움', '가성비 정말 좋습니다 가격대비 퀄도 훌륭하구요', '가성비 대비 괜찮은 블레이저인거 같아요. 잘 입을거 같아요.', '어떠한 바지에도 잘 어울리고 뭐든 조합해서 입어도 이뻐요. 물론 모자도 잘 어울립니다.', '기본 마이로 그냥저냥 무난무난해요 무난해서 망할 일은 없는데 이쁘게 입기 어려운듯', '처음 입엇는데 수선도 해서 아주 맘에들게 착용중이에요', '핏도 좋고 옷도짱짱해서 계속 잘 입을것같습니다. 강추입니다.']\n"
     ]
    }
   ],
   "source": [
    "print(len(review_list))\n",
    "\n",
    "print(pd.DataFrame(review_list).value_counts())\n",
    "\n",
    "print(review_list)"
   ]
  },
  {
   "cell_type": "code",
   "execution_count": null,
   "metadata": {},
   "outputs": [],
   "source": []
  }
 ],
 "metadata": {
  "kernelspec": {
   "display_name": "Python 3.10.4",
   "language": "python",
   "name": "python3"
  },
  "language_info": {
   "codemirror_mode": {
    "name": "ipython",
    "version": 3
   },
   "file_extension": ".py",
   "mimetype": "text/x-python",
   "name": "python",
   "nbconvert_exporter": "python",
   "pygments_lexer": "ipython3",
   "version": "3.10.4"
  },
  "orig_nbformat": 4,
  "vscode": {
   "interpreter": {
    "hash": "4844811090fbd8f8e9c54c5064e77599870475ea544f68f1131d51aa0adf00b5"
   }
  }
 },
 "nbformat": 4,
 "nbformat_minor": 2
}
